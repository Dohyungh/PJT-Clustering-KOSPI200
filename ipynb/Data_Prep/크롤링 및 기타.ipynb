{
 "cells": [
  {
   "cell_type": "code",
   "execution_count": 1,
   "id": "2f1300c6",
   "metadata": {},
   "outputs": [],
   "source": [
    "import time\n",
    "import pandas as pd\n",
    "import numpy as np\n",
    "import requests\n",
    "from bs4 import BeautifulSoup\n",
    "from sklearn_extra.cluster import KMedoids\n",
    "\n",
    "from sklearn.cluster import KMeans\n",
    "from sklearn.decomposition import PCA\n",
    "from sklearn.decomposition import TruncatedSVD\n",
    "from sklearn.discriminant_analysis import LinearDiscriminantAnalysis\n",
    "import matplotlib.pyplot as plt\n",
    "import seaborn as sns\n",
    "from sklearn.mixture import GaussianMixture\n",
    "\n",
    "from sklearn.feature_extraction.text import TfidfTransformer\n",
    "from sklearn.feature_extraction.text import CountVectorizer\n",
    "from sklearn.cluster import estimate_bandwidth\n",
    "from sklearn.cluster import KMeans\n",
    "from sklearn.cluster import SpectralClustering\n",
    "from sklearn.cluster import MeanShift\n",
    "from sklearn.cluster import AgglomerativeClustering\n",
    "# from konlpy.tag import Komoran\n",
    "\n",
    "from pandas_datareader import data as pdr\n",
    "import yfinance as yfin\n",
    "from datetime import datetime\n",
    "\n",
    "from scipy.cluster.hierarchy import linkage \n",
    "from scipy.cluster.hierarchy import dendrogram \n",
    "\n",
    "from tslearn.clustering import TimeSeriesKMeans\n",
    "from tslearn.metrics import dtw\n",
    "\n",
    "import scipy.spatial.distance as ssd"
   ]
  },
  {
   "cell_type": "code",
   "execution_count": 5,
   "id": "da1912c7",
   "metadata": {},
   "outputs": [],
   "source": [
    "# 크롤링(종목코드, 종목명)\n",
    "\n",
    "url = \"https://finance.naver.com/sise/entryJongmok.naver?&page={}\"\n",
    "name_lists= []\n",
    "code_lists= []\n",
    "for j in range(1,21):\n",
    "    \n",
    "    r = requests.get(url.format(j), headers = {'User-agent':'Mozilla/5.0'})\n",
    "    html = r.text\n",
    "    page = BeautifulSoup(html, 'html.parser')\n",
    "    x = page.select('td[class=\"ctg\"]')\n",
    "\n",
    "    for i in range(0,10):\n",
    "        code = x[i].find(\"a\")[\"href\"][22:]\n",
    "        code_lists.append(code)\n",
    "        \n",
    "        name = page.select('td[class=\"ctg\"]')[i].a.text\n",
    "        name_lists.append(name)\n",
    "    # time.sleep(2)\n"
   ]
  },
  {
   "cell_type": "code",
   "execution_count": 6,
   "id": "1643d517",
   "metadata": {},
   "outputs": [
    {
     "data": {
      "text/html": [
       "<div>\n",
       "<style scoped>\n",
       "    .dataframe tbody tr th:only-of-type {\n",
       "        vertical-align: middle;\n",
       "    }\n",
       "\n",
       "    .dataframe tbody tr th {\n",
       "        vertical-align: top;\n",
       "    }\n",
       "\n",
       "    .dataframe thead th {\n",
       "        text-align: right;\n",
       "    }\n",
       "</style>\n",
       "<table border=\"1\" class=\"dataframe\">\n",
       "  <thead>\n",
       "    <tr style=\"text-align: right;\">\n",
       "      <th></th>\n",
       "      <th>name</th>\n",
       "      <th>code</th>\n",
       "    </tr>\n",
       "  </thead>\n",
       "  <tbody>\n",
       "    <tr>\n",
       "      <th>0</th>\n",
       "      <td>삼성전자</td>\n",
       "      <td>005930</td>\n",
       "    </tr>\n",
       "    <tr>\n",
       "      <th>1</th>\n",
       "      <td>SK하이닉스</td>\n",
       "      <td>000660</td>\n",
       "    </tr>\n",
       "    <tr>\n",
       "      <th>2</th>\n",
       "      <td>LG에너지솔루션</td>\n",
       "      <td>373220</td>\n",
       "    </tr>\n",
       "    <tr>\n",
       "      <th>3</th>\n",
       "      <td>현대차</td>\n",
       "      <td>005380</td>\n",
       "    </tr>\n",
       "    <tr>\n",
       "      <th>4</th>\n",
       "      <td>삼성바이오로직스</td>\n",
       "      <td>207940</td>\n",
       "    </tr>\n",
       "    <tr>\n",
       "      <th>...</th>\n",
       "      <td>...</td>\n",
       "      <td>...</td>\n",
       "    </tr>\n",
       "    <tr>\n",
       "      <th>195</th>\n",
       "      <td>롯데관광개발</td>\n",
       "      <td>032350</td>\n",
       "    </tr>\n",
       "    <tr>\n",
       "      <th>196</th>\n",
       "      <td>신풍제약</td>\n",
       "      <td>019170</td>\n",
       "    </tr>\n",
       "    <tr>\n",
       "      <th>197</th>\n",
       "      <td>KG스틸</td>\n",
       "      <td>016380</td>\n",
       "    </tr>\n",
       "    <tr>\n",
       "      <th>198</th>\n",
       "      <td>영풍</td>\n",
       "      <td>000670</td>\n",
       "    </tr>\n",
       "    <tr>\n",
       "      <th>199</th>\n",
       "      <td>녹십자홀딩스</td>\n",
       "      <td>005250</td>\n",
       "    </tr>\n",
       "  </tbody>\n",
       "</table>\n",
       "<p>200 rows × 2 columns</p>\n",
       "</div>"
      ],
      "text/plain": [
       "         name    code\n",
       "0        삼성전자  005930\n",
       "1      SK하이닉스  000660\n",
       "2    LG에너지솔루션  373220\n",
       "3         현대차  005380\n",
       "4    삼성바이오로직스  207940\n",
       "..        ...     ...\n",
       "195    롯데관광개발  032350\n",
       "196      신풍제약  019170\n",
       "197      KG스틸  016380\n",
       "198        영풍  000670\n",
       "199    녹십자홀딩스  005250\n",
       "\n",
       "[200 rows x 2 columns]"
      ]
     },
     "execution_count": 6,
     "metadata": {},
     "output_type": "execute_result"
    }
   ],
   "source": [
    "df = pd.DataFrame({\"name\": name_lists, \"code\": code_lists})\n",
    "df"
   ]
  },
  {
   "cell_type": "code",
   "execution_count": null,
   "id": "8a0cd02d",
   "metadata": {},
   "outputs": [],
   "source": [
    "#크롤링(기업개요)\n",
    "\n",
    "url = 'https://finance.naver.com/item/coinfo.naver?code={}'\n",
    "x1_list = []\n",
    "x2_list = []\n",
    "x3_list = []\n",
    "for i in code_lists:\n",
    "    r = requests.get(url.format(i), headers = {'User-agent':'Mozilla/5.0'})\n",
    "    html = r.text\n",
    "    page = BeautifulSoup(html, 'html.parser')\n",
    "    x1 = page.select('p')[0].text\n",
    "    x1_list.append(x1)\n",
    "    x2 = page.select('p')[1].text\n",
    "    x2_list.append(x2)\n",
    "    x3 = page.select('p')[2].text\n",
    "    x3_list.append(x3)\n",
    "df2['x1'] = x1_list\n",
    "df2['x2'] = x2_list\n",
    "df2['x3'] = x3_list\n",
    "df2"
   ]
  },
  {
   "cell_type": "code",
   "execution_count": null,
   "id": "a00350fd",
   "metadata": {},
   "outputs": [],
   "source": [
    "#기업개요 하나로 묶은 x 컬럼 생성\n",
    "x = []\n",
    "for i in range(0,200):\n",
    "    x.append(df.iloc[i][\"x1\"]+\" \"+df.iloc[i][\"x2\"]+\" \"+df.iloc[i][\"x3\"])\n",
    "df[\"x\"] = x\n",
    "df"
   ]
  },
  {
   "cell_type": "code",
   "execution_count": null,
   "id": "f76fa9e4",
   "metadata": {},
   "outputs": [],
   "source": [
    "# 크롤링 (업종)\n",
    "url = \"https://comp.fnguide.com/SVO2/ASP/SVD_Main.asp?pGB=1&gicode=A{}\"\n",
    "labels_kse = []\n",
    "labels_fics = []\n",
    "\n",
    "for j in range(0,200):\n",
    "    \n",
    "    r = requests.get(url.format(df.iloc[j][\"code\"]))\n",
    "    html = r.text\n",
    "    page = BeautifulSoup(html, 'html.parser')\n",
    "    y = page.select('span')[4].text\n",
    "    y2 = page.select('span')[7].text\n",
    "    y = y.replace('\\xa0',' ')\n",
    "    y2 = y2.replace('\\xa0',' ')\n",
    "    y = y[9:]\n",
    "    y2 = y2[6:]\n",
    "    y,y2\n",
    "    labels_kse.append(y)\n",
    "    labels_fics.append(y2)\n",
    "    time.sleep(0.5)\n",
    "    \n",
    "\n",
    "df[\"labels_kse\"] = labels_kse\n",
    "df[\"labels_fics\"] = labels_fics"
   ]
  },
  {
   "cell_type": "code",
   "execution_count": null,
   "id": "637cfd04",
   "metadata": {},
   "outputs": [],
   "source": [
    "# 크롤링 (PER)\n",
    "url = \"https://comp.fnguide.com/SVO2/ASP/SVD_Main.asp?pGB=1&gicode=A{}\"\n",
    "per = []\n",
    "\n",
    "for j in range(0,200):\n",
    "    r = requests.get(url.format(df_origin.iloc[j][\"code\"]))\n",
    "    html = r.text\n",
    "    page = BeautifulSoup(html, 'html.parser')\n",
    "    y = page.select('dd')[4].text\n",
    "    try :\n",
    "        per.append(float(y))\n",
    "    except :\n",
    "        y = None\n",
    "        per.append(y)\n",
    "\n",
    "df[\"PER\"] = per\n"
   ]
  },
  {
   "cell_type": "code",
   "execution_count": null,
   "id": "48a23367",
   "metadata": {},
   "outputs": [],
   "source": [
    "# 크롤링 (PBR)\n",
    "url = \"https://comp.fnguide.com/SVO2/ASP/SVD_Main.asp?pGB=1&gicode=A{}\"\n",
    "pbr = []\n",
    "\n",
    "for j in range(0,200):\n",
    "    r = requests.get(url.format(df_origin.iloc[j][\"code\"]))\n",
    "    html = r.text\n",
    "    page = BeautifulSoup(html, 'html.parser')\n",
    "    y = page.select('dd')[10].text\n",
    "    try :\n",
    "        pbr.append(float(y))\n",
    "    except :\n",
    "        y = None\n",
    "        pbr.append(y)\n",
    "\n",
    "df[\"PBR\"] = pbr"
   ]
  },
  {
   "cell_type": "code",
   "execution_count": null,
   "id": "c2dc11f2",
   "metadata": {},
   "outputs": [],
   "source": [
    "# 크롤링 (Dividend)\n",
    "url = \"https://comp.fnguide.com/SVO2/ASP/SVD_Main.asp?pGB=1&gicode=A{}\"\n",
    "pbr = []\n",
    "\n",
    "for j in range(0,200):\n",
    "    r = requests.get(url.format(df_origin.iloc[j][\"code\"]))\n",
    "    html = r.text\n",
    "    page = BeautifulSoup(html, 'html.parser')\n",
    "    y = page.select('dd')[12].text[:-1]\n",
    "    try :\n",
    "        pbr.append(float(y)/100)\n",
    "    except :\n",
    "        y = None\n",
    "        pbr.append(y)\n",
    "\n",
    "df[\"Dividend\"] = pbr"
   ]
  },
  {
   "cell_type": "code",
   "execution_count": null,
   "id": "5053d4b2",
   "metadata": {},
   "outputs": [],
   "source": [
    "# 크롤링 (EV/EBITDA)\n",
    "url = \"https://navercomp.wisereport.co.kr/v2/company/c1010001.aspx?cmp_cd={}&target=finsum_more\"\n",
    "pbr = []\n",
    "\n",
    "for j in range(0,200):\n",
    "    r = requests.get(url.format(df_origin.iloc[j][\"code\"]), headers = {'User-agent':'Mozilla/5.0'})\n",
    "    html = r.text\n",
    "    page = BeautifulSoup(html, 'html.parser')\n",
    "    y = page.select(\"td[class='num']\")[11].text\n",
    "    try :\n",
    "        pbr.append(float(y))\n",
    "    except :\n",
    "        y = None\n",
    "        pbr.append(y)\n",
    "\n",
    "df[\"EV/EBITDA\"] = pbr"
   ]
  },
  {
   "cell_type": "code",
   "execution_count": 5,
   "id": "1e119d53",
   "metadata": {},
   "outputs": [
    {
     "data": {
      "text/plain": [
       "'7.67'"
      ]
     },
     "execution_count": 5,
     "metadata": {},
     "output_type": "execute_result"
    }
   ],
   "source": [
    "# 크롤링 (PCR)\n",
    "url = \"https://navercomp.wisereport.co.kr/v2/company/c1010001.aspx?cmp_cd={}&target=finsum_more\"\n",
    "pbr = []\n",
    "\n",
    "r = requests.get(url.format('005930'), headers = {'User-agent':'Mozilla/5.0'})\n",
    "html = r.text\n",
    "page = BeautifulSoup(html, 'html.parser')\n",
    "y = page.select(\"td[class='num']\")[10].text\n",
    "y"
   ]
  },
  {
   "cell_type": "code",
   "execution_count": 7,
   "id": "6de3656d",
   "metadata": {},
   "outputs": [
    {
     "data": {
      "text/plain": [
       "'005930'"
      ]
     },
     "execution_count": 7,
     "metadata": {},
     "output_type": "execute_result"
    }
   ],
   "source": [
    "df.iloc[0][\"code\"]"
   ]
  },
  {
   "cell_type": "code",
   "execution_count": 8,
   "id": "cc52f48b",
   "metadata": {
    "scrolled": true
   },
   "outputs": [
    {
     "name": "stdout",
     "output_type": "stream",
     "text": [
      "[*********************100%***********************]  1 of 1 completed\n",
      "[*********************100%***********************]  1 of 1 completed\n",
      "[*********************100%***********************]  1 of 1 completed\n",
      "[*********************100%***********************]  1 of 1 completed\n",
      "[*********************100%***********************]  1 of 1 completed\n",
      "[*********************100%***********************]  1 of 1 completed\n",
      "[*********************100%***********************]  1 of 1 completed\n",
      "[*********************100%***********************]  1 of 1 completed\n",
      "[*********************100%***********************]  1 of 1 completed\n",
      "[*********************100%***********************]  1 of 1 completed\n",
      "[*********************100%***********************]  1 of 1 completed\n",
      "[*********************100%***********************]  1 of 1 completed\n",
      "[*********************100%***********************]  1 of 1 completed\n",
      "[*********************100%***********************]  1 of 1 completed\n",
      "[*********************100%***********************]  1 of 1 completed\n",
      "[*********************100%***********************]  1 of 1 completed\n",
      "[*********************100%***********************]  1 of 1 completed\n",
      "[*********************100%***********************]  1 of 1 completed\n",
      "[*********************100%***********************]  1 of 1 completed\n",
      "[*********************100%***********************]  1 of 1 completed\n",
      "[*********************100%***********************]  1 of 1 completed\n",
      "[*********************100%***********************]  1 of 1 completed\n",
      "[*********************100%***********************]  1 of 1 completed\n",
      "[*********************100%***********************]  1 of 1 completed\n",
      "[*********************100%***********************]  1 of 1 completed\n",
      "[*********************100%***********************]  1 of 1 completed\n",
      "[*********************100%***********************]  1 of 1 completed\n",
      "[*********************100%***********************]  1 of 1 completed\n",
      "[*********************100%***********************]  1 of 1 completed\n",
      "[*********************100%***********************]  1 of 1 completed\n",
      "[*********************100%***********************]  1 of 1 completed\n",
      "[*********************100%***********************]  1 of 1 completed\n",
      "[*********************100%***********************]  1 of 1 completed\n",
      "[*********************100%***********************]  1 of 1 completed\n",
      "[*********************100%***********************]  1 of 1 completed\n",
      "[*********************100%***********************]  1 of 1 completed\n",
      "[*********************100%***********************]  1 of 1 completed\n",
      "[*********************100%***********************]  1 of 1 completed\n",
      "[*********************100%***********************]  1 of 1 completed\n",
      "[*********************100%***********************]  1 of 1 completed\n",
      "[*********************100%***********************]  1 of 1 completed\n",
      "[*********************100%***********************]  1 of 1 completed\n",
      "[*********************100%***********************]  1 of 1 completed\n",
      "[*********************100%***********************]  1 of 1 completed\n",
      "[*********************100%***********************]  1 of 1 completed\n",
      "[*********************100%***********************]  1 of 1 completed\n",
      "[*********************100%***********************]  1 of 1 completed\n",
      "[*********************100%***********************]  1 of 1 completed\n",
      "[*********************100%***********************]  1 of 1 completed\n",
      "[*********************100%***********************]  1 of 1 completed\n",
      "[*********************100%***********************]  1 of 1 completed\n",
      "[*********************100%***********************]  1 of 1 completed\n",
      "[*********************100%***********************]  1 of 1 completed\n",
      "[*********************100%***********************]  1 of 1 completed\n",
      "[*********************100%***********************]  1 of 1 completed\n",
      "[*********************100%***********************]  1 of 1 completed\n",
      "[*********************100%***********************]  1 of 1 completed\n",
      "[*********************100%***********************]  1 of 1 completed\n",
      "[*********************100%***********************]  1 of 1 completed\n",
      "[*********************100%***********************]  1 of 1 completed\n",
      "[*********************100%***********************]  1 of 1 completed\n",
      "[*********************100%***********************]  1 of 1 completed\n",
      "[*********************100%***********************]  1 of 1 completed\n",
      "[*********************100%***********************]  1 of 1 completed\n",
      "[*********************100%***********************]  1 of 1 completed\n",
      "[*********************100%***********************]  1 of 1 completed\n",
      "[*********************100%***********************]  1 of 1 completed\n",
      "[*********************100%***********************]  1 of 1 completed\n",
      "[*********************100%***********************]  1 of 1 completed\n",
      "[*********************100%***********************]  1 of 1 completed\n",
      "[*********************100%***********************]  1 of 1 completed\n",
      "[*********************100%***********************]  1 of 1 completed\n",
      "[*********************100%***********************]  1 of 1 completed\n",
      "[*********************100%***********************]  1 of 1 completed\n",
      "[*********************100%***********************]  1 of 1 completed\n",
      "[*********************100%***********************]  1 of 1 completed\n",
      "[*********************100%***********************]  1 of 1 completed\n",
      "[*********************100%***********************]  1 of 1 completed\n",
      "[*********************100%***********************]  1 of 1 completed\n",
      "[*********************100%***********************]  1 of 1 completed\n",
      "[*********************100%***********************]  1 of 1 completed\n",
      "[*********************100%***********************]  1 of 1 completed\n",
      "[*********************100%***********************]  1 of 1 completed\n",
      "[*********************100%***********************]  1 of 1 completed\n",
      "[*********************100%***********************]  1 of 1 completed\n",
      "[*********************100%***********************]  1 of 1 completed\n",
      "[*********************100%***********************]  1 of 1 completed\n",
      "[*********************100%***********************]  1 of 1 completed\n",
      "[*********************100%***********************]  1 of 1 completed\n",
      "[*********************100%***********************]  1 of 1 completed\n",
      "[*********************100%***********************]  1 of 1 completed\n",
      "[*********************100%***********************]  1 of 1 completed\n",
      "[*********************100%***********************]  1 of 1 completed\n",
      "[*********************100%***********************]  1 of 1 completed\n",
      "[*********************100%***********************]  1 of 1 completed\n",
      "[*********************100%***********************]  1 of 1 completed\n",
      "[*********************100%***********************]  1 of 1 completed\n",
      "[*********************100%***********************]  1 of 1 completed\n",
      "[*********************100%***********************]  1 of 1 completed\n",
      "[*********************100%***********************]  1 of 1 completed\n",
      "[*********************100%***********************]  1 of 1 completed\n"
     ]
    },
    {
     "name": "stderr",
     "output_type": "stream",
     "text": [
      "<ipython-input-8-835fd22996db>:11: PerformanceWarning: DataFrame is highly fragmented.  This is usually the result of calling `frame.insert` many times, which has poor performance.  Consider joining all columns at once using pd.concat(axis=1) instead. To get a de-fragmented frame, use `newframe = frame.copy()`\n",
      "  df_price[df.iloc[i][\"name\"]] = pdr.get_data_yahoo(code.format(df.iloc[i][\"code\"]), start, end)[\"Close\"].copy()\n"
     ]
    },
    {
     "name": "stdout",
     "output_type": "stream",
     "text": [
      "[*********************100%***********************]  1 of 1 completed\n"
     ]
    },
    {
     "name": "stderr",
     "output_type": "stream",
     "text": [
      "<ipython-input-8-835fd22996db>:11: PerformanceWarning: DataFrame is highly fragmented.  This is usually the result of calling `frame.insert` many times, which has poor performance.  Consider joining all columns at once using pd.concat(axis=1) instead. To get a de-fragmented frame, use `newframe = frame.copy()`\n",
      "  df_price[df.iloc[i][\"name\"]] = pdr.get_data_yahoo(code.format(df.iloc[i][\"code\"]), start, end)[\"Close\"].copy()\n"
     ]
    },
    {
     "name": "stdout",
     "output_type": "stream",
     "text": [
      "[*********************100%***********************]  1 of 1 completed\n"
     ]
    },
    {
     "name": "stderr",
     "output_type": "stream",
     "text": [
      "<ipython-input-8-835fd22996db>:11: PerformanceWarning: DataFrame is highly fragmented.  This is usually the result of calling `frame.insert` many times, which has poor performance.  Consider joining all columns at once using pd.concat(axis=1) instead. To get a de-fragmented frame, use `newframe = frame.copy()`\n",
      "  df_price[df.iloc[i][\"name\"]] = pdr.get_data_yahoo(code.format(df.iloc[i][\"code\"]), start, end)[\"Close\"].copy()\n"
     ]
    },
    {
     "name": "stdout",
     "output_type": "stream",
     "text": [
      "[*********************100%***********************]  1 of 1 completed\n"
     ]
    },
    {
     "name": "stderr",
     "output_type": "stream",
     "text": [
      "<ipython-input-8-835fd22996db>:11: PerformanceWarning: DataFrame is highly fragmented.  This is usually the result of calling `frame.insert` many times, which has poor performance.  Consider joining all columns at once using pd.concat(axis=1) instead. To get a de-fragmented frame, use `newframe = frame.copy()`\n",
      "  df_price[df.iloc[i][\"name\"]] = pdr.get_data_yahoo(code.format(df.iloc[i][\"code\"]), start, end)[\"Close\"].copy()\n"
     ]
    },
    {
     "name": "stdout",
     "output_type": "stream",
     "text": [
      "[*********************100%***********************]  1 of 1 completed\n"
     ]
    },
    {
     "name": "stderr",
     "output_type": "stream",
     "text": [
      "<ipython-input-8-835fd22996db>:11: PerformanceWarning: DataFrame is highly fragmented.  This is usually the result of calling `frame.insert` many times, which has poor performance.  Consider joining all columns at once using pd.concat(axis=1) instead. To get a de-fragmented frame, use `newframe = frame.copy()`\n",
      "  df_price[df.iloc[i][\"name\"]] = pdr.get_data_yahoo(code.format(df.iloc[i][\"code\"]), start, end)[\"Close\"].copy()\n"
     ]
    },
    {
     "name": "stdout",
     "output_type": "stream",
     "text": [
      "[*********************100%***********************]  1 of 1 completed\n"
     ]
    },
    {
     "name": "stderr",
     "output_type": "stream",
     "text": [
      "<ipython-input-8-835fd22996db>:11: PerformanceWarning: DataFrame is highly fragmented.  This is usually the result of calling `frame.insert` many times, which has poor performance.  Consider joining all columns at once using pd.concat(axis=1) instead. To get a de-fragmented frame, use `newframe = frame.copy()`\n",
      "  df_price[df.iloc[i][\"name\"]] = pdr.get_data_yahoo(code.format(df.iloc[i][\"code\"]), start, end)[\"Close\"].copy()\n"
     ]
    },
    {
     "name": "stdout",
     "output_type": "stream",
     "text": [
      "[*********************100%***********************]  1 of 1 completed\n"
     ]
    },
    {
     "name": "stderr",
     "output_type": "stream",
     "text": [
      "<ipython-input-8-835fd22996db>:11: PerformanceWarning: DataFrame is highly fragmented.  This is usually the result of calling `frame.insert` many times, which has poor performance.  Consider joining all columns at once using pd.concat(axis=1) instead. To get a de-fragmented frame, use `newframe = frame.copy()`\n",
      "  df_price[df.iloc[i][\"name\"]] = pdr.get_data_yahoo(code.format(df.iloc[i][\"code\"]), start, end)[\"Close\"].copy()\n"
     ]
    },
    {
     "name": "stdout",
     "output_type": "stream",
     "text": [
      "[*********************100%***********************]  1 of 1 completed\n"
     ]
    },
    {
     "name": "stderr",
     "output_type": "stream",
     "text": [
      "<ipython-input-8-835fd22996db>:11: PerformanceWarning: DataFrame is highly fragmented.  This is usually the result of calling `frame.insert` many times, which has poor performance.  Consider joining all columns at once using pd.concat(axis=1) instead. To get a de-fragmented frame, use `newframe = frame.copy()`\n",
      "  df_price[df.iloc[i][\"name\"]] = pdr.get_data_yahoo(code.format(df.iloc[i][\"code\"]), start, end)[\"Close\"].copy()\n"
     ]
    },
    {
     "name": "stdout",
     "output_type": "stream",
     "text": [
      "[*********************100%***********************]  1 of 1 completed\n"
     ]
    },
    {
     "name": "stderr",
     "output_type": "stream",
     "text": [
      "<ipython-input-8-835fd22996db>:11: PerformanceWarning: DataFrame is highly fragmented.  This is usually the result of calling `frame.insert` many times, which has poor performance.  Consider joining all columns at once using pd.concat(axis=1) instead. To get a de-fragmented frame, use `newframe = frame.copy()`\n",
      "  df_price[df.iloc[i][\"name\"]] = pdr.get_data_yahoo(code.format(df.iloc[i][\"code\"]), start, end)[\"Close\"].copy()\n"
     ]
    },
    {
     "name": "stdout",
     "output_type": "stream",
     "text": [
      "[*********************100%***********************]  1 of 1 completed\n"
     ]
    },
    {
     "name": "stderr",
     "output_type": "stream",
     "text": [
      "<ipython-input-8-835fd22996db>:11: PerformanceWarning: DataFrame is highly fragmented.  This is usually the result of calling `frame.insert` many times, which has poor performance.  Consider joining all columns at once using pd.concat(axis=1) instead. To get a de-fragmented frame, use `newframe = frame.copy()`\n",
      "  df_price[df.iloc[i][\"name\"]] = pdr.get_data_yahoo(code.format(df.iloc[i][\"code\"]), start, end)[\"Close\"].copy()\n"
     ]
    },
    {
     "name": "stdout",
     "output_type": "stream",
     "text": [
      "[*********************100%***********************]  1 of 1 completed\n"
     ]
    },
    {
     "name": "stderr",
     "output_type": "stream",
     "text": [
      "<ipython-input-8-835fd22996db>:11: PerformanceWarning: DataFrame is highly fragmented.  This is usually the result of calling `frame.insert` many times, which has poor performance.  Consider joining all columns at once using pd.concat(axis=1) instead. To get a de-fragmented frame, use `newframe = frame.copy()`\n",
      "  df_price[df.iloc[i][\"name\"]] = pdr.get_data_yahoo(code.format(df.iloc[i][\"code\"]), start, end)[\"Close\"].copy()\n"
     ]
    },
    {
     "name": "stdout",
     "output_type": "stream",
     "text": [
      "[*********************100%***********************]  1 of 1 completed\n"
     ]
    },
    {
     "name": "stderr",
     "output_type": "stream",
     "text": [
      "<ipython-input-8-835fd22996db>:11: PerformanceWarning: DataFrame is highly fragmented.  This is usually the result of calling `frame.insert` many times, which has poor performance.  Consider joining all columns at once using pd.concat(axis=1) instead. To get a de-fragmented frame, use `newframe = frame.copy()`\n",
      "  df_price[df.iloc[i][\"name\"]] = pdr.get_data_yahoo(code.format(df.iloc[i][\"code\"]), start, end)[\"Close\"].copy()\n"
     ]
    },
    {
     "name": "stdout",
     "output_type": "stream",
     "text": [
      "[*********************100%***********************]  1 of 1 completed\n"
     ]
    },
    {
     "name": "stderr",
     "output_type": "stream",
     "text": [
      "<ipython-input-8-835fd22996db>:11: PerformanceWarning: DataFrame is highly fragmented.  This is usually the result of calling `frame.insert` many times, which has poor performance.  Consider joining all columns at once using pd.concat(axis=1) instead. To get a de-fragmented frame, use `newframe = frame.copy()`\n",
      "  df_price[df.iloc[i][\"name\"]] = pdr.get_data_yahoo(code.format(df.iloc[i][\"code\"]), start, end)[\"Close\"].copy()\n"
     ]
    },
    {
     "name": "stdout",
     "output_type": "stream",
     "text": [
      "[*********************100%***********************]  1 of 1 completed\n"
     ]
    },
    {
     "name": "stderr",
     "output_type": "stream",
     "text": [
      "<ipython-input-8-835fd22996db>:11: PerformanceWarning: DataFrame is highly fragmented.  This is usually the result of calling `frame.insert` many times, which has poor performance.  Consider joining all columns at once using pd.concat(axis=1) instead. To get a de-fragmented frame, use `newframe = frame.copy()`\n",
      "  df_price[df.iloc[i][\"name\"]] = pdr.get_data_yahoo(code.format(df.iloc[i][\"code\"]), start, end)[\"Close\"].copy()\n"
     ]
    },
    {
     "name": "stdout",
     "output_type": "stream",
     "text": [
      "[*********************100%***********************]  1 of 1 completed\n"
     ]
    },
    {
     "name": "stderr",
     "output_type": "stream",
     "text": [
      "<ipython-input-8-835fd22996db>:11: PerformanceWarning: DataFrame is highly fragmented.  This is usually the result of calling `frame.insert` many times, which has poor performance.  Consider joining all columns at once using pd.concat(axis=1) instead. To get a de-fragmented frame, use `newframe = frame.copy()`\n",
      "  df_price[df.iloc[i][\"name\"]] = pdr.get_data_yahoo(code.format(df.iloc[i][\"code\"]), start, end)[\"Close\"].copy()\n"
     ]
    },
    {
     "name": "stdout",
     "output_type": "stream",
     "text": [
      "[*********************100%***********************]  1 of 1 completed\n"
     ]
    },
    {
     "name": "stderr",
     "output_type": "stream",
     "text": [
      "<ipython-input-8-835fd22996db>:11: PerformanceWarning: DataFrame is highly fragmented.  This is usually the result of calling `frame.insert` many times, which has poor performance.  Consider joining all columns at once using pd.concat(axis=1) instead. To get a de-fragmented frame, use `newframe = frame.copy()`\n",
      "  df_price[df.iloc[i][\"name\"]] = pdr.get_data_yahoo(code.format(df.iloc[i][\"code\"]), start, end)[\"Close\"].copy()\n"
     ]
    },
    {
     "name": "stdout",
     "output_type": "stream",
     "text": [
      "[*********************100%***********************]  1 of 1 completed\n"
     ]
    },
    {
     "name": "stderr",
     "output_type": "stream",
     "text": [
      "<ipython-input-8-835fd22996db>:11: PerformanceWarning: DataFrame is highly fragmented.  This is usually the result of calling `frame.insert` many times, which has poor performance.  Consider joining all columns at once using pd.concat(axis=1) instead. To get a de-fragmented frame, use `newframe = frame.copy()`\n",
      "  df_price[df.iloc[i][\"name\"]] = pdr.get_data_yahoo(code.format(df.iloc[i][\"code\"]), start, end)[\"Close\"].copy()\n"
     ]
    },
    {
     "name": "stdout",
     "output_type": "stream",
     "text": [
      "[*********************100%***********************]  1 of 1 completed\n"
     ]
    },
    {
     "name": "stderr",
     "output_type": "stream",
     "text": [
      "<ipython-input-8-835fd22996db>:11: PerformanceWarning: DataFrame is highly fragmented.  This is usually the result of calling `frame.insert` many times, which has poor performance.  Consider joining all columns at once using pd.concat(axis=1) instead. To get a de-fragmented frame, use `newframe = frame.copy()`\n",
      "  df_price[df.iloc[i][\"name\"]] = pdr.get_data_yahoo(code.format(df.iloc[i][\"code\"]), start, end)[\"Close\"].copy()\n"
     ]
    },
    {
     "name": "stdout",
     "output_type": "stream",
     "text": [
      "[*********************100%***********************]  1 of 1 completed\n"
     ]
    },
    {
     "name": "stderr",
     "output_type": "stream",
     "text": [
      "<ipython-input-8-835fd22996db>:11: PerformanceWarning: DataFrame is highly fragmented.  This is usually the result of calling `frame.insert` many times, which has poor performance.  Consider joining all columns at once using pd.concat(axis=1) instead. To get a de-fragmented frame, use `newframe = frame.copy()`\n",
      "  df_price[df.iloc[i][\"name\"]] = pdr.get_data_yahoo(code.format(df.iloc[i][\"code\"]), start, end)[\"Close\"].copy()\n"
     ]
    },
    {
     "name": "stdout",
     "output_type": "stream",
     "text": [
      "[*********************100%***********************]  1 of 1 completed\n"
     ]
    },
    {
     "name": "stderr",
     "output_type": "stream",
     "text": [
      "<ipython-input-8-835fd22996db>:11: PerformanceWarning: DataFrame is highly fragmented.  This is usually the result of calling `frame.insert` many times, which has poor performance.  Consider joining all columns at once using pd.concat(axis=1) instead. To get a de-fragmented frame, use `newframe = frame.copy()`\n",
      "  df_price[df.iloc[i][\"name\"]] = pdr.get_data_yahoo(code.format(df.iloc[i][\"code\"]), start, end)[\"Close\"].copy()\n"
     ]
    },
    {
     "name": "stdout",
     "output_type": "stream",
     "text": [
      "[*********************100%***********************]  1 of 1 completed\n"
     ]
    },
    {
     "name": "stderr",
     "output_type": "stream",
     "text": [
      "<ipython-input-8-835fd22996db>:11: PerformanceWarning: DataFrame is highly fragmented.  This is usually the result of calling `frame.insert` many times, which has poor performance.  Consider joining all columns at once using pd.concat(axis=1) instead. To get a de-fragmented frame, use `newframe = frame.copy()`\n",
      "  df_price[df.iloc[i][\"name\"]] = pdr.get_data_yahoo(code.format(df.iloc[i][\"code\"]), start, end)[\"Close\"].copy()\n"
     ]
    },
    {
     "name": "stdout",
     "output_type": "stream",
     "text": [
      "[*********************100%***********************]  1 of 1 completed\n"
     ]
    },
    {
     "name": "stderr",
     "output_type": "stream",
     "text": [
      "<ipython-input-8-835fd22996db>:11: PerformanceWarning: DataFrame is highly fragmented.  This is usually the result of calling `frame.insert` many times, which has poor performance.  Consider joining all columns at once using pd.concat(axis=1) instead. To get a de-fragmented frame, use `newframe = frame.copy()`\n",
      "  df_price[df.iloc[i][\"name\"]] = pdr.get_data_yahoo(code.format(df.iloc[i][\"code\"]), start, end)[\"Close\"].copy()\n"
     ]
    },
    {
     "name": "stdout",
     "output_type": "stream",
     "text": [
      "[*********************100%***********************]  1 of 1 completed\n"
     ]
    },
    {
     "name": "stderr",
     "output_type": "stream",
     "text": [
      "<ipython-input-8-835fd22996db>:11: PerformanceWarning: DataFrame is highly fragmented.  This is usually the result of calling `frame.insert` many times, which has poor performance.  Consider joining all columns at once using pd.concat(axis=1) instead. To get a de-fragmented frame, use `newframe = frame.copy()`\n",
      "  df_price[df.iloc[i][\"name\"]] = pdr.get_data_yahoo(code.format(df.iloc[i][\"code\"]), start, end)[\"Close\"].copy()\n"
     ]
    },
    {
     "name": "stdout",
     "output_type": "stream",
     "text": [
      "[*********************100%***********************]  1 of 1 completed\n"
     ]
    },
    {
     "name": "stderr",
     "output_type": "stream",
     "text": [
      "<ipython-input-8-835fd22996db>:11: PerformanceWarning: DataFrame is highly fragmented.  This is usually the result of calling `frame.insert` many times, which has poor performance.  Consider joining all columns at once using pd.concat(axis=1) instead. To get a de-fragmented frame, use `newframe = frame.copy()`\n",
      "  df_price[df.iloc[i][\"name\"]] = pdr.get_data_yahoo(code.format(df.iloc[i][\"code\"]), start, end)[\"Close\"].copy()\n"
     ]
    },
    {
     "name": "stdout",
     "output_type": "stream",
     "text": [
      "[*********************100%***********************]  1 of 1 completed\n"
     ]
    },
    {
     "name": "stderr",
     "output_type": "stream",
     "text": [
      "<ipython-input-8-835fd22996db>:11: PerformanceWarning: DataFrame is highly fragmented.  This is usually the result of calling `frame.insert` many times, which has poor performance.  Consider joining all columns at once using pd.concat(axis=1) instead. To get a de-fragmented frame, use `newframe = frame.copy()`\n",
      "  df_price[df.iloc[i][\"name\"]] = pdr.get_data_yahoo(code.format(df.iloc[i][\"code\"]), start, end)[\"Close\"].copy()\n"
     ]
    },
    {
     "name": "stdout",
     "output_type": "stream",
     "text": [
      "[*********************100%***********************]  1 of 1 completed\n"
     ]
    },
    {
     "name": "stderr",
     "output_type": "stream",
     "text": [
      "<ipython-input-8-835fd22996db>:11: PerformanceWarning: DataFrame is highly fragmented.  This is usually the result of calling `frame.insert` many times, which has poor performance.  Consider joining all columns at once using pd.concat(axis=1) instead. To get a de-fragmented frame, use `newframe = frame.copy()`\n",
      "  df_price[df.iloc[i][\"name\"]] = pdr.get_data_yahoo(code.format(df.iloc[i][\"code\"]), start, end)[\"Close\"].copy()\n"
     ]
    },
    {
     "name": "stdout",
     "output_type": "stream",
     "text": [
      "[*********************100%***********************]  1 of 1 completed\n"
     ]
    },
    {
     "name": "stderr",
     "output_type": "stream",
     "text": [
      "<ipython-input-8-835fd22996db>:11: PerformanceWarning: DataFrame is highly fragmented.  This is usually the result of calling `frame.insert` many times, which has poor performance.  Consider joining all columns at once using pd.concat(axis=1) instead. To get a de-fragmented frame, use `newframe = frame.copy()`\n",
      "  df_price[df.iloc[i][\"name\"]] = pdr.get_data_yahoo(code.format(df.iloc[i][\"code\"]), start, end)[\"Close\"].copy()\n"
     ]
    },
    {
     "name": "stdout",
     "output_type": "stream",
     "text": [
      "[*********************100%***********************]  1 of 1 completed\n"
     ]
    },
    {
     "name": "stderr",
     "output_type": "stream",
     "text": [
      "<ipython-input-8-835fd22996db>:11: PerformanceWarning: DataFrame is highly fragmented.  This is usually the result of calling `frame.insert` many times, which has poor performance.  Consider joining all columns at once using pd.concat(axis=1) instead. To get a de-fragmented frame, use `newframe = frame.copy()`\n",
      "  df_price[df.iloc[i][\"name\"]] = pdr.get_data_yahoo(code.format(df.iloc[i][\"code\"]), start, end)[\"Close\"].copy()\n"
     ]
    },
    {
     "name": "stdout",
     "output_type": "stream",
     "text": [
      "[*********************100%***********************]  1 of 1 completed\n"
     ]
    },
    {
     "name": "stderr",
     "output_type": "stream",
     "text": [
      "<ipython-input-8-835fd22996db>:11: PerformanceWarning: DataFrame is highly fragmented.  This is usually the result of calling `frame.insert` many times, which has poor performance.  Consider joining all columns at once using pd.concat(axis=1) instead. To get a de-fragmented frame, use `newframe = frame.copy()`\n",
      "  df_price[df.iloc[i][\"name\"]] = pdr.get_data_yahoo(code.format(df.iloc[i][\"code\"]), start, end)[\"Close\"].copy()\n"
     ]
    },
    {
     "name": "stdout",
     "output_type": "stream",
     "text": [
      "[*********************100%***********************]  1 of 1 completed\n"
     ]
    },
    {
     "name": "stderr",
     "output_type": "stream",
     "text": [
      "<ipython-input-8-835fd22996db>:11: PerformanceWarning: DataFrame is highly fragmented.  This is usually the result of calling `frame.insert` many times, which has poor performance.  Consider joining all columns at once using pd.concat(axis=1) instead. To get a de-fragmented frame, use `newframe = frame.copy()`\n",
      "  df_price[df.iloc[i][\"name\"]] = pdr.get_data_yahoo(code.format(df.iloc[i][\"code\"]), start, end)[\"Close\"].copy()\n"
     ]
    },
    {
     "name": "stdout",
     "output_type": "stream",
     "text": [
      "[*********************100%***********************]  1 of 1 completed\n"
     ]
    },
    {
     "name": "stderr",
     "output_type": "stream",
     "text": [
      "<ipython-input-8-835fd22996db>:11: PerformanceWarning: DataFrame is highly fragmented.  This is usually the result of calling `frame.insert` many times, which has poor performance.  Consider joining all columns at once using pd.concat(axis=1) instead. To get a de-fragmented frame, use `newframe = frame.copy()`\n",
      "  df_price[df.iloc[i][\"name\"]] = pdr.get_data_yahoo(code.format(df.iloc[i][\"code\"]), start, end)[\"Close\"].copy()\n"
     ]
    },
    {
     "name": "stdout",
     "output_type": "stream",
     "text": [
      "[*********************100%***********************]  1 of 1 completed\n"
     ]
    },
    {
     "name": "stderr",
     "output_type": "stream",
     "text": [
      "<ipython-input-8-835fd22996db>:11: PerformanceWarning: DataFrame is highly fragmented.  This is usually the result of calling `frame.insert` many times, which has poor performance.  Consider joining all columns at once using pd.concat(axis=1) instead. To get a de-fragmented frame, use `newframe = frame.copy()`\n",
      "  df_price[df.iloc[i][\"name\"]] = pdr.get_data_yahoo(code.format(df.iloc[i][\"code\"]), start, end)[\"Close\"].copy()\n"
     ]
    },
    {
     "name": "stdout",
     "output_type": "stream",
     "text": [
      "[*********************100%***********************]  1 of 1 completed\n"
     ]
    },
    {
     "name": "stderr",
     "output_type": "stream",
     "text": [
      "<ipython-input-8-835fd22996db>:11: PerformanceWarning: DataFrame is highly fragmented.  This is usually the result of calling `frame.insert` many times, which has poor performance.  Consider joining all columns at once using pd.concat(axis=1) instead. To get a de-fragmented frame, use `newframe = frame.copy()`\n",
      "  df_price[df.iloc[i][\"name\"]] = pdr.get_data_yahoo(code.format(df.iloc[i][\"code\"]), start, end)[\"Close\"].copy()\n"
     ]
    },
    {
     "name": "stdout",
     "output_type": "stream",
     "text": [
      "[*********************100%***********************]  1 of 1 completed\n"
     ]
    },
    {
     "name": "stderr",
     "output_type": "stream",
     "text": [
      "<ipython-input-8-835fd22996db>:11: PerformanceWarning: DataFrame is highly fragmented.  This is usually the result of calling `frame.insert` many times, which has poor performance.  Consider joining all columns at once using pd.concat(axis=1) instead. To get a de-fragmented frame, use `newframe = frame.copy()`\n",
      "  df_price[df.iloc[i][\"name\"]] = pdr.get_data_yahoo(code.format(df.iloc[i][\"code\"]), start, end)[\"Close\"].copy()\n"
     ]
    },
    {
     "name": "stdout",
     "output_type": "stream",
     "text": [
      "[*********************100%***********************]  1 of 1 completed\n"
     ]
    },
    {
     "name": "stderr",
     "output_type": "stream",
     "text": [
      "<ipython-input-8-835fd22996db>:11: PerformanceWarning: DataFrame is highly fragmented.  This is usually the result of calling `frame.insert` many times, which has poor performance.  Consider joining all columns at once using pd.concat(axis=1) instead. To get a de-fragmented frame, use `newframe = frame.copy()`\n",
      "  df_price[df.iloc[i][\"name\"]] = pdr.get_data_yahoo(code.format(df.iloc[i][\"code\"]), start, end)[\"Close\"].copy()\n"
     ]
    },
    {
     "name": "stdout",
     "output_type": "stream",
     "text": [
      "[*********************100%***********************]  1 of 1 completed\n"
     ]
    },
    {
     "name": "stderr",
     "output_type": "stream",
     "text": [
      "<ipython-input-8-835fd22996db>:11: PerformanceWarning: DataFrame is highly fragmented.  This is usually the result of calling `frame.insert` many times, which has poor performance.  Consider joining all columns at once using pd.concat(axis=1) instead. To get a de-fragmented frame, use `newframe = frame.copy()`\n",
      "  df_price[df.iloc[i][\"name\"]] = pdr.get_data_yahoo(code.format(df.iloc[i][\"code\"]), start, end)[\"Close\"].copy()\n"
     ]
    },
    {
     "name": "stdout",
     "output_type": "stream",
     "text": [
      "[*********************100%***********************]  1 of 1 completed\n"
     ]
    },
    {
     "name": "stderr",
     "output_type": "stream",
     "text": [
      "<ipython-input-8-835fd22996db>:11: PerformanceWarning: DataFrame is highly fragmented.  This is usually the result of calling `frame.insert` many times, which has poor performance.  Consider joining all columns at once using pd.concat(axis=1) instead. To get a de-fragmented frame, use `newframe = frame.copy()`\n",
      "  df_price[df.iloc[i][\"name\"]] = pdr.get_data_yahoo(code.format(df.iloc[i][\"code\"]), start, end)[\"Close\"].copy()\n"
     ]
    },
    {
     "name": "stdout",
     "output_type": "stream",
     "text": [
      "[*********************100%***********************]  1 of 1 completed\n"
     ]
    },
    {
     "name": "stderr",
     "output_type": "stream",
     "text": [
      "<ipython-input-8-835fd22996db>:11: PerformanceWarning: DataFrame is highly fragmented.  This is usually the result of calling `frame.insert` many times, which has poor performance.  Consider joining all columns at once using pd.concat(axis=1) instead. To get a de-fragmented frame, use `newframe = frame.copy()`\n",
      "  df_price[df.iloc[i][\"name\"]] = pdr.get_data_yahoo(code.format(df.iloc[i][\"code\"]), start, end)[\"Close\"].copy()\n"
     ]
    },
    {
     "name": "stdout",
     "output_type": "stream",
     "text": [
      "[*********************100%***********************]  1 of 1 completed\n"
     ]
    },
    {
     "name": "stderr",
     "output_type": "stream",
     "text": [
      "<ipython-input-8-835fd22996db>:11: PerformanceWarning: DataFrame is highly fragmented.  This is usually the result of calling `frame.insert` many times, which has poor performance.  Consider joining all columns at once using pd.concat(axis=1) instead. To get a de-fragmented frame, use `newframe = frame.copy()`\n",
      "  df_price[df.iloc[i][\"name\"]] = pdr.get_data_yahoo(code.format(df.iloc[i][\"code\"]), start, end)[\"Close\"].copy()\n"
     ]
    },
    {
     "name": "stdout",
     "output_type": "stream",
     "text": [
      "[*********************100%***********************]  1 of 1 completed\n"
     ]
    },
    {
     "name": "stderr",
     "output_type": "stream",
     "text": [
      "<ipython-input-8-835fd22996db>:11: PerformanceWarning: DataFrame is highly fragmented.  This is usually the result of calling `frame.insert` many times, which has poor performance.  Consider joining all columns at once using pd.concat(axis=1) instead. To get a de-fragmented frame, use `newframe = frame.copy()`\n",
      "  df_price[df.iloc[i][\"name\"]] = pdr.get_data_yahoo(code.format(df.iloc[i][\"code\"]), start, end)[\"Close\"].copy()\n"
     ]
    },
    {
     "name": "stdout",
     "output_type": "stream",
     "text": [
      "[*********************100%***********************]  1 of 1 completed\n"
     ]
    },
    {
     "name": "stderr",
     "output_type": "stream",
     "text": [
      "<ipython-input-8-835fd22996db>:11: PerformanceWarning: DataFrame is highly fragmented.  This is usually the result of calling `frame.insert` many times, which has poor performance.  Consider joining all columns at once using pd.concat(axis=1) instead. To get a de-fragmented frame, use `newframe = frame.copy()`\n",
      "  df_price[df.iloc[i][\"name\"]] = pdr.get_data_yahoo(code.format(df.iloc[i][\"code\"]), start, end)[\"Close\"].copy()\n"
     ]
    },
    {
     "name": "stdout",
     "output_type": "stream",
     "text": [
      "[*********************100%***********************]  1 of 1 completed\n"
     ]
    },
    {
     "name": "stderr",
     "output_type": "stream",
     "text": [
      "<ipython-input-8-835fd22996db>:11: PerformanceWarning: DataFrame is highly fragmented.  This is usually the result of calling `frame.insert` many times, which has poor performance.  Consider joining all columns at once using pd.concat(axis=1) instead. To get a de-fragmented frame, use `newframe = frame.copy()`\n",
      "  df_price[df.iloc[i][\"name\"]] = pdr.get_data_yahoo(code.format(df.iloc[i][\"code\"]), start, end)[\"Close\"].copy()\n"
     ]
    },
    {
     "name": "stdout",
     "output_type": "stream",
     "text": [
      "[*********************100%***********************]  1 of 1 completed\n"
     ]
    },
    {
     "name": "stderr",
     "output_type": "stream",
     "text": [
      "<ipython-input-8-835fd22996db>:11: PerformanceWarning: DataFrame is highly fragmented.  This is usually the result of calling `frame.insert` many times, which has poor performance.  Consider joining all columns at once using pd.concat(axis=1) instead. To get a de-fragmented frame, use `newframe = frame.copy()`\n",
      "  df_price[df.iloc[i][\"name\"]] = pdr.get_data_yahoo(code.format(df.iloc[i][\"code\"]), start, end)[\"Close\"].copy()\n"
     ]
    },
    {
     "name": "stdout",
     "output_type": "stream",
     "text": [
      "[*********************100%***********************]  1 of 1 completed\n"
     ]
    },
    {
     "name": "stderr",
     "output_type": "stream",
     "text": [
      "<ipython-input-8-835fd22996db>:11: PerformanceWarning: DataFrame is highly fragmented.  This is usually the result of calling `frame.insert` many times, which has poor performance.  Consider joining all columns at once using pd.concat(axis=1) instead. To get a de-fragmented frame, use `newframe = frame.copy()`\n",
      "  df_price[df.iloc[i][\"name\"]] = pdr.get_data_yahoo(code.format(df.iloc[i][\"code\"]), start, end)[\"Close\"].copy()\n"
     ]
    },
    {
     "name": "stdout",
     "output_type": "stream",
     "text": [
      "[*********************100%***********************]  1 of 1 completed\n"
     ]
    },
    {
     "name": "stderr",
     "output_type": "stream",
     "text": [
      "<ipython-input-8-835fd22996db>:11: PerformanceWarning: DataFrame is highly fragmented.  This is usually the result of calling `frame.insert` many times, which has poor performance.  Consider joining all columns at once using pd.concat(axis=1) instead. To get a de-fragmented frame, use `newframe = frame.copy()`\n",
      "  df_price[df.iloc[i][\"name\"]] = pdr.get_data_yahoo(code.format(df.iloc[i][\"code\"]), start, end)[\"Close\"].copy()\n"
     ]
    },
    {
     "name": "stdout",
     "output_type": "stream",
     "text": [
      "[*********************100%***********************]  1 of 1 completed\n"
     ]
    },
    {
     "name": "stderr",
     "output_type": "stream",
     "text": [
      "<ipython-input-8-835fd22996db>:11: PerformanceWarning: DataFrame is highly fragmented.  This is usually the result of calling `frame.insert` many times, which has poor performance.  Consider joining all columns at once using pd.concat(axis=1) instead. To get a de-fragmented frame, use `newframe = frame.copy()`\n",
      "  df_price[df.iloc[i][\"name\"]] = pdr.get_data_yahoo(code.format(df.iloc[i][\"code\"]), start, end)[\"Close\"].copy()\n"
     ]
    },
    {
     "name": "stdout",
     "output_type": "stream",
     "text": [
      "[*********************100%***********************]  1 of 1 completed\n"
     ]
    },
    {
     "name": "stderr",
     "output_type": "stream",
     "text": [
      "<ipython-input-8-835fd22996db>:11: PerformanceWarning: DataFrame is highly fragmented.  This is usually the result of calling `frame.insert` many times, which has poor performance.  Consider joining all columns at once using pd.concat(axis=1) instead. To get a de-fragmented frame, use `newframe = frame.copy()`\n",
      "  df_price[df.iloc[i][\"name\"]] = pdr.get_data_yahoo(code.format(df.iloc[i][\"code\"]), start, end)[\"Close\"].copy()\n"
     ]
    },
    {
     "name": "stdout",
     "output_type": "stream",
     "text": [
      "[*********************100%***********************]  1 of 1 completed\n"
     ]
    },
    {
     "name": "stderr",
     "output_type": "stream",
     "text": [
      "<ipython-input-8-835fd22996db>:11: PerformanceWarning: DataFrame is highly fragmented.  This is usually the result of calling `frame.insert` many times, which has poor performance.  Consider joining all columns at once using pd.concat(axis=1) instead. To get a de-fragmented frame, use `newframe = frame.copy()`\n",
      "  df_price[df.iloc[i][\"name\"]] = pdr.get_data_yahoo(code.format(df.iloc[i][\"code\"]), start, end)[\"Close\"].copy()\n"
     ]
    },
    {
     "name": "stdout",
     "output_type": "stream",
     "text": [
      "[*********************100%***********************]  1 of 1 completed\n"
     ]
    },
    {
     "name": "stderr",
     "output_type": "stream",
     "text": [
      "<ipython-input-8-835fd22996db>:11: PerformanceWarning: DataFrame is highly fragmented.  This is usually the result of calling `frame.insert` many times, which has poor performance.  Consider joining all columns at once using pd.concat(axis=1) instead. To get a de-fragmented frame, use `newframe = frame.copy()`\n",
      "  df_price[df.iloc[i][\"name\"]] = pdr.get_data_yahoo(code.format(df.iloc[i][\"code\"]), start, end)[\"Close\"].copy()\n"
     ]
    },
    {
     "name": "stdout",
     "output_type": "stream",
     "text": [
      "[*********************100%***********************]  1 of 1 completed\n"
     ]
    },
    {
     "name": "stderr",
     "output_type": "stream",
     "text": [
      "<ipython-input-8-835fd22996db>:11: PerformanceWarning: DataFrame is highly fragmented.  This is usually the result of calling `frame.insert` many times, which has poor performance.  Consider joining all columns at once using pd.concat(axis=1) instead. To get a de-fragmented frame, use `newframe = frame.copy()`\n",
      "  df_price[df.iloc[i][\"name\"]] = pdr.get_data_yahoo(code.format(df.iloc[i][\"code\"]), start, end)[\"Close\"].copy()\n"
     ]
    },
    {
     "name": "stdout",
     "output_type": "stream",
     "text": [
      "[*********************100%***********************]  1 of 1 completed\n"
     ]
    },
    {
     "name": "stderr",
     "output_type": "stream",
     "text": [
      "<ipython-input-8-835fd22996db>:11: PerformanceWarning: DataFrame is highly fragmented.  This is usually the result of calling `frame.insert` many times, which has poor performance.  Consider joining all columns at once using pd.concat(axis=1) instead. To get a de-fragmented frame, use `newframe = frame.copy()`\n",
      "  df_price[df.iloc[i][\"name\"]] = pdr.get_data_yahoo(code.format(df.iloc[i][\"code\"]), start, end)[\"Close\"].copy()\n"
     ]
    },
    {
     "name": "stdout",
     "output_type": "stream",
     "text": [
      "[*********************100%***********************]  1 of 1 completed\n"
     ]
    },
    {
     "name": "stderr",
     "output_type": "stream",
     "text": [
      "<ipython-input-8-835fd22996db>:11: PerformanceWarning: DataFrame is highly fragmented.  This is usually the result of calling `frame.insert` many times, which has poor performance.  Consider joining all columns at once using pd.concat(axis=1) instead. To get a de-fragmented frame, use `newframe = frame.copy()`\n",
      "  df_price[df.iloc[i][\"name\"]] = pdr.get_data_yahoo(code.format(df.iloc[i][\"code\"]), start, end)[\"Close\"].copy()\n"
     ]
    },
    {
     "name": "stdout",
     "output_type": "stream",
     "text": [
      "[*********************100%***********************]  1 of 1 completed\n"
     ]
    },
    {
     "name": "stderr",
     "output_type": "stream",
     "text": [
      "<ipython-input-8-835fd22996db>:11: PerformanceWarning: DataFrame is highly fragmented.  This is usually the result of calling `frame.insert` many times, which has poor performance.  Consider joining all columns at once using pd.concat(axis=1) instead. To get a de-fragmented frame, use `newframe = frame.copy()`\n",
      "  df_price[df.iloc[i][\"name\"]] = pdr.get_data_yahoo(code.format(df.iloc[i][\"code\"]), start, end)[\"Close\"].copy()\n"
     ]
    },
    {
     "name": "stdout",
     "output_type": "stream",
     "text": [
      "[*********************100%***********************]  1 of 1 completed\n"
     ]
    },
    {
     "name": "stderr",
     "output_type": "stream",
     "text": [
      "<ipython-input-8-835fd22996db>:11: PerformanceWarning: DataFrame is highly fragmented.  This is usually the result of calling `frame.insert` many times, which has poor performance.  Consider joining all columns at once using pd.concat(axis=1) instead. To get a de-fragmented frame, use `newframe = frame.copy()`\n",
      "  df_price[df.iloc[i][\"name\"]] = pdr.get_data_yahoo(code.format(df.iloc[i][\"code\"]), start, end)[\"Close\"].copy()\n"
     ]
    },
    {
     "name": "stdout",
     "output_type": "stream",
     "text": [
      "[*********************100%***********************]  1 of 1 completed\n"
     ]
    },
    {
     "name": "stderr",
     "output_type": "stream",
     "text": [
      "<ipython-input-8-835fd22996db>:11: PerformanceWarning: DataFrame is highly fragmented.  This is usually the result of calling `frame.insert` many times, which has poor performance.  Consider joining all columns at once using pd.concat(axis=1) instead. To get a de-fragmented frame, use `newframe = frame.copy()`\n",
      "  df_price[df.iloc[i][\"name\"]] = pdr.get_data_yahoo(code.format(df.iloc[i][\"code\"]), start, end)[\"Close\"].copy()\n"
     ]
    },
    {
     "name": "stdout",
     "output_type": "stream",
     "text": [
      "[*********************100%***********************]  1 of 1 completed\n"
     ]
    },
    {
     "name": "stderr",
     "output_type": "stream",
     "text": [
      "<ipython-input-8-835fd22996db>:11: PerformanceWarning: DataFrame is highly fragmented.  This is usually the result of calling `frame.insert` many times, which has poor performance.  Consider joining all columns at once using pd.concat(axis=1) instead. To get a de-fragmented frame, use `newframe = frame.copy()`\n",
      "  df_price[df.iloc[i][\"name\"]] = pdr.get_data_yahoo(code.format(df.iloc[i][\"code\"]), start, end)[\"Close\"].copy()\n"
     ]
    },
    {
     "name": "stdout",
     "output_type": "stream",
     "text": [
      "[*********************100%***********************]  1 of 1 completed\n"
     ]
    },
    {
     "name": "stderr",
     "output_type": "stream",
     "text": [
      "<ipython-input-8-835fd22996db>:11: PerformanceWarning: DataFrame is highly fragmented.  This is usually the result of calling `frame.insert` many times, which has poor performance.  Consider joining all columns at once using pd.concat(axis=1) instead. To get a de-fragmented frame, use `newframe = frame.copy()`\n",
      "  df_price[df.iloc[i][\"name\"]] = pdr.get_data_yahoo(code.format(df.iloc[i][\"code\"]), start, end)[\"Close\"].copy()\n"
     ]
    },
    {
     "name": "stdout",
     "output_type": "stream",
     "text": [
      "[*********************100%***********************]  1 of 1 completed\n"
     ]
    },
    {
     "name": "stderr",
     "output_type": "stream",
     "text": [
      "<ipython-input-8-835fd22996db>:11: PerformanceWarning: DataFrame is highly fragmented.  This is usually the result of calling `frame.insert` many times, which has poor performance.  Consider joining all columns at once using pd.concat(axis=1) instead. To get a de-fragmented frame, use `newframe = frame.copy()`\n",
      "  df_price[df.iloc[i][\"name\"]] = pdr.get_data_yahoo(code.format(df.iloc[i][\"code\"]), start, end)[\"Close\"].copy()\n"
     ]
    },
    {
     "name": "stdout",
     "output_type": "stream",
     "text": [
      "[*********************100%***********************]  1 of 1 completed\n"
     ]
    },
    {
     "name": "stderr",
     "output_type": "stream",
     "text": [
      "<ipython-input-8-835fd22996db>:11: PerformanceWarning: DataFrame is highly fragmented.  This is usually the result of calling `frame.insert` many times, which has poor performance.  Consider joining all columns at once using pd.concat(axis=1) instead. To get a de-fragmented frame, use `newframe = frame.copy()`\n",
      "  df_price[df.iloc[i][\"name\"]] = pdr.get_data_yahoo(code.format(df.iloc[i][\"code\"]), start, end)[\"Close\"].copy()\n"
     ]
    },
    {
     "name": "stdout",
     "output_type": "stream",
     "text": [
      "[*********************100%***********************]  1 of 1 completed\n"
     ]
    },
    {
     "name": "stderr",
     "output_type": "stream",
     "text": [
      "<ipython-input-8-835fd22996db>:11: PerformanceWarning: DataFrame is highly fragmented.  This is usually the result of calling `frame.insert` many times, which has poor performance.  Consider joining all columns at once using pd.concat(axis=1) instead. To get a de-fragmented frame, use `newframe = frame.copy()`\n",
      "  df_price[df.iloc[i][\"name\"]] = pdr.get_data_yahoo(code.format(df.iloc[i][\"code\"]), start, end)[\"Close\"].copy()\n"
     ]
    },
    {
     "name": "stdout",
     "output_type": "stream",
     "text": [
      "[*********************100%***********************]  1 of 1 completed\n"
     ]
    },
    {
     "name": "stderr",
     "output_type": "stream",
     "text": [
      "<ipython-input-8-835fd22996db>:11: PerformanceWarning: DataFrame is highly fragmented.  This is usually the result of calling `frame.insert` many times, which has poor performance.  Consider joining all columns at once using pd.concat(axis=1) instead. To get a de-fragmented frame, use `newframe = frame.copy()`\n",
      "  df_price[df.iloc[i][\"name\"]] = pdr.get_data_yahoo(code.format(df.iloc[i][\"code\"]), start, end)[\"Close\"].copy()\n"
     ]
    },
    {
     "name": "stdout",
     "output_type": "stream",
     "text": [
      "[*********************100%***********************]  1 of 1 completed\n"
     ]
    },
    {
     "name": "stderr",
     "output_type": "stream",
     "text": [
      "<ipython-input-8-835fd22996db>:11: PerformanceWarning: DataFrame is highly fragmented.  This is usually the result of calling `frame.insert` many times, which has poor performance.  Consider joining all columns at once using pd.concat(axis=1) instead. To get a de-fragmented frame, use `newframe = frame.copy()`\n",
      "  df_price[df.iloc[i][\"name\"]] = pdr.get_data_yahoo(code.format(df.iloc[i][\"code\"]), start, end)[\"Close\"].copy()\n"
     ]
    },
    {
     "name": "stdout",
     "output_type": "stream",
     "text": [
      "[*********************100%***********************]  1 of 1 completed\n"
     ]
    },
    {
     "name": "stderr",
     "output_type": "stream",
     "text": [
      "<ipython-input-8-835fd22996db>:11: PerformanceWarning: DataFrame is highly fragmented.  This is usually the result of calling `frame.insert` many times, which has poor performance.  Consider joining all columns at once using pd.concat(axis=1) instead. To get a de-fragmented frame, use `newframe = frame.copy()`\n",
      "  df_price[df.iloc[i][\"name\"]] = pdr.get_data_yahoo(code.format(df.iloc[i][\"code\"]), start, end)[\"Close\"].copy()\n"
     ]
    },
    {
     "name": "stdout",
     "output_type": "stream",
     "text": [
      "[*********************100%***********************]  1 of 1 completed\n"
     ]
    },
    {
     "name": "stderr",
     "output_type": "stream",
     "text": [
      "<ipython-input-8-835fd22996db>:11: PerformanceWarning: DataFrame is highly fragmented.  This is usually the result of calling `frame.insert` many times, which has poor performance.  Consider joining all columns at once using pd.concat(axis=1) instead. To get a de-fragmented frame, use `newframe = frame.copy()`\n",
      "  df_price[df.iloc[i][\"name\"]] = pdr.get_data_yahoo(code.format(df.iloc[i][\"code\"]), start, end)[\"Close\"].copy()\n"
     ]
    },
    {
     "name": "stdout",
     "output_type": "stream",
     "text": [
      "[*********************100%***********************]  1 of 1 completed\n"
     ]
    },
    {
     "name": "stderr",
     "output_type": "stream",
     "text": [
      "<ipython-input-8-835fd22996db>:11: PerformanceWarning: DataFrame is highly fragmented.  This is usually the result of calling `frame.insert` many times, which has poor performance.  Consider joining all columns at once using pd.concat(axis=1) instead. To get a de-fragmented frame, use `newframe = frame.copy()`\n",
      "  df_price[df.iloc[i][\"name\"]] = pdr.get_data_yahoo(code.format(df.iloc[i][\"code\"]), start, end)[\"Close\"].copy()\n"
     ]
    },
    {
     "name": "stdout",
     "output_type": "stream",
     "text": [
      "[*********************100%***********************]  1 of 1 completed\n"
     ]
    },
    {
     "name": "stderr",
     "output_type": "stream",
     "text": [
      "<ipython-input-8-835fd22996db>:11: PerformanceWarning: DataFrame is highly fragmented.  This is usually the result of calling `frame.insert` many times, which has poor performance.  Consider joining all columns at once using pd.concat(axis=1) instead. To get a de-fragmented frame, use `newframe = frame.copy()`\n",
      "  df_price[df.iloc[i][\"name\"]] = pdr.get_data_yahoo(code.format(df.iloc[i][\"code\"]), start, end)[\"Close\"].copy()\n"
     ]
    },
    {
     "name": "stdout",
     "output_type": "stream",
     "text": [
      "[*********************100%***********************]  1 of 1 completed\n"
     ]
    },
    {
     "name": "stderr",
     "output_type": "stream",
     "text": [
      "<ipython-input-8-835fd22996db>:11: PerformanceWarning: DataFrame is highly fragmented.  This is usually the result of calling `frame.insert` many times, which has poor performance.  Consider joining all columns at once using pd.concat(axis=1) instead. To get a de-fragmented frame, use `newframe = frame.copy()`\n",
      "  df_price[df.iloc[i][\"name\"]] = pdr.get_data_yahoo(code.format(df.iloc[i][\"code\"]), start, end)[\"Close\"].copy()\n"
     ]
    },
    {
     "name": "stdout",
     "output_type": "stream",
     "text": [
      "[*********************100%***********************]  1 of 1 completed\n"
     ]
    },
    {
     "name": "stderr",
     "output_type": "stream",
     "text": [
      "<ipython-input-8-835fd22996db>:11: PerformanceWarning: DataFrame is highly fragmented.  This is usually the result of calling `frame.insert` many times, which has poor performance.  Consider joining all columns at once using pd.concat(axis=1) instead. To get a de-fragmented frame, use `newframe = frame.copy()`\n",
      "  df_price[df.iloc[i][\"name\"]] = pdr.get_data_yahoo(code.format(df.iloc[i][\"code\"]), start, end)[\"Close\"].copy()\n"
     ]
    },
    {
     "name": "stdout",
     "output_type": "stream",
     "text": [
      "[*********************100%***********************]  1 of 1 completed\n"
     ]
    },
    {
     "name": "stderr",
     "output_type": "stream",
     "text": [
      "<ipython-input-8-835fd22996db>:11: PerformanceWarning: DataFrame is highly fragmented.  This is usually the result of calling `frame.insert` many times, which has poor performance.  Consider joining all columns at once using pd.concat(axis=1) instead. To get a de-fragmented frame, use `newframe = frame.copy()`\n",
      "  df_price[df.iloc[i][\"name\"]] = pdr.get_data_yahoo(code.format(df.iloc[i][\"code\"]), start, end)[\"Close\"].copy()\n"
     ]
    },
    {
     "name": "stdout",
     "output_type": "stream",
     "text": [
      "[*********************100%***********************]  1 of 1 completed\n"
     ]
    },
    {
     "name": "stderr",
     "output_type": "stream",
     "text": [
      "<ipython-input-8-835fd22996db>:11: PerformanceWarning: DataFrame is highly fragmented.  This is usually the result of calling `frame.insert` many times, which has poor performance.  Consider joining all columns at once using pd.concat(axis=1) instead. To get a de-fragmented frame, use `newframe = frame.copy()`\n",
      "  df_price[df.iloc[i][\"name\"]] = pdr.get_data_yahoo(code.format(df.iloc[i][\"code\"]), start, end)[\"Close\"].copy()\n"
     ]
    },
    {
     "name": "stdout",
     "output_type": "stream",
     "text": [
      "[*********************100%***********************]  1 of 1 completed\n"
     ]
    },
    {
     "name": "stderr",
     "output_type": "stream",
     "text": [
      "<ipython-input-8-835fd22996db>:11: PerformanceWarning: DataFrame is highly fragmented.  This is usually the result of calling `frame.insert` many times, which has poor performance.  Consider joining all columns at once using pd.concat(axis=1) instead. To get a de-fragmented frame, use `newframe = frame.copy()`\n",
      "  df_price[df.iloc[i][\"name\"]] = pdr.get_data_yahoo(code.format(df.iloc[i][\"code\"]), start, end)[\"Close\"].copy()\n"
     ]
    },
    {
     "name": "stdout",
     "output_type": "stream",
     "text": [
      "[*********************100%***********************]  1 of 1 completed\n"
     ]
    },
    {
     "name": "stderr",
     "output_type": "stream",
     "text": [
      "<ipython-input-8-835fd22996db>:11: PerformanceWarning: DataFrame is highly fragmented.  This is usually the result of calling `frame.insert` many times, which has poor performance.  Consider joining all columns at once using pd.concat(axis=1) instead. To get a de-fragmented frame, use `newframe = frame.copy()`\n",
      "  df_price[df.iloc[i][\"name\"]] = pdr.get_data_yahoo(code.format(df.iloc[i][\"code\"]), start, end)[\"Close\"].copy()\n"
     ]
    },
    {
     "name": "stdout",
     "output_type": "stream",
     "text": [
      "[*********************100%***********************]  1 of 1 completed\n"
     ]
    },
    {
     "name": "stderr",
     "output_type": "stream",
     "text": [
      "<ipython-input-8-835fd22996db>:11: PerformanceWarning: DataFrame is highly fragmented.  This is usually the result of calling `frame.insert` many times, which has poor performance.  Consider joining all columns at once using pd.concat(axis=1) instead. To get a de-fragmented frame, use `newframe = frame.copy()`\n",
      "  df_price[df.iloc[i][\"name\"]] = pdr.get_data_yahoo(code.format(df.iloc[i][\"code\"]), start, end)[\"Close\"].copy()\n"
     ]
    },
    {
     "name": "stdout",
     "output_type": "stream",
     "text": [
      "[*********************100%***********************]  1 of 1 completed\n"
     ]
    },
    {
     "name": "stderr",
     "output_type": "stream",
     "text": [
      "<ipython-input-8-835fd22996db>:11: PerformanceWarning: DataFrame is highly fragmented.  This is usually the result of calling `frame.insert` many times, which has poor performance.  Consider joining all columns at once using pd.concat(axis=1) instead. To get a de-fragmented frame, use `newframe = frame.copy()`\n",
      "  df_price[df.iloc[i][\"name\"]] = pdr.get_data_yahoo(code.format(df.iloc[i][\"code\"]), start, end)[\"Close\"].copy()\n"
     ]
    },
    {
     "name": "stdout",
     "output_type": "stream",
     "text": [
      "[*********************100%***********************]  1 of 1 completed\n"
     ]
    },
    {
     "name": "stderr",
     "output_type": "stream",
     "text": [
      "<ipython-input-8-835fd22996db>:11: PerformanceWarning: DataFrame is highly fragmented.  This is usually the result of calling `frame.insert` many times, which has poor performance.  Consider joining all columns at once using pd.concat(axis=1) instead. To get a de-fragmented frame, use `newframe = frame.copy()`\n",
      "  df_price[df.iloc[i][\"name\"]] = pdr.get_data_yahoo(code.format(df.iloc[i][\"code\"]), start, end)[\"Close\"].copy()\n"
     ]
    },
    {
     "name": "stdout",
     "output_type": "stream",
     "text": [
      "[*********************100%***********************]  1 of 1 completed\n"
     ]
    },
    {
     "name": "stderr",
     "output_type": "stream",
     "text": [
      "<ipython-input-8-835fd22996db>:11: PerformanceWarning: DataFrame is highly fragmented.  This is usually the result of calling `frame.insert` many times, which has poor performance.  Consider joining all columns at once using pd.concat(axis=1) instead. To get a de-fragmented frame, use `newframe = frame.copy()`\n",
      "  df_price[df.iloc[i][\"name\"]] = pdr.get_data_yahoo(code.format(df.iloc[i][\"code\"]), start, end)[\"Close\"].copy()\n"
     ]
    },
    {
     "name": "stdout",
     "output_type": "stream",
     "text": [
      "[*********************100%***********************]  1 of 1 completed\n"
     ]
    },
    {
     "name": "stderr",
     "output_type": "stream",
     "text": [
      "<ipython-input-8-835fd22996db>:11: PerformanceWarning: DataFrame is highly fragmented.  This is usually the result of calling `frame.insert` many times, which has poor performance.  Consider joining all columns at once using pd.concat(axis=1) instead. To get a de-fragmented frame, use `newframe = frame.copy()`\n",
      "  df_price[df.iloc[i][\"name\"]] = pdr.get_data_yahoo(code.format(df.iloc[i][\"code\"]), start, end)[\"Close\"].copy()\n"
     ]
    },
    {
     "name": "stdout",
     "output_type": "stream",
     "text": [
      "[*********************100%***********************]  1 of 1 completed\n"
     ]
    },
    {
     "name": "stderr",
     "output_type": "stream",
     "text": [
      "<ipython-input-8-835fd22996db>:11: PerformanceWarning: DataFrame is highly fragmented.  This is usually the result of calling `frame.insert` many times, which has poor performance.  Consider joining all columns at once using pd.concat(axis=1) instead. To get a de-fragmented frame, use `newframe = frame.copy()`\n",
      "  df_price[df.iloc[i][\"name\"]] = pdr.get_data_yahoo(code.format(df.iloc[i][\"code\"]), start, end)[\"Close\"].copy()\n"
     ]
    },
    {
     "name": "stdout",
     "output_type": "stream",
     "text": [
      "[*********************100%***********************]  1 of 1 completed\n"
     ]
    },
    {
     "name": "stderr",
     "output_type": "stream",
     "text": [
      "<ipython-input-8-835fd22996db>:11: PerformanceWarning: DataFrame is highly fragmented.  This is usually the result of calling `frame.insert` many times, which has poor performance.  Consider joining all columns at once using pd.concat(axis=1) instead. To get a de-fragmented frame, use `newframe = frame.copy()`\n",
      "  df_price[df.iloc[i][\"name\"]] = pdr.get_data_yahoo(code.format(df.iloc[i][\"code\"]), start, end)[\"Close\"].copy()\n"
     ]
    },
    {
     "name": "stdout",
     "output_type": "stream",
     "text": [
      "[*********************100%***********************]  1 of 1 completed\n"
     ]
    },
    {
     "name": "stderr",
     "output_type": "stream",
     "text": [
      "<ipython-input-8-835fd22996db>:11: PerformanceWarning: DataFrame is highly fragmented.  This is usually the result of calling `frame.insert` many times, which has poor performance.  Consider joining all columns at once using pd.concat(axis=1) instead. To get a de-fragmented frame, use `newframe = frame.copy()`\n",
      "  df_price[df.iloc[i][\"name\"]] = pdr.get_data_yahoo(code.format(df.iloc[i][\"code\"]), start, end)[\"Close\"].copy()\n"
     ]
    },
    {
     "name": "stdout",
     "output_type": "stream",
     "text": [
      "[*********************100%***********************]  1 of 1 completed\n"
     ]
    },
    {
     "name": "stderr",
     "output_type": "stream",
     "text": [
      "<ipython-input-8-835fd22996db>:11: PerformanceWarning: DataFrame is highly fragmented.  This is usually the result of calling `frame.insert` many times, which has poor performance.  Consider joining all columns at once using pd.concat(axis=1) instead. To get a de-fragmented frame, use `newframe = frame.copy()`\n",
      "  df_price[df.iloc[i][\"name\"]] = pdr.get_data_yahoo(code.format(df.iloc[i][\"code\"]), start, end)[\"Close\"].copy()\n"
     ]
    },
    {
     "name": "stdout",
     "output_type": "stream",
     "text": [
      "[*********************100%***********************]  1 of 1 completed\n"
     ]
    },
    {
     "name": "stderr",
     "output_type": "stream",
     "text": [
      "<ipython-input-8-835fd22996db>:11: PerformanceWarning: DataFrame is highly fragmented.  This is usually the result of calling `frame.insert` many times, which has poor performance.  Consider joining all columns at once using pd.concat(axis=1) instead. To get a de-fragmented frame, use `newframe = frame.copy()`\n",
      "  df_price[df.iloc[i][\"name\"]] = pdr.get_data_yahoo(code.format(df.iloc[i][\"code\"]), start, end)[\"Close\"].copy()\n"
     ]
    },
    {
     "name": "stdout",
     "output_type": "stream",
     "text": [
      "[*********************100%***********************]  1 of 1 completed\n"
     ]
    },
    {
     "name": "stderr",
     "output_type": "stream",
     "text": [
      "<ipython-input-8-835fd22996db>:11: PerformanceWarning: DataFrame is highly fragmented.  This is usually the result of calling `frame.insert` many times, which has poor performance.  Consider joining all columns at once using pd.concat(axis=1) instead. To get a de-fragmented frame, use `newframe = frame.copy()`\n",
      "  df_price[df.iloc[i][\"name\"]] = pdr.get_data_yahoo(code.format(df.iloc[i][\"code\"]), start, end)[\"Close\"].copy()\n"
     ]
    },
    {
     "name": "stdout",
     "output_type": "stream",
     "text": [
      "[*********************100%***********************]  1 of 1 completed\n"
     ]
    },
    {
     "name": "stderr",
     "output_type": "stream",
     "text": [
      "<ipython-input-8-835fd22996db>:11: PerformanceWarning: DataFrame is highly fragmented.  This is usually the result of calling `frame.insert` many times, which has poor performance.  Consider joining all columns at once using pd.concat(axis=1) instead. To get a de-fragmented frame, use `newframe = frame.copy()`\n",
      "  df_price[df.iloc[i][\"name\"]] = pdr.get_data_yahoo(code.format(df.iloc[i][\"code\"]), start, end)[\"Close\"].copy()\n"
     ]
    },
    {
     "name": "stdout",
     "output_type": "stream",
     "text": [
      "[*********************100%***********************]  1 of 1 completed\n"
     ]
    },
    {
     "name": "stderr",
     "output_type": "stream",
     "text": [
      "<ipython-input-8-835fd22996db>:11: PerformanceWarning: DataFrame is highly fragmented.  This is usually the result of calling `frame.insert` many times, which has poor performance.  Consider joining all columns at once using pd.concat(axis=1) instead. To get a de-fragmented frame, use `newframe = frame.copy()`\n",
      "  df_price[df.iloc[i][\"name\"]] = pdr.get_data_yahoo(code.format(df.iloc[i][\"code\"]), start, end)[\"Close\"].copy()\n"
     ]
    },
    {
     "name": "stdout",
     "output_type": "stream",
     "text": [
      "[*********************100%***********************]  1 of 1 completed\n"
     ]
    },
    {
     "name": "stderr",
     "output_type": "stream",
     "text": [
      "<ipython-input-8-835fd22996db>:11: PerformanceWarning: DataFrame is highly fragmented.  This is usually the result of calling `frame.insert` many times, which has poor performance.  Consider joining all columns at once using pd.concat(axis=1) instead. To get a de-fragmented frame, use `newframe = frame.copy()`\n",
      "  df_price[df.iloc[i][\"name\"]] = pdr.get_data_yahoo(code.format(df.iloc[i][\"code\"]), start, end)[\"Close\"].copy()\n"
     ]
    },
    {
     "name": "stdout",
     "output_type": "stream",
     "text": [
      "[*********************100%***********************]  1 of 1 completed\n"
     ]
    },
    {
     "name": "stderr",
     "output_type": "stream",
     "text": [
      "<ipython-input-8-835fd22996db>:11: PerformanceWarning: DataFrame is highly fragmented.  This is usually the result of calling `frame.insert` many times, which has poor performance.  Consider joining all columns at once using pd.concat(axis=1) instead. To get a de-fragmented frame, use `newframe = frame.copy()`\n",
      "  df_price[df.iloc[i][\"name\"]] = pdr.get_data_yahoo(code.format(df.iloc[i][\"code\"]), start, end)[\"Close\"].copy()\n"
     ]
    },
    {
     "name": "stdout",
     "output_type": "stream",
     "text": [
      "[*********************100%***********************]  1 of 1 completed\n"
     ]
    },
    {
     "name": "stderr",
     "output_type": "stream",
     "text": [
      "<ipython-input-8-835fd22996db>:11: PerformanceWarning: DataFrame is highly fragmented.  This is usually the result of calling `frame.insert` many times, which has poor performance.  Consider joining all columns at once using pd.concat(axis=1) instead. To get a de-fragmented frame, use `newframe = frame.copy()`\n",
      "  df_price[df.iloc[i][\"name\"]] = pdr.get_data_yahoo(code.format(df.iloc[i][\"code\"]), start, end)[\"Close\"].copy()\n"
     ]
    },
    {
     "name": "stdout",
     "output_type": "stream",
     "text": [
      "[*********************100%***********************]  1 of 1 completed\n"
     ]
    },
    {
     "name": "stderr",
     "output_type": "stream",
     "text": [
      "<ipython-input-8-835fd22996db>:11: PerformanceWarning: DataFrame is highly fragmented.  This is usually the result of calling `frame.insert` many times, which has poor performance.  Consider joining all columns at once using pd.concat(axis=1) instead. To get a de-fragmented frame, use `newframe = frame.copy()`\n",
      "  df_price[df.iloc[i][\"name\"]] = pdr.get_data_yahoo(code.format(df.iloc[i][\"code\"]), start, end)[\"Close\"].copy()\n"
     ]
    },
    {
     "name": "stdout",
     "output_type": "stream",
     "text": [
      "[*********************100%***********************]  1 of 1 completed\n"
     ]
    },
    {
     "name": "stderr",
     "output_type": "stream",
     "text": [
      "<ipython-input-8-835fd22996db>:11: PerformanceWarning: DataFrame is highly fragmented.  This is usually the result of calling `frame.insert` many times, which has poor performance.  Consider joining all columns at once using pd.concat(axis=1) instead. To get a de-fragmented frame, use `newframe = frame.copy()`\n",
      "  df_price[df.iloc[i][\"name\"]] = pdr.get_data_yahoo(code.format(df.iloc[i][\"code\"]), start, end)[\"Close\"].copy()\n"
     ]
    },
    {
     "name": "stdout",
     "output_type": "stream",
     "text": [
      "[*********************100%***********************]  1 of 1 completed\n"
     ]
    },
    {
     "name": "stderr",
     "output_type": "stream",
     "text": [
      "<ipython-input-8-835fd22996db>:11: PerformanceWarning: DataFrame is highly fragmented.  This is usually the result of calling `frame.insert` many times, which has poor performance.  Consider joining all columns at once using pd.concat(axis=1) instead. To get a de-fragmented frame, use `newframe = frame.copy()`\n",
      "  df_price[df.iloc[i][\"name\"]] = pdr.get_data_yahoo(code.format(df.iloc[i][\"code\"]), start, end)[\"Close\"].copy()\n"
     ]
    },
    {
     "name": "stdout",
     "output_type": "stream",
     "text": [
      "[*********************100%***********************]  1 of 1 completed\n"
     ]
    },
    {
     "name": "stderr",
     "output_type": "stream",
     "text": [
      "<ipython-input-8-835fd22996db>:11: PerformanceWarning: DataFrame is highly fragmented.  This is usually the result of calling `frame.insert` many times, which has poor performance.  Consider joining all columns at once using pd.concat(axis=1) instead. To get a de-fragmented frame, use `newframe = frame.copy()`\n",
      "  df_price[df.iloc[i][\"name\"]] = pdr.get_data_yahoo(code.format(df.iloc[i][\"code\"]), start, end)[\"Close\"].copy()\n"
     ]
    },
    {
     "name": "stdout",
     "output_type": "stream",
     "text": [
      "[*********************100%***********************]  1 of 1 completed\n"
     ]
    },
    {
     "name": "stderr",
     "output_type": "stream",
     "text": [
      "<ipython-input-8-835fd22996db>:11: PerformanceWarning: DataFrame is highly fragmented.  This is usually the result of calling `frame.insert` many times, which has poor performance.  Consider joining all columns at once using pd.concat(axis=1) instead. To get a de-fragmented frame, use `newframe = frame.copy()`\n",
      "  df_price[df.iloc[i][\"name\"]] = pdr.get_data_yahoo(code.format(df.iloc[i][\"code\"]), start, end)[\"Close\"].copy()\n"
     ]
    },
    {
     "name": "stdout",
     "output_type": "stream",
     "text": [
      "[*********************100%***********************]  1 of 1 completed\n"
     ]
    },
    {
     "name": "stderr",
     "output_type": "stream",
     "text": [
      "<ipython-input-8-835fd22996db>:11: PerformanceWarning: DataFrame is highly fragmented.  This is usually the result of calling `frame.insert` many times, which has poor performance.  Consider joining all columns at once using pd.concat(axis=1) instead. To get a de-fragmented frame, use `newframe = frame.copy()`\n",
      "  df_price[df.iloc[i][\"name\"]] = pdr.get_data_yahoo(code.format(df.iloc[i][\"code\"]), start, end)[\"Close\"].copy()\n"
     ]
    },
    {
     "name": "stdout",
     "output_type": "stream",
     "text": [
      "[*********************100%***********************]  1 of 1 completed\n"
     ]
    },
    {
     "name": "stderr",
     "output_type": "stream",
     "text": [
      "<ipython-input-8-835fd22996db>:11: PerformanceWarning: DataFrame is highly fragmented.  This is usually the result of calling `frame.insert` many times, which has poor performance.  Consider joining all columns at once using pd.concat(axis=1) instead. To get a de-fragmented frame, use `newframe = frame.copy()`\n",
      "  df_price[df.iloc[i][\"name\"]] = pdr.get_data_yahoo(code.format(df.iloc[i][\"code\"]), start, end)[\"Close\"].copy()\n"
     ]
    },
    {
     "name": "stdout",
     "output_type": "stream",
     "text": [
      "[*********************100%***********************]  1 of 1 completed\n"
     ]
    },
    {
     "name": "stderr",
     "output_type": "stream",
     "text": [
      "<ipython-input-8-835fd22996db>:11: PerformanceWarning: DataFrame is highly fragmented.  This is usually the result of calling `frame.insert` many times, which has poor performance.  Consider joining all columns at once using pd.concat(axis=1) instead. To get a de-fragmented frame, use `newframe = frame.copy()`\n",
      "  df_price[df.iloc[i][\"name\"]] = pdr.get_data_yahoo(code.format(df.iloc[i][\"code\"]), start, end)[\"Close\"].copy()\n"
     ]
    },
    {
     "name": "stdout",
     "output_type": "stream",
     "text": [
      "[*********************100%***********************]  1 of 1 completed\n"
     ]
    },
    {
     "name": "stderr",
     "output_type": "stream",
     "text": [
      "<ipython-input-8-835fd22996db>:11: PerformanceWarning: DataFrame is highly fragmented.  This is usually the result of calling `frame.insert` many times, which has poor performance.  Consider joining all columns at once using pd.concat(axis=1) instead. To get a de-fragmented frame, use `newframe = frame.copy()`\n",
      "  df_price[df.iloc[i][\"name\"]] = pdr.get_data_yahoo(code.format(df.iloc[i][\"code\"]), start, end)[\"Close\"].copy()\n"
     ]
    },
    {
     "name": "stdout",
     "output_type": "stream",
     "text": [
      "[*********************100%***********************]  1 of 1 completed\n"
     ]
    },
    {
     "name": "stderr",
     "output_type": "stream",
     "text": [
      "<ipython-input-8-835fd22996db>:11: PerformanceWarning: DataFrame is highly fragmented.  This is usually the result of calling `frame.insert` many times, which has poor performance.  Consider joining all columns at once using pd.concat(axis=1) instead. To get a de-fragmented frame, use `newframe = frame.copy()`\n",
      "  df_price[df.iloc[i][\"name\"]] = pdr.get_data_yahoo(code.format(df.iloc[i][\"code\"]), start, end)[\"Close\"].copy()\n"
     ]
    },
    {
     "name": "stdout",
     "output_type": "stream",
     "text": [
      "[*********************100%***********************]  1 of 1 completed\n"
     ]
    },
    {
     "name": "stderr",
     "output_type": "stream",
     "text": [
      "<ipython-input-8-835fd22996db>:11: PerformanceWarning: DataFrame is highly fragmented.  This is usually the result of calling `frame.insert` many times, which has poor performance.  Consider joining all columns at once using pd.concat(axis=1) instead. To get a de-fragmented frame, use `newframe = frame.copy()`\n",
      "  df_price[df.iloc[i][\"name\"]] = pdr.get_data_yahoo(code.format(df.iloc[i][\"code\"]), start, end)[\"Close\"].copy()\n"
     ]
    },
    {
     "name": "stdout",
     "output_type": "stream",
     "text": [
      "[*********************100%***********************]  1 of 1 completed\n"
     ]
    },
    {
     "name": "stderr",
     "output_type": "stream",
     "text": [
      "<ipython-input-8-835fd22996db>:11: PerformanceWarning: DataFrame is highly fragmented.  This is usually the result of calling `frame.insert` many times, which has poor performance.  Consider joining all columns at once using pd.concat(axis=1) instead. To get a de-fragmented frame, use `newframe = frame.copy()`\n",
      "  df_price[df.iloc[i][\"name\"]] = pdr.get_data_yahoo(code.format(df.iloc[i][\"code\"]), start, end)[\"Close\"].copy()\n"
     ]
    },
    {
     "data": {
      "text/html": [
       "<div>\n",
       "<style scoped>\n",
       "    .dataframe tbody tr th:only-of-type {\n",
       "        vertical-align: middle;\n",
       "    }\n",
       "\n",
       "    .dataframe tbody tr th {\n",
       "        vertical-align: top;\n",
       "    }\n",
       "\n",
       "    .dataframe thead th {\n",
       "        text-align: right;\n",
       "    }\n",
       "</style>\n",
       "<table border=\"1\" class=\"dataframe\">\n",
       "  <thead>\n",
       "    <tr style=\"text-align: right;\">\n",
       "      <th></th>\n",
       "      <th>삼성전자</th>\n",
       "      <th>SK하이닉스</th>\n",
       "      <th>LG에너지솔루션</th>\n",
       "      <th>현대차</th>\n",
       "      <th>삼성바이오로직스</th>\n",
       "      <th>기아</th>\n",
       "      <th>셀트리온</th>\n",
       "      <th>POSCO홀딩스</th>\n",
       "      <th>KB금융</th>\n",
       "      <th>NAVER</th>\n",
       "      <th>...</th>\n",
       "      <th>후성</th>\n",
       "      <th>세아베스틸지주</th>\n",
       "      <th>아이에스동서</th>\n",
       "      <th>TKG휴켐스</th>\n",
       "      <th>명신산업</th>\n",
       "      <th>롯데관광개발</th>\n",
       "      <th>신풍제약</th>\n",
       "      <th>KG스틸</th>\n",
       "      <th>영풍</th>\n",
       "      <th>녹십자홀딩스</th>\n",
       "    </tr>\n",
       "    <tr>\n",
       "      <th>Date</th>\n",
       "      <th></th>\n",
       "      <th></th>\n",
       "      <th></th>\n",
       "      <th></th>\n",
       "      <th></th>\n",
       "      <th></th>\n",
       "      <th></th>\n",
       "      <th></th>\n",
       "      <th></th>\n",
       "      <th></th>\n",
       "      <th></th>\n",
       "      <th></th>\n",
       "      <th></th>\n",
       "      <th></th>\n",
       "      <th></th>\n",
       "      <th></th>\n",
       "      <th></th>\n",
       "      <th></th>\n",
       "      <th></th>\n",
       "      <th></th>\n",
       "      <th></th>\n",
       "    </tr>\n",
       "  </thead>\n",
       "  <tbody>\n",
       "    <tr>\n",
       "      <th>2021-04-01</th>\n",
       "      <td>82900.0</td>\n",
       "      <td>140500.0</td>\n",
       "      <td>NaN</td>\n",
       "      <td>219000.0</td>\n",
       "      <td>739153.8750</td>\n",
       "      <td>83500.0</td>\n",
       "      <td>305901.21875</td>\n",
       "      <td>318500.0</td>\n",
       "      <td>55000.0</td>\n",
       "      <td>378500.0</td>\n",
       "      <td>...</td>\n",
       "      <td>10550.0</td>\n",
       "      <td>18950.0</td>\n",
       "      <td>56500.0</td>\n",
       "      <td>22200.0</td>\n",
       "      <td>25650.0</td>\n",
       "      <td>19500.0</td>\n",
       "      <td>82900.0</td>\n",
       "      <td>14550.0</td>\n",
       "      <td>582000.0</td>\n",
       "      <td>34700.0</td>\n",
       "    </tr>\n",
       "    <tr>\n",
       "      <th>2021-04-02</th>\n",
       "      <td>84800.0</td>\n",
       "      <td>141000.0</td>\n",
       "      <td>NaN</td>\n",
       "      <td>233500.0</td>\n",
       "      <td>736185.3750</td>\n",
       "      <td>86600.0</td>\n",
       "      <td>302130.46875</td>\n",
       "      <td>318500.0</td>\n",
       "      <td>53900.0</td>\n",
       "      <td>379500.0</td>\n",
       "      <td>...</td>\n",
       "      <td>10450.0</td>\n",
       "      <td>18300.0</td>\n",
       "      <td>56000.0</td>\n",
       "      <td>22050.0</td>\n",
       "      <td>26200.0</td>\n",
       "      <td>19300.0</td>\n",
       "      <td>81300.0</td>\n",
       "      <td>14150.0</td>\n",
       "      <td>581000.0</td>\n",
       "      <td>34400.0</td>\n",
       "    </tr>\n",
       "    <tr>\n",
       "      <th>2021-04-05</th>\n",
       "      <td>85400.0</td>\n",
       "      <td>143000.0</td>\n",
       "      <td>NaN</td>\n",
       "      <td>234000.0</td>\n",
       "      <td>742122.3750</td>\n",
       "      <td>85500.0</td>\n",
       "      <td>290346.90625</td>\n",
       "      <td>334500.0</td>\n",
       "      <td>54600.0</td>\n",
       "      <td>377000.0</td>\n",
       "      <td>...</td>\n",
       "      <td>10150.0</td>\n",
       "      <td>18750.0</td>\n",
       "      <td>56400.0</td>\n",
       "      <td>22250.0</td>\n",
       "      <td>27900.0</td>\n",
       "      <td>19050.0</td>\n",
       "      <td>85300.0</td>\n",
       "      <td>14600.0</td>\n",
       "      <td>588000.0</td>\n",
       "      <td>33750.0</td>\n",
       "    </tr>\n",
       "    <tr>\n",
       "      <th>2021-04-06</th>\n",
       "      <td>86000.0</td>\n",
       "      <td>143000.0</td>\n",
       "      <td>NaN</td>\n",
       "      <td>230000.0</td>\n",
       "      <td>746080.3750</td>\n",
       "      <td>84900.0</td>\n",
       "      <td>286104.81250</td>\n",
       "      <td>328500.0</td>\n",
       "      <td>53000.0</td>\n",
       "      <td>388500.0</td>\n",
       "      <td>...</td>\n",
       "      <td>10250.0</td>\n",
       "      <td>18400.0</td>\n",
       "      <td>56400.0</td>\n",
       "      <td>22100.0</td>\n",
       "      <td>27600.0</td>\n",
       "      <td>19950.0</td>\n",
       "      <td>84200.0</td>\n",
       "      <td>14400.0</td>\n",
       "      <td>591000.0</td>\n",
       "      <td>32550.0</td>\n",
       "    </tr>\n",
       "    <tr>\n",
       "      <th>2021-04-07</th>\n",
       "      <td>85600.0</td>\n",
       "      <td>143500.0</td>\n",
       "      <td>NaN</td>\n",
       "      <td>230000.0</td>\n",
       "      <td>756964.8125</td>\n",
       "      <td>85300.0</td>\n",
       "      <td>288461.53125</td>\n",
       "      <td>329000.0</td>\n",
       "      <td>53600.0</td>\n",
       "      <td>384500.0</td>\n",
       "      <td>...</td>\n",
       "      <td>10200.0</td>\n",
       "      <td>19000.0</td>\n",
       "      <td>55600.0</td>\n",
       "      <td>22400.0</td>\n",
       "      <td>27200.0</td>\n",
       "      <td>19950.0</td>\n",
       "      <td>85900.0</td>\n",
       "      <td>15800.0</td>\n",
       "      <td>589000.0</td>\n",
       "      <td>32950.0</td>\n",
       "    </tr>\n",
       "    <tr>\n",
       "      <th>...</th>\n",
       "      <td>...</td>\n",
       "      <td>...</td>\n",
       "      <td>...</td>\n",
       "      <td>...</td>\n",
       "      <td>...</td>\n",
       "      <td>...</td>\n",
       "      <td>...</td>\n",
       "      <td>...</td>\n",
       "      <td>...</td>\n",
       "      <td>...</td>\n",
       "      <td>...</td>\n",
       "      <td>...</td>\n",
       "      <td>...</td>\n",
       "      <td>...</td>\n",
       "      <td>...</td>\n",
       "      <td>...</td>\n",
       "      <td>...</td>\n",
       "      <td>...</td>\n",
       "      <td>...</td>\n",
       "      <td>...</td>\n",
       "      <td>...</td>\n",
       "    </tr>\n",
       "    <tr>\n",
       "      <th>2024-03-25</th>\n",
       "      <td>78200.0</td>\n",
       "      <td>169400.0</td>\n",
       "      <td>414500.0</td>\n",
       "      <td>239500.0</td>\n",
       "      <td>840000.0000</td>\n",
       "      <td>111500.0</td>\n",
       "      <td>188900.00000</td>\n",
       "      <td>432000.0</td>\n",
       "      <td>72000.0</td>\n",
       "      <td>188000.0</td>\n",
       "      <td>...</td>\n",
       "      <td>7940.0</td>\n",
       "      <td>23100.0</td>\n",
       "      <td>29850.0</td>\n",
       "      <td>19950.0</td>\n",
       "      <td>15460.0</td>\n",
       "      <td>9150.0</td>\n",
       "      <td>18320.0</td>\n",
       "      <td>7000.0</td>\n",
       "      <td>475000.0</td>\n",
       "      <td>17790.0</td>\n",
       "    </tr>\n",
       "    <tr>\n",
       "      <th>2024-03-26</th>\n",
       "      <td>79900.0</td>\n",
       "      <td>176600.0</td>\n",
       "      <td>406000.0</td>\n",
       "      <td>240500.0</td>\n",
       "      <td>828000.0000</td>\n",
       "      <td>114400.0</td>\n",
       "      <td>186400.00000</td>\n",
       "      <td>429000.0</td>\n",
       "      <td>71800.0</td>\n",
       "      <td>188900.0</td>\n",
       "      <td>...</td>\n",
       "      <td>7900.0</td>\n",
       "      <td>23350.0</td>\n",
       "      <td>29600.0</td>\n",
       "      <td>19960.0</td>\n",
       "      <td>15460.0</td>\n",
       "      <td>9450.0</td>\n",
       "      <td>16820.0</td>\n",
       "      <td>7150.0</td>\n",
       "      <td>476500.0</td>\n",
       "      <td>17800.0</td>\n",
       "    </tr>\n",
       "    <tr>\n",
       "      <th>2024-03-27</th>\n",
       "      <td>79800.0</td>\n",
       "      <td>181200.0</td>\n",
       "      <td>409000.0</td>\n",
       "      <td>244000.0</td>\n",
       "      <td>836000.0000</td>\n",
       "      <td>113600.0</td>\n",
       "      <td>184200.00000</td>\n",
       "      <td>428000.0</td>\n",
       "      <td>69000.0</td>\n",
       "      <td>189300.0</td>\n",
       "      <td>...</td>\n",
       "      <td>7980.0</td>\n",
       "      <td>22900.0</td>\n",
       "      <td>29250.0</td>\n",
       "      <td>19960.0</td>\n",
       "      <td>15820.0</td>\n",
       "      <td>9990.0</td>\n",
       "      <td>16150.0</td>\n",
       "      <td>7150.0</td>\n",
       "      <td>479500.0</td>\n",
       "      <td>17680.0</td>\n",
       "    </tr>\n",
       "    <tr>\n",
       "      <th>2024-03-28</th>\n",
       "      <td>80800.0</td>\n",
       "      <td>178200.0</td>\n",
       "      <td>401500.0</td>\n",
       "      <td>237000.0</td>\n",
       "      <td>833000.0000</td>\n",
       "      <td>112000.0</td>\n",
       "      <td>183800.00000</td>\n",
       "      <td>421000.0</td>\n",
       "      <td>70300.0</td>\n",
       "      <td>187100.0</td>\n",
       "      <td>...</td>\n",
       "      <td>7980.0</td>\n",
       "      <td>22650.0</td>\n",
       "      <td>29450.0</td>\n",
       "      <td>20050.0</td>\n",
       "      <td>15630.0</td>\n",
       "      <td>9750.0</td>\n",
       "      <td>15820.0</td>\n",
       "      <td>7020.0</td>\n",
       "      <td>477000.0</td>\n",
       "      <td>17350.0</td>\n",
       "    </tr>\n",
       "    <tr>\n",
       "      <th>2024-03-29</th>\n",
       "      <td>82400.0</td>\n",
       "      <td>183000.0</td>\n",
       "      <td>395000.0</td>\n",
       "      <td>233000.0</td>\n",
       "      <td>831000.0000</td>\n",
       "      <td>110200.0</td>\n",
       "      <td>191200.00000</td>\n",
       "      <td>422000.0</td>\n",
       "      <td>69500.0</td>\n",
       "      <td>187400.0</td>\n",
       "      <td>...</td>\n",
       "      <td>8000.0</td>\n",
       "      <td>22800.0</td>\n",
       "      <td>28750.0</td>\n",
       "      <td>19910.0</td>\n",
       "      <td>15310.0</td>\n",
       "      <td>9790.0</td>\n",
       "      <td>15510.0</td>\n",
       "      <td>7000.0</td>\n",
       "      <td>472000.0</td>\n",
       "      <td>17190.0</td>\n",
       "    </tr>\n",
       "  </tbody>\n",
       "</table>\n",
       "<p>738 rows × 200 columns</p>\n",
       "</div>"
      ],
      "text/plain": [
       "               삼성전자    SK하이닉스  LG에너지솔루션       현대차     삼성바이오로직스        기아  \\\n",
       "Date                                                                       \n",
       "2021-04-01  82900.0  140500.0       NaN  219000.0  739153.8750   83500.0   \n",
       "2021-04-02  84800.0  141000.0       NaN  233500.0  736185.3750   86600.0   \n",
       "2021-04-05  85400.0  143000.0       NaN  234000.0  742122.3750   85500.0   \n",
       "2021-04-06  86000.0  143000.0       NaN  230000.0  746080.3750   84900.0   \n",
       "2021-04-07  85600.0  143500.0       NaN  230000.0  756964.8125   85300.0   \n",
       "...             ...       ...       ...       ...          ...       ...   \n",
       "2024-03-25  78200.0  169400.0  414500.0  239500.0  840000.0000  111500.0   \n",
       "2024-03-26  79900.0  176600.0  406000.0  240500.0  828000.0000  114400.0   \n",
       "2024-03-27  79800.0  181200.0  409000.0  244000.0  836000.0000  113600.0   \n",
       "2024-03-28  80800.0  178200.0  401500.0  237000.0  833000.0000  112000.0   \n",
       "2024-03-29  82400.0  183000.0  395000.0  233000.0  831000.0000  110200.0   \n",
       "\n",
       "                    셀트리온  POSCO홀딩스     KB금융     NAVER  ...       후성  세아베스틸지주  \\\n",
       "Date                                                   ...                     \n",
       "2021-04-01  305901.21875  318500.0  55000.0  378500.0  ...  10550.0  18950.0   \n",
       "2021-04-02  302130.46875  318500.0  53900.0  379500.0  ...  10450.0  18300.0   \n",
       "2021-04-05  290346.90625  334500.0  54600.0  377000.0  ...  10150.0  18750.0   \n",
       "2021-04-06  286104.81250  328500.0  53000.0  388500.0  ...  10250.0  18400.0   \n",
       "2021-04-07  288461.53125  329000.0  53600.0  384500.0  ...  10200.0  19000.0   \n",
       "...                  ...       ...      ...       ...  ...      ...      ...   \n",
       "2024-03-25  188900.00000  432000.0  72000.0  188000.0  ...   7940.0  23100.0   \n",
       "2024-03-26  186400.00000  429000.0  71800.0  188900.0  ...   7900.0  23350.0   \n",
       "2024-03-27  184200.00000  428000.0  69000.0  189300.0  ...   7980.0  22900.0   \n",
       "2024-03-28  183800.00000  421000.0  70300.0  187100.0  ...   7980.0  22650.0   \n",
       "2024-03-29  191200.00000  422000.0  69500.0  187400.0  ...   8000.0  22800.0   \n",
       "\n",
       "             아이에스동서   TKG휴켐스     명신산업   롯데관광개발     신풍제약     KG스틸        영풍  \\\n",
       "Date                                                                         \n",
       "2021-04-01  56500.0  22200.0  25650.0  19500.0  82900.0  14550.0  582000.0   \n",
       "2021-04-02  56000.0  22050.0  26200.0  19300.0  81300.0  14150.0  581000.0   \n",
       "2021-04-05  56400.0  22250.0  27900.0  19050.0  85300.0  14600.0  588000.0   \n",
       "2021-04-06  56400.0  22100.0  27600.0  19950.0  84200.0  14400.0  591000.0   \n",
       "2021-04-07  55600.0  22400.0  27200.0  19950.0  85900.0  15800.0  589000.0   \n",
       "...             ...      ...      ...      ...      ...      ...       ...   \n",
       "2024-03-25  29850.0  19950.0  15460.0   9150.0  18320.0   7000.0  475000.0   \n",
       "2024-03-26  29600.0  19960.0  15460.0   9450.0  16820.0   7150.0  476500.0   \n",
       "2024-03-27  29250.0  19960.0  15820.0   9990.0  16150.0   7150.0  479500.0   \n",
       "2024-03-28  29450.0  20050.0  15630.0   9750.0  15820.0   7020.0  477000.0   \n",
       "2024-03-29  28750.0  19910.0  15310.0   9790.0  15510.0   7000.0  472000.0   \n",
       "\n",
       "             녹십자홀딩스  \n",
       "Date                 \n",
       "2021-04-01  34700.0  \n",
       "2021-04-02  34400.0  \n",
       "2021-04-05  33750.0  \n",
       "2021-04-06  32550.0  \n",
       "2021-04-07  32950.0  \n",
       "...             ...  \n",
       "2024-03-25  17790.0  \n",
       "2024-03-26  17800.0  \n",
       "2024-03-27  17680.0  \n",
       "2024-03-28  17350.0  \n",
       "2024-03-29  17190.0  \n",
       "\n",
       "[738 rows x 200 columns]"
      ]
     },
     "execution_count": 8,
     "metadata": {},
     "output_type": "execute_result"
    }
   ],
   "source": [
    "# 크롤링 (시가, 종가, 최고가, 최저가)\n",
    "df_price = pd.DataFrame()\n",
    "yfin.pdr_override()\n",
    "\n",
    "\n",
    "code = \"{}.KS\"\n",
    "start = datetime(2021,4,1)\n",
    "end = datetime(2024,4,1)\n",
    "\n",
    "for i in range(0,200):\n",
    "    df_price[df.iloc[i][\"name\"]] = pdr.get_data_yahoo(code.format(df.iloc[i][\"code\"]), start, end)[\"Close\"].copy()\n",
    "#     time.sleep(1)\n",
    "df_price\n",
    "\n"
   ]
  },
  {
   "cell_type": "code",
   "execution_count": 9,
   "id": "d495e93a",
   "metadata": {},
   "outputs": [],
   "source": [
    "df_price\n",
    "df_price.to_pickle('C:/Users/Dohyung/Desktop/ssafy/Github/PJT-Clustering-KOSPI200/fkl/price-2024.fkl')"
   ]
  },
  {
   "cell_type": "code",
   "execution_count": 27,
   "id": "52785094",
   "metadata": {},
   "outputs": [],
   "source": [
    "df_price = pd.read_pickle('C:/Users/Dohyung/Desktop/ssafy/Github/PJT-Clustering-KOSPI200/fkl/price-2024.fkl')\n",
    "df_price = df_price .transpose()\n",
    "df_price = df_price .fillna(0.0)\n",
    "df_price .to_csv('./price-2024.csv',encoding=\"utf-8-sig\")"
   ]
  },
  {
   "cell_type": "code",
   "execution_count": 28,
   "id": "6c76a887",
   "metadata": {},
   "outputs": [
    {
     "data": {
      "text/html": [
       "<div>\n",
       "<style scoped>\n",
       "    .dataframe tbody tr th:only-of-type {\n",
       "        vertical-align: middle;\n",
       "    }\n",
       "\n",
       "    .dataframe tbody tr th {\n",
       "        vertical-align: top;\n",
       "    }\n",
       "\n",
       "    .dataframe thead th {\n",
       "        text-align: right;\n",
       "    }\n",
       "</style>\n",
       "<table border=\"1\" class=\"dataframe\">\n",
       "  <thead>\n",
       "    <tr style=\"text-align: right;\">\n",
       "      <th>Date</th>\n",
       "      <th>2021-04-01</th>\n",
       "      <th>2021-04-02</th>\n",
       "      <th>2021-04-05</th>\n",
       "      <th>2021-04-06</th>\n",
       "      <th>2021-04-07</th>\n",
       "      <th>2021-04-08</th>\n",
       "      <th>2021-04-09</th>\n",
       "      <th>2021-04-12</th>\n",
       "      <th>2021-04-13</th>\n",
       "      <th>2021-04-14</th>\n",
       "      <th>...</th>\n",
       "      <th>2024-03-18</th>\n",
       "      <th>2024-03-19</th>\n",
       "      <th>2024-03-20</th>\n",
       "      <th>2024-03-21</th>\n",
       "      <th>2024-03-22</th>\n",
       "      <th>2024-03-25</th>\n",
       "      <th>2024-03-26</th>\n",
       "      <th>2024-03-27</th>\n",
       "      <th>2024-03-28</th>\n",
       "      <th>2024-03-29</th>\n",
       "    </tr>\n",
       "  </thead>\n",
       "  <tbody>\n",
       "    <tr>\n",
       "      <th>삼성전자</th>\n",
       "      <td>82900.000</td>\n",
       "      <td>84800.000</td>\n",
       "      <td>85400.000</td>\n",
       "      <td>86000.000</td>\n",
       "      <td>85600.0000</td>\n",
       "      <td>84700.0000</td>\n",
       "      <td>83600.0000</td>\n",
       "      <td>83200.00</td>\n",
       "      <td>84000.00</td>\n",
       "      <td>84000.00</td>\n",
       "      <td>...</td>\n",
       "      <td>72800.0</td>\n",
       "      <td>72800.0</td>\n",
       "      <td>76900.0</td>\n",
       "      <td>79300.0</td>\n",
       "      <td>78900.0</td>\n",
       "      <td>78200.0</td>\n",
       "      <td>79900.0</td>\n",
       "      <td>79800.0</td>\n",
       "      <td>80800.0</td>\n",
       "      <td>82400.0</td>\n",
       "    </tr>\n",
       "    <tr>\n",
       "      <th>SK하이닉스</th>\n",
       "      <td>140500.000</td>\n",
       "      <td>141000.000</td>\n",
       "      <td>143000.000</td>\n",
       "      <td>143000.000</td>\n",
       "      <td>143500.0000</td>\n",
       "      <td>144000.0000</td>\n",
       "      <td>140000.0000</td>\n",
       "      <td>137500.00</td>\n",
       "      <td>139500.00</td>\n",
       "      <td>137000.00</td>\n",
       "      <td>...</td>\n",
       "      <td>164300.0</td>\n",
       "      <td>160200.0</td>\n",
       "      <td>156500.0</td>\n",
       "      <td>170000.0</td>\n",
       "      <td>169800.0</td>\n",
       "      <td>169400.0</td>\n",
       "      <td>176600.0</td>\n",
       "      <td>181200.0</td>\n",
       "      <td>178200.0</td>\n",
       "      <td>183000.0</td>\n",
       "    </tr>\n",
       "    <tr>\n",
       "      <th>LG에너지솔루션</th>\n",
       "      <td>0.000</td>\n",
       "      <td>0.000</td>\n",
       "      <td>0.000</td>\n",
       "      <td>0.000</td>\n",
       "      <td>0.0000</td>\n",
       "      <td>0.0000</td>\n",
       "      <td>0.0000</td>\n",
       "      <td>0.00</td>\n",
       "      <td>0.00</td>\n",
       "      <td>0.00</td>\n",
       "      <td>...</td>\n",
       "      <td>407500.0</td>\n",
       "      <td>403000.0</td>\n",
       "      <td>407500.0</td>\n",
       "      <td>413500.0</td>\n",
       "      <td>413500.0</td>\n",
       "      <td>414500.0</td>\n",
       "      <td>406000.0</td>\n",
       "      <td>409000.0</td>\n",
       "      <td>401500.0</td>\n",
       "      <td>395000.0</td>\n",
       "    </tr>\n",
       "    <tr>\n",
       "      <th>현대차</th>\n",
       "      <td>219000.000</td>\n",
       "      <td>233500.000</td>\n",
       "      <td>234000.000</td>\n",
       "      <td>230000.000</td>\n",
       "      <td>230000.0000</td>\n",
       "      <td>231500.0000</td>\n",
       "      <td>228500.0000</td>\n",
       "      <td>226000.00</td>\n",
       "      <td>230000.00</td>\n",
       "      <td>232500.00</td>\n",
       "      <td>...</td>\n",
       "      <td>242500.0</td>\n",
       "      <td>237500.0</td>\n",
       "      <td>241000.0</td>\n",
       "      <td>252000.0</td>\n",
       "      <td>243500.0</td>\n",
       "      <td>239500.0</td>\n",
       "      <td>240500.0</td>\n",
       "      <td>244000.0</td>\n",
       "      <td>237000.0</td>\n",
       "      <td>233000.0</td>\n",
       "    </tr>\n",
       "    <tr>\n",
       "      <th>삼성바이오로직스</th>\n",
       "      <td>739153.875</td>\n",
       "      <td>736185.375</td>\n",
       "      <td>742122.375</td>\n",
       "      <td>746080.375</td>\n",
       "      <td>756964.8125</td>\n",
       "      <td>754985.8125</td>\n",
       "      <td>761912.3125</td>\n",
       "      <td>773786.25</td>\n",
       "      <td>775765.25</td>\n",
       "      <td>781702.25</td>\n",
       "      <td>...</td>\n",
       "      <td>859000.0</td>\n",
       "      <td>848000.0</td>\n",
       "      <td>850000.0</td>\n",
       "      <td>857000.0</td>\n",
       "      <td>840000.0</td>\n",
       "      <td>840000.0</td>\n",
       "      <td>828000.0</td>\n",
       "      <td>836000.0</td>\n",
       "      <td>833000.0</td>\n",
       "      <td>831000.0</td>\n",
       "    </tr>\n",
       "    <tr>\n",
       "      <th>...</th>\n",
       "      <td>...</td>\n",
       "      <td>...</td>\n",
       "      <td>...</td>\n",
       "      <td>...</td>\n",
       "      <td>...</td>\n",
       "      <td>...</td>\n",
       "      <td>...</td>\n",
       "      <td>...</td>\n",
       "      <td>...</td>\n",
       "      <td>...</td>\n",
       "      <td>...</td>\n",
       "      <td>...</td>\n",
       "      <td>...</td>\n",
       "      <td>...</td>\n",
       "      <td>...</td>\n",
       "      <td>...</td>\n",
       "      <td>...</td>\n",
       "      <td>...</td>\n",
       "      <td>...</td>\n",
       "      <td>...</td>\n",
       "      <td>...</td>\n",
       "    </tr>\n",
       "    <tr>\n",
       "      <th>롯데관광개발</th>\n",
       "      <td>19500.000</td>\n",
       "      <td>19300.000</td>\n",
       "      <td>19050.000</td>\n",
       "      <td>19950.000</td>\n",
       "      <td>19950.0000</td>\n",
       "      <td>19500.0000</td>\n",
       "      <td>19300.0000</td>\n",
       "      <td>18900.00</td>\n",
       "      <td>18900.00</td>\n",
       "      <td>18950.00</td>\n",
       "      <td>...</td>\n",
       "      <td>9030.0</td>\n",
       "      <td>9140.0</td>\n",
       "      <td>8970.0</td>\n",
       "      <td>9020.0</td>\n",
       "      <td>9190.0</td>\n",
       "      <td>9150.0</td>\n",
       "      <td>9450.0</td>\n",
       "      <td>9990.0</td>\n",
       "      <td>9750.0</td>\n",
       "      <td>9790.0</td>\n",
       "    </tr>\n",
       "    <tr>\n",
       "      <th>신풍제약</th>\n",
       "      <td>82900.000</td>\n",
       "      <td>81300.000</td>\n",
       "      <td>85300.000</td>\n",
       "      <td>84200.000</td>\n",
       "      <td>85900.0000</td>\n",
       "      <td>88900.0000</td>\n",
       "      <td>89100.0000</td>\n",
       "      <td>90800.00</td>\n",
       "      <td>90100.00</td>\n",
       "      <td>90000.00</td>\n",
       "      <td>...</td>\n",
       "      <td>11740.0</td>\n",
       "      <td>11810.0</td>\n",
       "      <td>12770.0</td>\n",
       "      <td>12670.0</td>\n",
       "      <td>16260.0</td>\n",
       "      <td>18320.0</td>\n",
       "      <td>16820.0</td>\n",
       "      <td>16150.0</td>\n",
       "      <td>15820.0</td>\n",
       "      <td>15510.0</td>\n",
       "    </tr>\n",
       "    <tr>\n",
       "      <th>KG스틸</th>\n",
       "      <td>14550.000</td>\n",
       "      <td>14150.000</td>\n",
       "      <td>14600.000</td>\n",
       "      <td>14400.000</td>\n",
       "      <td>15800.0000</td>\n",
       "      <td>16100.0000</td>\n",
       "      <td>15600.0000</td>\n",
       "      <td>15700.00</td>\n",
       "      <td>15250.00</td>\n",
       "      <td>14900.00</td>\n",
       "      <td>...</td>\n",
       "      <td>7200.0</td>\n",
       "      <td>7040.0</td>\n",
       "      <td>7000.0</td>\n",
       "      <td>7070.0</td>\n",
       "      <td>7090.0</td>\n",
       "      <td>7000.0</td>\n",
       "      <td>7150.0</td>\n",
       "      <td>7150.0</td>\n",
       "      <td>7020.0</td>\n",
       "      <td>7000.0</td>\n",
       "    </tr>\n",
       "    <tr>\n",
       "      <th>영풍</th>\n",
       "      <td>582000.000</td>\n",
       "      <td>581000.000</td>\n",
       "      <td>588000.000</td>\n",
       "      <td>591000.000</td>\n",
       "      <td>589000.0000</td>\n",
       "      <td>589000.0000</td>\n",
       "      <td>589000.0000</td>\n",
       "      <td>606000.00</td>\n",
       "      <td>603000.00</td>\n",
       "      <td>612000.00</td>\n",
       "      <td>...</td>\n",
       "      <td>470500.0</td>\n",
       "      <td>468000.0</td>\n",
       "      <td>466500.0</td>\n",
       "      <td>481500.0</td>\n",
       "      <td>483000.0</td>\n",
       "      <td>475000.0</td>\n",
       "      <td>476500.0</td>\n",
       "      <td>479500.0</td>\n",
       "      <td>477000.0</td>\n",
       "      <td>472000.0</td>\n",
       "    </tr>\n",
       "    <tr>\n",
       "      <th>녹십자홀딩스</th>\n",
       "      <td>34700.000</td>\n",
       "      <td>34400.000</td>\n",
       "      <td>33750.000</td>\n",
       "      <td>32550.000</td>\n",
       "      <td>32950.0000</td>\n",
       "      <td>33100.0000</td>\n",
       "      <td>35750.0000</td>\n",
       "      <td>37200.00</td>\n",
       "      <td>38000.00</td>\n",
       "      <td>37850.00</td>\n",
       "      <td>...</td>\n",
       "      <td>16770.0</td>\n",
       "      <td>16680.0</td>\n",
       "      <td>17140.0</td>\n",
       "      <td>17470.0</td>\n",
       "      <td>17700.0</td>\n",
       "      <td>17790.0</td>\n",
       "      <td>17800.0</td>\n",
       "      <td>17680.0</td>\n",
       "      <td>17350.0</td>\n",
       "      <td>17190.0</td>\n",
       "    </tr>\n",
       "  </tbody>\n",
       "</table>\n",
       "<p>200 rows × 738 columns</p>\n",
       "</div>"
      ],
      "text/plain": [
       "Date      2021-04-01  2021-04-02  2021-04-05  2021-04-06   2021-04-07  \\\n",
       "삼성전자       82900.000   84800.000   85400.000   86000.000   85600.0000   \n",
       "SK하이닉스    140500.000  141000.000  143000.000  143000.000  143500.0000   \n",
       "LG에너지솔루션       0.000       0.000       0.000       0.000       0.0000   \n",
       "현대차       219000.000  233500.000  234000.000  230000.000  230000.0000   \n",
       "삼성바이오로직스  739153.875  736185.375  742122.375  746080.375  756964.8125   \n",
       "...              ...         ...         ...         ...          ...   \n",
       "롯데관광개발     19500.000   19300.000   19050.000   19950.000   19950.0000   \n",
       "신풍제약       82900.000   81300.000   85300.000   84200.000   85900.0000   \n",
       "KG스틸       14550.000   14150.000   14600.000   14400.000   15800.0000   \n",
       "영풍        582000.000  581000.000  588000.000  591000.000  589000.0000   \n",
       "녹십자홀딩스     34700.000   34400.000   33750.000   32550.000   32950.0000   \n",
       "\n",
       "Date       2021-04-08   2021-04-09  2021-04-12  2021-04-13  2021-04-14  ...  \\\n",
       "삼성전자       84700.0000   83600.0000    83200.00    84000.00    84000.00  ...   \n",
       "SK하이닉스    144000.0000  140000.0000   137500.00   139500.00   137000.00  ...   \n",
       "LG에너지솔루션       0.0000       0.0000        0.00        0.00        0.00  ...   \n",
       "현대차       231500.0000  228500.0000   226000.00   230000.00   232500.00  ...   \n",
       "삼성바이오로직스  754985.8125  761912.3125   773786.25   775765.25   781702.25  ...   \n",
       "...               ...          ...         ...         ...         ...  ...   \n",
       "롯데관광개발     19500.0000   19300.0000    18900.00    18900.00    18950.00  ...   \n",
       "신풍제약       88900.0000   89100.0000    90800.00    90100.00    90000.00  ...   \n",
       "KG스틸       16100.0000   15600.0000    15700.00    15250.00    14900.00  ...   \n",
       "영풍        589000.0000  589000.0000   606000.00   603000.00   612000.00  ...   \n",
       "녹십자홀딩스     33100.0000   35750.0000    37200.00    38000.00    37850.00  ...   \n",
       "\n",
       "Date      2024-03-18  2024-03-19  2024-03-20  2024-03-21  2024-03-22  \\\n",
       "삼성전자         72800.0     72800.0     76900.0     79300.0     78900.0   \n",
       "SK하이닉스      164300.0    160200.0    156500.0    170000.0    169800.0   \n",
       "LG에너지솔루션    407500.0    403000.0    407500.0    413500.0    413500.0   \n",
       "현대차         242500.0    237500.0    241000.0    252000.0    243500.0   \n",
       "삼성바이오로직스    859000.0    848000.0    850000.0    857000.0    840000.0   \n",
       "...              ...         ...         ...         ...         ...   \n",
       "롯데관광개발        9030.0      9140.0      8970.0      9020.0      9190.0   \n",
       "신풍제약         11740.0     11810.0     12770.0     12670.0     16260.0   \n",
       "KG스틸          7200.0      7040.0      7000.0      7070.0      7090.0   \n",
       "영풍          470500.0    468000.0    466500.0    481500.0    483000.0   \n",
       "녹십자홀딩스       16770.0     16680.0     17140.0     17470.0     17700.0   \n",
       "\n",
       "Date      2024-03-25  2024-03-26  2024-03-27  2024-03-28  2024-03-29  \n",
       "삼성전자         78200.0     79900.0     79800.0     80800.0     82400.0  \n",
       "SK하이닉스      169400.0    176600.0    181200.0    178200.0    183000.0  \n",
       "LG에너지솔루션    414500.0    406000.0    409000.0    401500.0    395000.0  \n",
       "현대차         239500.0    240500.0    244000.0    237000.0    233000.0  \n",
       "삼성바이오로직스    840000.0    828000.0    836000.0    833000.0    831000.0  \n",
       "...              ...         ...         ...         ...         ...  \n",
       "롯데관광개발        9150.0      9450.0      9990.0      9750.0      9790.0  \n",
       "신풍제약         18320.0     16820.0     16150.0     15820.0     15510.0  \n",
       "KG스틸          7000.0      7150.0      7150.0      7020.0      7000.0  \n",
       "영풍          475000.0    476500.0    479500.0    477000.0    472000.0  \n",
       "녹십자홀딩스       17790.0     17800.0     17680.0     17350.0     17190.0  \n",
       "\n",
       "[200 rows x 738 columns]"
      ]
     },
     "execution_count": 28,
     "metadata": {},
     "output_type": "execute_result"
    }
   ],
   "source": [
    "df_price "
   ]
  },
  {
   "cell_type": "code",
   "execution_count": 25,
   "id": "981f4530",
   "metadata": {},
   "outputs": [
    {
     "name": "stderr",
     "output_type": "stream",
     "text": [
      "<ipython-input-25-0b0f49f4362c>:7: RuntimeWarning: divide by zero encountered in double_scalars\n",
      "  df_updown.iloc[i][j] = gap/df_price.iloc[i-1][j]\n",
      "<ipython-input-25-0b0f49f4362c>:7: RuntimeWarning: invalid value encountered in double_scalars\n",
      "  df_updown.iloc[i][j] = gap/df_price.iloc[i-1][j]\n"
     ]
    }
   ],
   "source": [
    "# price data 를 등락률로 변환\n",
    "df_updown = pd.DataFrame(index=df_price.index, columns=df_price.columns)\n",
    "for i in range (1,738):\n",
    "    for j in range(0,200):\n",
    "        try :\n",
    "            gap = df_price.iloc[i][j]-df_price.iloc[i-1][j]\n",
    "            df_updown.iloc[i][j] = gap/df_price.iloc[i-1][j]\n",
    "        except:\n",
    "            pass"
   ]
  },
  {
   "cell_type": "code",
   "execution_count": 26,
   "id": "b74a52e5",
   "metadata": {},
   "outputs": [
    {
     "data": {
      "text/html": [
       "<div>\n",
       "<style scoped>\n",
       "    .dataframe tbody tr th:only-of-type {\n",
       "        vertical-align: middle;\n",
       "    }\n",
       "\n",
       "    .dataframe tbody tr th {\n",
       "        vertical-align: top;\n",
       "    }\n",
       "\n",
       "    .dataframe thead th {\n",
       "        text-align: right;\n",
       "    }\n",
       "</style>\n",
       "<table border=\"1\" class=\"dataframe\">\n",
       "  <thead>\n",
       "    <tr style=\"text-align: right;\">\n",
       "      <th>Date</th>\n",
       "      <th>2021-04-01</th>\n",
       "      <th>2021-04-02</th>\n",
       "      <th>2021-04-05</th>\n",
       "      <th>2021-04-06</th>\n",
       "      <th>2021-04-07</th>\n",
       "      <th>2021-04-08</th>\n",
       "      <th>2021-04-09</th>\n",
       "      <th>2021-04-12</th>\n",
       "      <th>2021-04-13</th>\n",
       "      <th>2021-04-14</th>\n",
       "      <th>...</th>\n",
       "      <th>2024-03-18</th>\n",
       "      <th>2024-03-19</th>\n",
       "      <th>2024-03-20</th>\n",
       "      <th>2024-03-21</th>\n",
       "      <th>2024-03-22</th>\n",
       "      <th>2024-03-25</th>\n",
       "      <th>2024-03-26</th>\n",
       "      <th>2024-03-27</th>\n",
       "      <th>2024-03-28</th>\n",
       "      <th>2024-03-29</th>\n",
       "    </tr>\n",
       "  </thead>\n",
       "  <tbody>\n",
       "    <tr>\n",
       "      <th>삼성전자</th>\n",
       "      <td>NaN</td>\n",
       "      <td>NaN</td>\n",
       "      <td>NaN</td>\n",
       "      <td>NaN</td>\n",
       "      <td>NaN</td>\n",
       "      <td>NaN</td>\n",
       "      <td>NaN</td>\n",
       "      <td>NaN</td>\n",
       "      <td>NaN</td>\n",
       "      <td>NaN</td>\n",
       "      <td>...</td>\n",
       "      <td>NaN</td>\n",
       "      <td>NaN</td>\n",
       "      <td>NaN</td>\n",
       "      <td>NaN</td>\n",
       "      <td>NaN</td>\n",
       "      <td>NaN</td>\n",
       "      <td>NaN</td>\n",
       "      <td>NaN</td>\n",
       "      <td>NaN</td>\n",
       "      <td>NaN</td>\n",
       "    </tr>\n",
       "    <tr>\n",
       "      <th>SK하이닉스</th>\n",
       "      <td>0.694813</td>\n",
       "      <td>0.662736</td>\n",
       "      <td>0.674473</td>\n",
       "      <td>0.662791</td>\n",
       "      <td>0.676402</td>\n",
       "      <td>0.700118</td>\n",
       "      <td>0.674641</td>\n",
       "      <td>0.652644</td>\n",
       "      <td>0.660714</td>\n",
       "      <td>0.630952</td>\n",
       "      <td>...</td>\n",
       "      <td>NaN</td>\n",
       "      <td>NaN</td>\n",
       "      <td>NaN</td>\n",
       "      <td>NaN</td>\n",
       "      <td>NaN</td>\n",
       "      <td>NaN</td>\n",
       "      <td>NaN</td>\n",
       "      <td>NaN</td>\n",
       "      <td>NaN</td>\n",
       "      <td>NaN</td>\n",
       "    </tr>\n",
       "    <tr>\n",
       "      <th>LG에너지솔루션</th>\n",
       "      <td>-1.0</td>\n",
       "      <td>-1.0</td>\n",
       "      <td>-1.0</td>\n",
       "      <td>-1.0</td>\n",
       "      <td>-1.0</td>\n",
       "      <td>-1.0</td>\n",
       "      <td>-1.0</td>\n",
       "      <td>-1.0</td>\n",
       "      <td>-1.0</td>\n",
       "      <td>-1.0</td>\n",
       "      <td>...</td>\n",
       "      <td>NaN</td>\n",
       "      <td>NaN</td>\n",
       "      <td>NaN</td>\n",
       "      <td>NaN</td>\n",
       "      <td>NaN</td>\n",
       "      <td>NaN</td>\n",
       "      <td>NaN</td>\n",
       "      <td>NaN</td>\n",
       "      <td>NaN</td>\n",
       "      <td>NaN</td>\n",
       "    </tr>\n",
       "    <tr>\n",
       "      <th>현대차</th>\n",
       "      <td>inf</td>\n",
       "      <td>inf</td>\n",
       "      <td>inf</td>\n",
       "      <td>inf</td>\n",
       "      <td>inf</td>\n",
       "      <td>inf</td>\n",
       "      <td>inf</td>\n",
       "      <td>inf</td>\n",
       "      <td>inf</td>\n",
       "      <td>inf</td>\n",
       "      <td>...</td>\n",
       "      <td>NaN</td>\n",
       "      <td>NaN</td>\n",
       "      <td>NaN</td>\n",
       "      <td>NaN</td>\n",
       "      <td>NaN</td>\n",
       "      <td>NaN</td>\n",
       "      <td>NaN</td>\n",
       "      <td>NaN</td>\n",
       "      <td>NaN</td>\n",
       "      <td>NaN</td>\n",
       "    </tr>\n",
       "    <tr>\n",
       "      <th>삼성바이오로직스</th>\n",
       "      <td>2.375132</td>\n",
       "      <td>2.152828</td>\n",
       "      <td>2.171463</td>\n",
       "      <td>2.243828</td>\n",
       "      <td>2.291151</td>\n",
       "      <td>2.261278</td>\n",
       "      <td>2.334408</td>\n",
       "      <td>2.423833</td>\n",
       "      <td>2.372892</td>\n",
       "      <td>2.36216</td>\n",
       "      <td>...</td>\n",
       "      <td>NaN</td>\n",
       "      <td>NaN</td>\n",
       "      <td>NaN</td>\n",
       "      <td>NaN</td>\n",
       "      <td>NaN</td>\n",
       "      <td>NaN</td>\n",
       "      <td>NaN</td>\n",
       "      <td>NaN</td>\n",
       "      <td>NaN</td>\n",
       "      <td>NaN</td>\n",
       "    </tr>\n",
       "    <tr>\n",
       "      <th>...</th>\n",
       "      <td>...</td>\n",
       "      <td>...</td>\n",
       "      <td>...</td>\n",
       "      <td>...</td>\n",
       "      <td>...</td>\n",
       "      <td>...</td>\n",
       "      <td>...</td>\n",
       "      <td>...</td>\n",
       "      <td>...</td>\n",
       "      <td>...</td>\n",
       "      <td>...</td>\n",
       "      <td>...</td>\n",
       "      <td>...</td>\n",
       "      <td>...</td>\n",
       "      <td>...</td>\n",
       "      <td>...</td>\n",
       "      <td>...</td>\n",
       "      <td>...</td>\n",
       "      <td>...</td>\n",
       "      <td>...</td>\n",
       "      <td>...</td>\n",
       "    </tr>\n",
       "    <tr>\n",
       "      <th>롯데관광개발</th>\n",
       "      <td>-0.239766</td>\n",
       "      <td>-0.263359</td>\n",
       "      <td>-0.317204</td>\n",
       "      <td>-0.277174</td>\n",
       "      <td>-0.266544</td>\n",
       "      <td>-0.271028</td>\n",
       "      <td>-0.281192</td>\n",
       "      <td>-0.292135</td>\n",
       "      <td>-0.341463</td>\n",
       "      <td>-0.346552</td>\n",
       "      <td>...</td>\n",
       "      <td>NaN</td>\n",
       "      <td>NaN</td>\n",
       "      <td>NaN</td>\n",
       "      <td>NaN</td>\n",
       "      <td>NaN</td>\n",
       "      <td>NaN</td>\n",
       "      <td>NaN</td>\n",
       "      <td>NaN</td>\n",
       "      <td>NaN</td>\n",
       "      <td>NaN</td>\n",
       "    </tr>\n",
       "    <tr>\n",
       "      <th>신풍제약</th>\n",
       "      <td>3.251282</td>\n",
       "      <td>3.212435</td>\n",
       "      <td>3.47769</td>\n",
       "      <td>3.220551</td>\n",
       "      <td>3.305764</td>\n",
       "      <td>3.558974</td>\n",
       "      <td>3.61658</td>\n",
       "      <td>3.804233</td>\n",
       "      <td>3.767196</td>\n",
       "      <td>3.74934</td>\n",
       "      <td>...</td>\n",
       "      <td>NaN</td>\n",
       "      <td>NaN</td>\n",
       "      <td>NaN</td>\n",
       "      <td>NaN</td>\n",
       "      <td>NaN</td>\n",
       "      <td>NaN</td>\n",
       "      <td>NaN</td>\n",
       "      <td>NaN</td>\n",
       "      <td>NaN</td>\n",
       "      <td>NaN</td>\n",
       "    </tr>\n",
       "    <tr>\n",
       "      <th>KG스틸</th>\n",
       "      <td>-0.824487</td>\n",
       "      <td>-0.825953</td>\n",
       "      <td>-0.828839</td>\n",
       "      <td>-0.828979</td>\n",
       "      <td>-0.816065</td>\n",
       "      <td>-0.818898</td>\n",
       "      <td>-0.824916</td>\n",
       "      <td>-0.827093</td>\n",
       "      <td>-0.830744</td>\n",
       "      <td>-0.834444</td>\n",
       "      <td>...</td>\n",
       "      <td>NaN</td>\n",
       "      <td>NaN</td>\n",
       "      <td>NaN</td>\n",
       "      <td>NaN</td>\n",
       "      <td>NaN</td>\n",
       "      <td>NaN</td>\n",
       "      <td>NaN</td>\n",
       "      <td>NaN</td>\n",
       "      <td>NaN</td>\n",
       "      <td>NaN</td>\n",
       "    </tr>\n",
       "    <tr>\n",
       "      <th>영풍</th>\n",
       "      <td>39.0</td>\n",
       "      <td>40.060071</td>\n",
       "      <td>39.273973</td>\n",
       "      <td>40.041667</td>\n",
       "      <td>36.278481</td>\n",
       "      <td>35.583851</td>\n",
       "      <td>36.75641</td>\n",
       "      <td>37.598726</td>\n",
       "      <td>38.540984</td>\n",
       "      <td>40.073826</td>\n",
       "      <td>...</td>\n",
       "      <td>NaN</td>\n",
       "      <td>NaN</td>\n",
       "      <td>NaN</td>\n",
       "      <td>NaN</td>\n",
       "      <td>NaN</td>\n",
       "      <td>NaN</td>\n",
       "      <td>NaN</td>\n",
       "      <td>NaN</td>\n",
       "      <td>NaN</td>\n",
       "      <td>NaN</td>\n",
       "    </tr>\n",
       "    <tr>\n",
       "      <th>녹십자홀딩스</th>\n",
       "      <td>-0.940378</td>\n",
       "      <td>-0.940792</td>\n",
       "      <td>-0.942602</td>\n",
       "      <td>-0.944924</td>\n",
       "      <td>-0.944058</td>\n",
       "      <td>-0.943803</td>\n",
       "      <td>-0.939304</td>\n",
       "      <td>-0.938614</td>\n",
       "      <td>-0.936982</td>\n",
       "      <td>-0.938154</td>\n",
       "      <td>...</td>\n",
       "      <td>NaN</td>\n",
       "      <td>NaN</td>\n",
       "      <td>NaN</td>\n",
       "      <td>NaN</td>\n",
       "      <td>NaN</td>\n",
       "      <td>NaN</td>\n",
       "      <td>NaN</td>\n",
       "      <td>NaN</td>\n",
       "      <td>NaN</td>\n",
       "      <td>NaN</td>\n",
       "    </tr>\n",
       "  </tbody>\n",
       "</table>\n",
       "<p>200 rows × 738 columns</p>\n",
       "</div>"
      ],
      "text/plain": [
       "Date     2021-04-01 2021-04-02 2021-04-05 2021-04-06 2021-04-07 2021-04-08  \\\n",
       "삼성전자            NaN        NaN        NaN        NaN        NaN        NaN   \n",
       "SK하이닉스     0.694813   0.662736   0.674473   0.662791   0.676402   0.700118   \n",
       "LG에너지솔루션       -1.0       -1.0       -1.0       -1.0       -1.0       -1.0   \n",
       "현대차             inf        inf        inf        inf        inf        inf   \n",
       "삼성바이오로직스   2.375132   2.152828   2.171463   2.243828   2.291151   2.261278   \n",
       "...             ...        ...        ...        ...        ...        ...   \n",
       "롯데관광개발    -0.239766  -0.263359  -0.317204  -0.277174  -0.266544  -0.271028   \n",
       "신풍제약       3.251282   3.212435    3.47769   3.220551   3.305764   3.558974   \n",
       "KG스틸      -0.824487  -0.825953  -0.828839  -0.828979  -0.816065  -0.818898   \n",
       "영풍             39.0  40.060071  39.273973  40.041667  36.278481  35.583851   \n",
       "녹십자홀딩스    -0.940378  -0.940792  -0.942602  -0.944924  -0.944058  -0.943803   \n",
       "\n",
       "Date     2021-04-09 2021-04-12 2021-04-13 2021-04-14  ... 2024-03-18  \\\n",
       "삼성전자            NaN        NaN        NaN        NaN  ...        NaN   \n",
       "SK하이닉스     0.674641   0.652644   0.660714   0.630952  ...        NaN   \n",
       "LG에너지솔루션       -1.0       -1.0       -1.0       -1.0  ...        NaN   \n",
       "현대차             inf        inf        inf        inf  ...        NaN   \n",
       "삼성바이오로직스   2.334408   2.423833   2.372892    2.36216  ...        NaN   \n",
       "...             ...        ...        ...        ...  ...        ...   \n",
       "롯데관광개발    -0.281192  -0.292135  -0.341463  -0.346552  ...        NaN   \n",
       "신풍제약        3.61658   3.804233   3.767196    3.74934  ...        NaN   \n",
       "KG스틸      -0.824916  -0.827093  -0.830744  -0.834444  ...        NaN   \n",
       "영풍         36.75641  37.598726  38.540984  40.073826  ...        NaN   \n",
       "녹십자홀딩스    -0.939304  -0.938614  -0.936982  -0.938154  ...        NaN   \n",
       "\n",
       "Date     2024-03-19 2024-03-20 2024-03-21 2024-03-22 2024-03-25 2024-03-26  \\\n",
       "삼성전자            NaN        NaN        NaN        NaN        NaN        NaN   \n",
       "SK하이닉스          NaN        NaN        NaN        NaN        NaN        NaN   \n",
       "LG에너지솔루션        NaN        NaN        NaN        NaN        NaN        NaN   \n",
       "현대차             NaN        NaN        NaN        NaN        NaN        NaN   \n",
       "삼성바이오로직스        NaN        NaN        NaN        NaN        NaN        NaN   \n",
       "...             ...        ...        ...        ...        ...        ...   \n",
       "롯데관광개발          NaN        NaN        NaN        NaN        NaN        NaN   \n",
       "신풍제약            NaN        NaN        NaN        NaN        NaN        NaN   \n",
       "KG스틸            NaN        NaN        NaN        NaN        NaN        NaN   \n",
       "영풍              NaN        NaN        NaN        NaN        NaN        NaN   \n",
       "녹십자홀딩스          NaN        NaN        NaN        NaN        NaN        NaN   \n",
       "\n",
       "Date     2024-03-27 2024-03-28 2024-03-29  \n",
       "삼성전자            NaN        NaN        NaN  \n",
       "SK하이닉스          NaN        NaN        NaN  \n",
       "LG에너지솔루션        NaN        NaN        NaN  \n",
       "현대차             NaN        NaN        NaN  \n",
       "삼성바이오로직스        NaN        NaN        NaN  \n",
       "...             ...        ...        ...  \n",
       "롯데관광개발          NaN        NaN        NaN  \n",
       "신풍제약            NaN        NaN        NaN  \n",
       "KG스틸            NaN        NaN        NaN  \n",
       "영풍              NaN        NaN        NaN  \n",
       "녹십자홀딩스          NaN        NaN        NaN  \n",
       "\n",
       "[200 rows x 738 columns]"
      ]
     },
     "execution_count": 26,
     "metadata": {},
     "output_type": "execute_result"
    }
   ],
   "source": [
    "df_updown"
   ]
  },
  {
   "cell_type": "code",
   "execution_count": 34,
   "id": "0d5fc6e6",
   "metadata": {},
   "outputs": [
    {
     "data": {
      "text/html": [
       "<div>\n",
       "<style scoped>\n",
       "    .dataframe tbody tr th:only-of-type {\n",
       "        vertical-align: middle;\n",
       "    }\n",
       "\n",
       "    .dataframe tbody tr th {\n",
       "        vertical-align: top;\n",
       "    }\n",
       "\n",
       "    .dataframe thead th {\n",
       "        text-align: right;\n",
       "    }\n",
       "</style>\n",
       "<table border=\"1\" class=\"dataframe\">\n",
       "  <thead>\n",
       "    <tr style=\"text-align: right;\">\n",
       "      <th>Date</th>\n",
       "      <th>2021-04-01</th>\n",
       "      <th>2021-04-02</th>\n",
       "      <th>2021-04-05</th>\n",
       "      <th>2021-04-06</th>\n",
       "      <th>2021-04-07</th>\n",
       "      <th>2021-04-08</th>\n",
       "      <th>2021-04-09</th>\n",
       "      <th>2021-04-12</th>\n",
       "      <th>2021-04-13</th>\n",
       "      <th>2021-04-14</th>\n",
       "      <th>...</th>\n",
       "      <th>2024-03-18</th>\n",
       "      <th>2024-03-19</th>\n",
       "      <th>2024-03-20</th>\n",
       "      <th>2024-03-21</th>\n",
       "      <th>2024-03-22</th>\n",
       "      <th>2024-03-25</th>\n",
       "      <th>2024-03-26</th>\n",
       "      <th>2024-03-27</th>\n",
       "      <th>2024-03-28</th>\n",
       "      <th>2024-03-29</th>\n",
       "    </tr>\n",
       "  </thead>\n",
       "  <tbody>\n",
       "    <tr>\n",
       "      <th>삼성전자</th>\n",
       "      <td>-0.151859</td>\n",
       "      <td>-0.141719</td>\n",
       "      <td>-0.138566</td>\n",
       "      <td>-0.133920</td>\n",
       "      <td>-0.138996</td>\n",
       "      <td>-0.146139</td>\n",
       "      <td>-0.154314</td>\n",
       "      <td>-0.158491</td>\n",
       "      <td>-0.158405</td>\n",
       "      <td>-0.160588</td>\n",
       "      <td>...</td>\n",
       "      <td>-0.197813</td>\n",
       "      <td>-0.192534</td>\n",
       "      <td>-0.158344</td>\n",
       "      <td>-0.148769</td>\n",
       "      <td>-0.152027</td>\n",
       "      <td>-0.157544</td>\n",
       "      <td>-0.144838</td>\n",
       "      <td>-0.147288</td>\n",
       "      <td>-0.134569</td>\n",
       "      <td>-0.115597</td>\n",
       "    </tr>\n",
       "    <tr>\n",
       "      <th>SK하이닉스</th>\n",
       "      <td>0.170613</td>\n",
       "      <td>0.173076</td>\n",
       "      <td>0.186036</td>\n",
       "      <td>0.187680</td>\n",
       "      <td>0.186812</td>\n",
       "      <td>0.183779</td>\n",
       "      <td>0.158961</td>\n",
       "      <td>0.143069</td>\n",
       "      <td>0.146274</td>\n",
       "      <td>0.128679</td>\n",
       "      <td>...</td>\n",
       "      <td>0.604030</td>\n",
       "      <td>0.580947</td>\n",
       "      <td>0.544400</td>\n",
       "      <td>0.640603</td>\n",
       "      <td>0.640917</td>\n",
       "      <td>0.632711</td>\n",
       "      <td>0.700086</td>\n",
       "      <td>0.730686</td>\n",
       "      <td>0.714299</td>\n",
       "      <td>0.765605</td>\n",
       "    </tr>\n",
       "    <tr>\n",
       "      <th>LG에너지솔루션</th>\n",
       "      <td>-0.615973</td>\n",
       "      <td>-0.616712</td>\n",
       "      <td>-0.619834</td>\n",
       "      <td>-0.619141</td>\n",
       "      <td>-0.620675</td>\n",
       "      <td>-0.617370</td>\n",
       "      <td>-0.618672</td>\n",
       "      <td>-0.620550</td>\n",
       "      <td>-0.619540</td>\n",
       "      <td>-0.619050</td>\n",
       "      <td>...</td>\n",
       "      <td>2.735266</td>\n",
       "      <td>2.729701</td>\n",
       "      <td>2.760339</td>\n",
       "      <td>2.759809</td>\n",
       "      <td>2.766776</td>\n",
       "      <td>2.756524</td>\n",
       "      <td>2.704487</td>\n",
       "      <td>2.703097</td>\n",
       "      <td>2.660421</td>\n",
       "      <td>2.622611</td>\n",
       "    </tr>\n",
       "    <tr>\n",
       "      <th>현대차</th>\n",
       "      <td>0.610094</td>\n",
       "      <td>0.691200</td>\n",
       "      <td>0.698863</td>\n",
       "      <td>0.678544</td>\n",
       "      <td>0.673555</td>\n",
       "      <td>0.670588</td>\n",
       "      <td>0.650536</td>\n",
       "      <td>0.634562</td>\n",
       "      <td>0.643092</td>\n",
       "      <td>0.649907</td>\n",
       "      <td>...</td>\n",
       "      <td>1.289320</td>\n",
       "      <td>1.265043</td>\n",
       "      <td>1.290403</td>\n",
       "      <td>1.354257</td>\n",
       "      <td>1.283821</td>\n",
       "      <td>1.240134</td>\n",
       "      <td>1.258417</td>\n",
       "      <td>1.274441</td>\n",
       "      <td>1.226757</td>\n",
       "      <td>1.203578</td>\n",
       "    </tr>\n",
       "    <tr>\n",
       "      <th>삼성바이오로직스</th>\n",
       "      <td>3.522166</td>\n",
       "      <td>3.506908</td>\n",
       "      <td>3.562365</td>\n",
       "      <td>3.590323</td>\n",
       "      <td>3.638832</td>\n",
       "      <td>3.583017</td>\n",
       "      <td>3.613385</td>\n",
       "      <td>3.676742</td>\n",
       "      <td>3.639182</td>\n",
       "      <td>3.647386</td>\n",
       "      <td>...</td>\n",
       "      <td>6.691900</td>\n",
       "      <td>6.667903</td>\n",
       "      <td>6.666925</td>\n",
       "      <td>6.619637</td>\n",
       "      <td>6.487246</td>\n",
       "      <td>6.443517</td>\n",
       "      <td>6.391745</td>\n",
       "      <td>6.400285</td>\n",
       "      <td>6.421065</td>\n",
       "      <td>6.441737</td>\n",
       "    </tr>\n",
       "    <tr>\n",
       "      <th>...</th>\n",
       "      <td>...</td>\n",
       "      <td>...</td>\n",
       "      <td>...</td>\n",
       "      <td>...</td>\n",
       "      <td>...</td>\n",
       "      <td>...</td>\n",
       "      <td>...</td>\n",
       "      <td>...</td>\n",
       "      <td>...</td>\n",
       "      <td>...</td>\n",
       "      <td>...</td>\n",
       "      <td>...</td>\n",
       "      <td>...</td>\n",
       "      <td>...</td>\n",
       "      <td>...</td>\n",
       "      <td>...</td>\n",
       "      <td>...</td>\n",
       "      <td>...</td>\n",
       "      <td>...</td>\n",
       "      <td>...</td>\n",
       "      <td>...</td>\n",
       "    </tr>\n",
       "    <tr>\n",
       "      <th>롯데관광개발</th>\n",
       "      <td>-0.506803</td>\n",
       "      <td>-0.508606</td>\n",
       "      <td>-0.512479</td>\n",
       "      <td>-0.506581</td>\n",
       "      <td>-0.508415</td>\n",
       "      <td>-0.508881</td>\n",
       "      <td>-0.511470</td>\n",
       "      <td>-0.515587</td>\n",
       "      <td>-0.515785</td>\n",
       "      <td>-0.515623</td>\n",
       "      <td>...</td>\n",
       "      <td>-0.756649</td>\n",
       "      <td>-0.755918</td>\n",
       "      <td>-0.758060</td>\n",
       "      <td>-0.760423</td>\n",
       "      <td>-0.760126</td>\n",
       "      <td>-0.755868</td>\n",
       "      <td>-0.760401</td>\n",
       "      <td>-0.751740</td>\n",
       "      <td>-0.753790</td>\n",
       "      <td>-0.751622</td>\n",
       "    </tr>\n",
       "    <tr>\n",
       "      <th>신풍제약</th>\n",
       "      <td>-0.151859</td>\n",
       "      <td>-0.161323</td>\n",
       "      <td>-0.139130</td>\n",
       "      <td>-0.144075</td>\n",
       "      <td>-0.137308</td>\n",
       "      <td>-0.122772</td>\n",
       "      <td>-0.123764</td>\n",
       "      <td>-0.116284</td>\n",
       "      <td>-0.124918</td>\n",
       "      <td>-0.127841</td>\n",
       "      <td>...</td>\n",
       "      <td>-0.732901</td>\n",
       "      <td>-0.732289</td>\n",
       "      <td>-0.724512</td>\n",
       "      <td>-0.728657</td>\n",
       "      <td>-0.698452</td>\n",
       "      <td>-0.676410</td>\n",
       "      <td>-0.696005</td>\n",
       "      <td>-0.698403</td>\n",
       "      <td>-0.700888</td>\n",
       "      <td>-0.701518</td>\n",
       "    </tr>\n",
       "    <tr>\n",
       "      <th>KG스틸</th>\n",
       "      <td>-0.534515</td>\n",
       "      <td>-0.537453</td>\n",
       "      <td>-0.537556</td>\n",
       "      <td>-0.537894</td>\n",
       "      <td>-0.531767</td>\n",
       "      <td>-0.527797</td>\n",
       "      <td>-0.532021</td>\n",
       "      <td>-0.533358</td>\n",
       "      <td>-0.535822</td>\n",
       "      <td>-0.537728</td>\n",
       "      <td>...</td>\n",
       "      <td>-0.772686</td>\n",
       "      <td>-0.774503</td>\n",
       "      <td>-0.775452</td>\n",
       "      <td>-0.777394</td>\n",
       "      <td>-0.778444</td>\n",
       "      <td>-0.774498</td>\n",
       "      <td>-0.780497</td>\n",
       "      <td>-0.776330</td>\n",
       "      <td>-0.777583</td>\n",
       "      <td>-0.776061</td>\n",
       "    </tr>\n",
       "    <tr>\n",
       "      <th>영풍</th>\n",
       "      <td>2.642343</td>\n",
       "      <td>2.637663</td>\n",
       "      <td>2.693815</td>\n",
       "      <td>2.715344</td>\n",
       "      <td>2.693679</td>\n",
       "      <td>2.659550</td>\n",
       "      <td>2.652940</td>\n",
       "      <td>2.744926</td>\n",
       "      <td>2.690752</td>\n",
       "      <td>2.721172</td>\n",
       "      <td>...</td>\n",
       "      <td>3.287355</td>\n",
       "      <td>3.304944</td>\n",
       "      <td>3.281217</td>\n",
       "      <td>3.351620</td>\n",
       "      <td>3.373042</td>\n",
       "      <td>3.280761</td>\n",
       "      <td>3.320486</td>\n",
       "      <td>3.313522</td>\n",
       "      <td>3.318425</td>\n",
       "      <td>3.297090</td>\n",
       "    </tr>\n",
       "    <tr>\n",
       "      <th>녹십자홀딩스</th>\n",
       "      <td>-0.421706</td>\n",
       "      <td>-0.424026</td>\n",
       "      <td>-0.429637</td>\n",
       "      <td>-0.435490</td>\n",
       "      <td>-0.435262</td>\n",
       "      <td>-0.433217</td>\n",
       "      <td>-0.420098</td>\n",
       "      <td>-0.413956</td>\n",
       "      <td>-0.410931</td>\n",
       "      <td>-0.412469</td>\n",
       "      <td>...</td>\n",
       "      <td>-0.688821</td>\n",
       "      <td>-0.689190</td>\n",
       "      <td>-0.685932</td>\n",
       "      <td>-0.686882</td>\n",
       "      <td>-0.685891</td>\n",
       "      <td>-0.681002</td>\n",
       "      <td>-0.687442</td>\n",
       "      <td>-0.685156</td>\n",
       "      <td>-0.687554</td>\n",
       "      <td>-0.686802</td>\n",
       "    </tr>\n",
       "  </tbody>\n",
       "</table>\n",
       "<p>200 rows × 738 columns</p>\n",
       "</div>"
      ],
      "text/plain": [
       "Date      2021-04-01  2021-04-02  2021-04-05  2021-04-06  2021-04-07  \\\n",
       "삼성전자       -0.151859   -0.141719   -0.138566   -0.133920   -0.138996   \n",
       "SK하이닉스      0.170613    0.173076    0.186036    0.187680    0.186812   \n",
       "LG에너지솔루션   -0.615973   -0.616712   -0.619834   -0.619141   -0.620675   \n",
       "현대차         0.610094    0.691200    0.698863    0.678544    0.673555   \n",
       "삼성바이오로직스    3.522166    3.506908    3.562365    3.590323    3.638832   \n",
       "...              ...         ...         ...         ...         ...   \n",
       "롯데관광개발     -0.506803   -0.508606   -0.512479   -0.506581   -0.508415   \n",
       "신풍제약       -0.151859   -0.161323   -0.139130   -0.144075   -0.137308   \n",
       "KG스틸       -0.534515   -0.537453   -0.537556   -0.537894   -0.531767   \n",
       "영풍          2.642343    2.637663    2.693815    2.715344    2.693679   \n",
       "녹십자홀딩스     -0.421706   -0.424026   -0.429637   -0.435490   -0.435262   \n",
       "\n",
       "Date      2021-04-08  2021-04-09  2021-04-12  2021-04-13  2021-04-14  ...  \\\n",
       "삼성전자       -0.146139   -0.154314   -0.158491   -0.158405   -0.160588  ...   \n",
       "SK하이닉스      0.183779    0.158961    0.143069    0.146274    0.128679  ...   \n",
       "LG에너지솔루션   -0.617370   -0.618672   -0.620550   -0.619540   -0.619050  ...   \n",
       "현대차         0.670588    0.650536    0.634562    0.643092    0.649907  ...   \n",
       "삼성바이오로직스    3.583017    3.613385    3.676742    3.639182    3.647386  ...   \n",
       "...              ...         ...         ...         ...         ...  ...   \n",
       "롯데관광개발     -0.508881   -0.511470   -0.515587   -0.515785   -0.515623  ...   \n",
       "신풍제약       -0.122772   -0.123764   -0.116284   -0.124918   -0.127841  ...   \n",
       "KG스틸       -0.527797   -0.532021   -0.533358   -0.535822   -0.537728  ...   \n",
       "영풍          2.659550    2.652940    2.744926    2.690752    2.721172  ...   \n",
       "녹십자홀딩스     -0.433217   -0.420098   -0.413956   -0.410931   -0.412469  ...   \n",
       "\n",
       "Date      2024-03-18  2024-03-19  2024-03-20  2024-03-21  2024-03-22  \\\n",
       "삼성전자       -0.197813   -0.192534   -0.158344   -0.148769   -0.152027   \n",
       "SK하이닉스      0.604030    0.580947    0.544400    0.640603    0.640917   \n",
       "LG에너지솔루션    2.735266    2.729701    2.760339    2.759809    2.766776   \n",
       "현대차         1.289320    1.265043    1.290403    1.354257    1.283821   \n",
       "삼성바이오로직스    6.691900    6.667903    6.666925    6.619637    6.487246   \n",
       "...              ...         ...         ...         ...         ...   \n",
       "롯데관광개발     -0.756649   -0.755918   -0.758060   -0.760423   -0.760126   \n",
       "신풍제약       -0.732901   -0.732289   -0.724512   -0.728657   -0.698452   \n",
       "KG스틸       -0.772686   -0.774503   -0.775452   -0.777394   -0.778444   \n",
       "영풍          3.287355    3.304944    3.281217    3.351620    3.373042   \n",
       "녹십자홀딩스     -0.688821   -0.689190   -0.685932   -0.686882   -0.685891   \n",
       "\n",
       "Date      2024-03-25  2024-03-26  2024-03-27  2024-03-28  2024-03-29  \n",
       "삼성전자       -0.157544   -0.144838   -0.147288   -0.134569   -0.115597  \n",
       "SK하이닉스      0.632711    0.700086    0.730686    0.714299    0.765605  \n",
       "LG에너지솔루션    2.756524    2.704487    2.703097    2.660421    2.622611  \n",
       "현대차         1.240134    1.258417    1.274441    1.226757    1.203578  \n",
       "삼성바이오로직스    6.443517    6.391745    6.400285    6.421065    6.441737  \n",
       "...              ...         ...         ...         ...         ...  \n",
       "롯데관광개발     -0.755868   -0.760401   -0.751740   -0.753790   -0.751622  \n",
       "신풍제약       -0.676410   -0.696005   -0.698403   -0.700888   -0.701518  \n",
       "KG스틸       -0.774498   -0.780497   -0.776330   -0.777583   -0.776061  \n",
       "영풍          3.280761    3.320486    3.313522    3.318425    3.297090  \n",
       "녹십자홀딩스     -0.681002   -0.687442   -0.685156   -0.687554   -0.686802  \n",
       "\n",
       "[200 rows x 738 columns]"
      ]
     },
     "execution_count": 34,
     "metadata": {},
     "output_type": "execute_result"
    }
   ],
   "source": [
    "import pandas as pd\n",
    "df_price = pd.read_pickle('../../fkl/price_normal.fkl')\n",
    "df_price = df_price.dropna(axis = 0)\n",
    "df_price"
   ]
  },
  {
   "cell_type": "code",
   "execution_count": 18,
   "id": "17089fe1",
   "metadata": {},
   "outputs": [
    {
     "name": "stderr",
     "output_type": "stream",
     "text": [
      "100%|████████████████████████████████████████████████████████████████████████████████| 194/194 [32:03<00:00,  9.91s/it]\n"
     ]
    }
   ],
   "source": [
    "from dtaidistance import dtw\n",
    "dtw_matrix = dtw.distance_matrix(df_price.to_numpy(), show_progress=True)"
   ]
  },
  {
   "cell_type": "code",
   "execution_count": 19,
   "id": "e4d752a8",
   "metadata": {},
   "outputs": [],
   "source": [
    "dtw_matrix\n",
    "df_dtw_matrix = pd.DataFrame(dtw_matrix)\n",
    "df_dtw_matrix.index = df_price.index\n"
   ]
  },
  {
   "cell_type": "code",
   "execution_count": 20,
   "id": "2ca5e388",
   "metadata": {},
   "outputs": [
    {
     "data": {
      "text/html": [
       "<div>\n",
       "<style scoped>\n",
       "    .dataframe tbody tr th:only-of-type {\n",
       "        vertical-align: middle;\n",
       "    }\n",
       "\n",
       "    .dataframe tbody tr th {\n",
       "        vertical-align: top;\n",
       "    }\n",
       "\n",
       "    .dataframe thead th {\n",
       "        text-align: right;\n",
       "    }\n",
       "</style>\n",
       "<table border=\"1\" class=\"dataframe\">\n",
       "  <thead>\n",
       "    <tr style=\"text-align: right;\">\n",
       "      <th></th>\n",
       "      <th>0</th>\n",
       "      <th>1</th>\n",
       "      <th>2</th>\n",
       "      <th>3</th>\n",
       "      <th>4</th>\n",
       "      <th>5</th>\n",
       "      <th>6</th>\n",
       "      <th>7</th>\n",
       "      <th>8</th>\n",
       "      <th>9</th>\n",
       "      <th>...</th>\n",
       "      <th>184</th>\n",
       "      <th>185</th>\n",
       "      <th>186</th>\n",
       "      <th>187</th>\n",
       "      <th>188</th>\n",
       "      <th>189</th>\n",
       "      <th>190</th>\n",
       "      <th>191</th>\n",
       "      <th>192</th>\n",
       "      <th>193</th>\n",
       "    </tr>\n",
       "  </thead>\n",
       "  <tbody>\n",
       "    <tr>\n",
       "      <th>삼성전자</th>\n",
       "      <td>0.000000</td>\n",
       "      <td>2.869467</td>\n",
       "      <td>7.750365</td>\n",
       "      <td>7.998594</td>\n",
       "      <td>5.084879</td>\n",
       "      <td>7.080470</td>\n",
       "      <td>7.049312</td>\n",
       "      <td>3.760821</td>\n",
       "      <td>5.806505</td>\n",
       "      <td>6.108392</td>\n",
       "      <td>...</td>\n",
       "      <td>9.234514</td>\n",
       "      <td>5.142929</td>\n",
       "      <td>7.526803</td>\n",
       "      <td>7.147105</td>\n",
       "      <td>5.187178</td>\n",
       "      <td>14.580965</td>\n",
       "      <td>7.027403</td>\n",
       "      <td>5.022545</td>\n",
       "      <td>17.638922</td>\n",
       "      <td>22.867415</td>\n",
       "    </tr>\n",
       "    <tr>\n",
       "      <th>SK하이닉스</th>\n",
       "      <td>2.869467</td>\n",
       "      <td>0.000000</td>\n",
       "      <td>9.453427</td>\n",
       "      <td>9.052383</td>\n",
       "      <td>5.259753</td>\n",
       "      <td>8.613628</td>\n",
       "      <td>8.787274</td>\n",
       "      <td>4.788209</td>\n",
       "      <td>7.697084</td>\n",
       "      <td>5.142949</td>\n",
       "      <td>...</td>\n",
       "      <td>7.042576</td>\n",
       "      <td>4.740617</td>\n",
       "      <td>9.587700</td>\n",
       "      <td>5.740314</td>\n",
       "      <td>6.541818</td>\n",
       "      <td>13.296300</td>\n",
       "      <td>5.085923</td>\n",
       "      <td>4.241785</td>\n",
       "      <td>14.977939</td>\n",
       "      <td>20.482347</td>\n",
       "    </tr>\n",
       "    <tr>\n",
       "      <th>NAVER</th>\n",
       "      <td>7.750365</td>\n",
       "      <td>9.453427</td>\n",
       "      <td>0.000000</td>\n",
       "      <td>6.312767</td>\n",
       "      <td>8.391875</td>\n",
       "      <td>2.224759</td>\n",
       "      <td>4.463978</td>\n",
       "      <td>7.487354</td>\n",
       "      <td>4.939854</td>\n",
       "      <td>11.708098</td>\n",
       "      <td>...</td>\n",
       "      <td>10.604207</td>\n",
       "      <td>4.457010</td>\n",
       "      <td>3.184299</td>\n",
       "      <td>9.459375</td>\n",
       "      <td>3.308220</td>\n",
       "      <td>16.957284</td>\n",
       "      <td>11.236154</td>\n",
       "      <td>6.089922</td>\n",
       "      <td>22.704672</td>\n",
       "      <td>26.548097</td>\n",
       "    </tr>\n",
       "    <tr>\n",
       "      <th>삼성바이오로직스</th>\n",
       "      <td>7.998594</td>\n",
       "      <td>9.052383</td>\n",
       "      <td>6.312767</td>\n",
       "      <td>0.000000</td>\n",
       "      <td>8.005945</td>\n",
       "      <td>5.164912</td>\n",
       "      <td>5.424367</td>\n",
       "      <td>7.537216</td>\n",
       "      <td>6.486340</td>\n",
       "      <td>10.885658</td>\n",
       "      <td>...</td>\n",
       "      <td>9.984731</td>\n",
       "      <td>7.310370</td>\n",
       "      <td>5.443423</td>\n",
       "      <td>8.188671</td>\n",
       "      <td>5.488283</td>\n",
       "      <td>13.382969</td>\n",
       "      <td>10.323901</td>\n",
       "      <td>6.261957</td>\n",
       "      <td>16.792976</td>\n",
       "      <td>21.889155</td>\n",
       "    </tr>\n",
       "    <tr>\n",
       "      <th>LG화학</th>\n",
       "      <td>5.084879</td>\n",
       "      <td>5.259753</td>\n",
       "      <td>8.391875</td>\n",
       "      <td>8.005945</td>\n",
       "      <td>0.000000</td>\n",
       "      <td>8.104657</td>\n",
       "      <td>7.148895</td>\n",
       "      <td>4.213296</td>\n",
       "      <td>5.919671</td>\n",
       "      <td>7.578024</td>\n",
       "      <td>...</td>\n",
       "      <td>7.776600</td>\n",
       "      <td>5.542517</td>\n",
       "      <td>6.915840</td>\n",
       "      <td>6.345079</td>\n",
       "      <td>6.712172</td>\n",
       "      <td>14.323839</td>\n",
       "      <td>7.966059</td>\n",
       "      <td>5.534552</td>\n",
       "      <td>15.226068</td>\n",
       "      <td>20.536643</td>\n",
       "    </tr>\n",
       "    <tr>\n",
       "      <th>...</th>\n",
       "      <td>...</td>\n",
       "      <td>...</td>\n",
       "      <td>...</td>\n",
       "      <td>...</td>\n",
       "      <td>...</td>\n",
       "      <td>...</td>\n",
       "      <td>...</td>\n",
       "      <td>...</td>\n",
       "      <td>...</td>\n",
       "      <td>...</td>\n",
       "      <td>...</td>\n",
       "      <td>...</td>\n",
       "      <td>...</td>\n",
       "      <td>...</td>\n",
       "      <td>...</td>\n",
       "      <td>...</td>\n",
       "      <td>...</td>\n",
       "      <td>...</td>\n",
       "      <td>...</td>\n",
       "      <td>...</td>\n",
       "      <td>...</td>\n",
       "    </tr>\n",
       "    <tr>\n",
       "      <th>현대두산인프라코어</th>\n",
       "      <td>14.580965</td>\n",
       "      <td>13.296300</td>\n",
       "      <td>16.957284</td>\n",
       "      <td>13.382969</td>\n",
       "      <td>14.323839</td>\n",
       "      <td>15.337753</td>\n",
       "      <td>17.271091</td>\n",
       "      <td>15.151025</td>\n",
       "      <td>17.777913</td>\n",
       "      <td>11.061849</td>\n",
       "      <td>...</td>\n",
       "      <td>9.239220</td>\n",
       "      <td>14.336278</td>\n",
       "      <td>16.487159</td>\n",
       "      <td>10.646334</td>\n",
       "      <td>15.524986</td>\n",
       "      <td>0.000000</td>\n",
       "      <td>9.857081</td>\n",
       "      <td>11.836621</td>\n",
       "      <td>13.191419</td>\n",
       "      <td>14.903657</td>\n",
       "    </tr>\n",
       "    <tr>\n",
       "      <th>롯데하이마트</th>\n",
       "      <td>7.027403</td>\n",
       "      <td>5.085923</td>\n",
       "      <td>11.236154</td>\n",
       "      <td>10.323901</td>\n",
       "      <td>7.966059</td>\n",
       "      <td>10.229490</td>\n",
       "      <td>11.657364</td>\n",
       "      <td>7.164353</td>\n",
       "      <td>10.661715</td>\n",
       "      <td>4.760187</td>\n",
       "      <td>...</td>\n",
       "      <td>6.166942</td>\n",
       "      <td>6.182018</td>\n",
       "      <td>11.411102</td>\n",
       "      <td>3.763640</td>\n",
       "      <td>8.627309</td>\n",
       "      <td>9.857081</td>\n",
       "      <td>0.000000</td>\n",
       "      <td>4.861798</td>\n",
       "      <td>13.180435</td>\n",
       "      <td>18.586290</td>\n",
       "    </tr>\n",
       "    <tr>\n",
       "      <th>LX하우시스</th>\n",
       "      <td>5.022545</td>\n",
       "      <td>4.241785</td>\n",
       "      <td>6.089922</td>\n",
       "      <td>6.261957</td>\n",
       "      <td>5.534552</td>\n",
       "      <td>5.441999</td>\n",
       "      <td>7.043210</td>\n",
       "      <td>5.253966</td>\n",
       "      <td>6.763026</td>\n",
       "      <td>5.406743</td>\n",
       "      <td>...</td>\n",
       "      <td>5.270118</td>\n",
       "      <td>4.173046</td>\n",
       "      <td>6.523484</td>\n",
       "      <td>5.108574</td>\n",
       "      <td>4.472748</td>\n",
       "      <td>11.836621</td>\n",
       "      <td>4.861798</td>\n",
       "      <td>0.000000</td>\n",
       "      <td>17.454249</td>\n",
       "      <td>22.516920</td>\n",
       "    </tr>\n",
       "    <tr>\n",
       "      <th>삼양식품</th>\n",
       "      <td>17.638922</td>\n",
       "      <td>14.977939</td>\n",
       "      <td>22.704672</td>\n",
       "      <td>16.792976</td>\n",
       "      <td>15.226068</td>\n",
       "      <td>21.894130</td>\n",
       "      <td>20.581945</td>\n",
       "      <td>17.924761</td>\n",
       "      <td>21.570816</td>\n",
       "      <td>8.817446</td>\n",
       "      <td>...</td>\n",
       "      <td>11.508948</td>\n",
       "      <td>19.577548</td>\n",
       "      <td>22.257496</td>\n",
       "      <td>15.260678</td>\n",
       "      <td>21.023643</td>\n",
       "      <td>13.191419</td>\n",
       "      <td>13.180435</td>\n",
       "      <td>17.454249</td>\n",
       "      <td>0.000000</td>\n",
       "      <td>5.740042</td>\n",
       "    </tr>\n",
       "    <tr>\n",
       "      <th>일양약품</th>\n",
       "      <td>22.867415</td>\n",
       "      <td>20.482347</td>\n",
       "      <td>26.548097</td>\n",
       "      <td>21.889155</td>\n",
       "      <td>20.536643</td>\n",
       "      <td>25.473871</td>\n",
       "      <td>25.340200</td>\n",
       "      <td>22.834847</td>\n",
       "      <td>25.597634</td>\n",
       "      <td>13.602884</td>\n",
       "      <td>...</td>\n",
       "      <td>17.685700</td>\n",
       "      <td>24.052898</td>\n",
       "      <td>25.205079</td>\n",
       "      <td>20.075234</td>\n",
       "      <td>25.303854</td>\n",
       "      <td>14.903657</td>\n",
       "      <td>18.586290</td>\n",
       "      <td>22.516920</td>\n",
       "      <td>5.740042</td>\n",
       "      <td>0.000000</td>\n",
       "    </tr>\n",
       "  </tbody>\n",
       "</table>\n",
       "<p>194 rows × 194 columns</p>\n",
       "</div>"
      ],
      "text/plain": [
       "                 0          1          2          3          4          5    \\\n",
       "삼성전자        0.000000   2.869467   7.750365   7.998594   5.084879   7.080470   \n",
       "SK하이닉스      2.869467   0.000000   9.453427   9.052383   5.259753   8.613628   \n",
       "NAVER       7.750365   9.453427   0.000000   6.312767   8.391875   2.224759   \n",
       "삼성바이오로직스    7.998594   9.052383   6.312767   0.000000   8.005945   5.164912   \n",
       "LG화학        5.084879   5.259753   8.391875   8.005945   0.000000   8.104657   \n",
       "...              ...        ...        ...        ...        ...        ...   \n",
       "현대두산인프라코어  14.580965  13.296300  16.957284  13.382969  14.323839  15.337753   \n",
       "롯데하이마트      7.027403   5.085923  11.236154  10.323901   7.966059  10.229490   \n",
       "LX하우시스      5.022545   4.241785   6.089922   6.261957   5.534552   5.441999   \n",
       "삼양식품       17.638922  14.977939  22.704672  16.792976  15.226068  21.894130   \n",
       "일양약품       22.867415  20.482347  26.548097  21.889155  20.536643  25.473871   \n",
       "\n",
       "                 6          7          8          9    ...        184  \\\n",
       "삼성전자        7.049312   3.760821   5.806505   6.108392  ...   9.234514   \n",
       "SK하이닉스      8.787274   4.788209   7.697084   5.142949  ...   7.042576   \n",
       "NAVER       4.463978   7.487354   4.939854  11.708098  ...  10.604207   \n",
       "삼성바이오로직스    5.424367   7.537216   6.486340  10.885658  ...   9.984731   \n",
       "LG화학        7.148895   4.213296   5.919671   7.578024  ...   7.776600   \n",
       "...              ...        ...        ...        ...  ...        ...   \n",
       "현대두산인프라코어  17.271091  15.151025  17.777913  11.061849  ...   9.239220   \n",
       "롯데하이마트     11.657364   7.164353  10.661715   4.760187  ...   6.166942   \n",
       "LX하우시스      7.043210   5.253966   6.763026   5.406743  ...   5.270118   \n",
       "삼양식품       20.581945  17.924761  21.570816   8.817446  ...  11.508948   \n",
       "일양약품       25.340200  22.834847  25.597634  13.602884  ...  17.685700   \n",
       "\n",
       "                 185        186        187        188        189        190  \\\n",
       "삼성전자        5.142929   7.526803   7.147105   5.187178  14.580965   7.027403   \n",
       "SK하이닉스      4.740617   9.587700   5.740314   6.541818  13.296300   5.085923   \n",
       "NAVER       4.457010   3.184299   9.459375   3.308220  16.957284  11.236154   \n",
       "삼성바이오로직스    7.310370   5.443423   8.188671   5.488283  13.382969  10.323901   \n",
       "LG화학        5.542517   6.915840   6.345079   6.712172  14.323839   7.966059   \n",
       "...              ...        ...        ...        ...        ...        ...   \n",
       "현대두산인프라코어  14.336278  16.487159  10.646334  15.524986   0.000000   9.857081   \n",
       "롯데하이마트      6.182018  11.411102   3.763640   8.627309   9.857081   0.000000   \n",
       "LX하우시스      4.173046   6.523484   5.108574   4.472748  11.836621   4.861798   \n",
       "삼양식품       19.577548  22.257496  15.260678  21.023643  13.191419  13.180435   \n",
       "일양약품       24.052898  25.205079  20.075234  25.303854  14.903657  18.586290   \n",
       "\n",
       "                 191        192        193  \n",
       "삼성전자        5.022545  17.638922  22.867415  \n",
       "SK하이닉스      4.241785  14.977939  20.482347  \n",
       "NAVER       6.089922  22.704672  26.548097  \n",
       "삼성바이오로직스    6.261957  16.792976  21.889155  \n",
       "LG화학        5.534552  15.226068  20.536643  \n",
       "...              ...        ...        ...  \n",
       "현대두산인프라코어  11.836621  13.191419  14.903657  \n",
       "롯데하이마트      4.861798  13.180435  18.586290  \n",
       "LX하우시스      0.000000  17.454249  22.516920  \n",
       "삼양식품       17.454249   0.000000   5.740042  \n",
       "일양약품       22.516920   5.740042   0.000000  \n",
       "\n",
       "[194 rows x 194 columns]"
      ]
     },
     "execution_count": 20,
     "metadata": {},
     "output_type": "execute_result"
    }
   ],
   "source": [
    "df_dtw_matrix"
   ]
  },
  {
   "cell_type": "code",
   "execution_count": 8,
   "id": "77978b3a",
   "metadata": {},
   "outputs": [],
   "source": [
    "df_dart = pd.read_pickle('./dart_khaiii.fkl')"
   ]
  },
  {
   "cell_type": "code",
   "execution_count": 9,
   "id": "3c797a8a",
   "metadata": {},
   "outputs": [
    {
     "ename": "KeyError",
     "evalue": "'x'",
     "output_type": "error",
     "traceback": [
      "\u001b[1;31m---------------------------------------------------------------------------\u001b[0m",
      "\u001b[1;31mKeyError\u001b[0m                                  Traceback (most recent call last)",
      "\u001b[1;32m~\\anaconda3\\lib\\site-packages\\pandas\\core\\indexes\\base.py\u001b[0m in \u001b[0;36mget_loc\u001b[1;34m(self, key, method, tolerance)\u001b[0m\n\u001b[0;32m   3360\u001b[0m             \u001b[1;32mtry\u001b[0m\u001b[1;33m:\u001b[0m\u001b[1;33m\u001b[0m\u001b[1;33m\u001b[0m\u001b[0m\n\u001b[1;32m-> 3361\u001b[1;33m                 \u001b[1;32mreturn\u001b[0m \u001b[0mself\u001b[0m\u001b[1;33m.\u001b[0m\u001b[0m_engine\u001b[0m\u001b[1;33m.\u001b[0m\u001b[0mget_loc\u001b[0m\u001b[1;33m(\u001b[0m\u001b[0mcasted_key\u001b[0m\u001b[1;33m)\u001b[0m\u001b[1;33m\u001b[0m\u001b[1;33m\u001b[0m\u001b[0m\n\u001b[0m\u001b[0;32m   3362\u001b[0m             \u001b[1;32mexcept\u001b[0m \u001b[0mKeyError\u001b[0m \u001b[1;32mas\u001b[0m \u001b[0merr\u001b[0m\u001b[1;33m:\u001b[0m\u001b[1;33m\u001b[0m\u001b[1;33m\u001b[0m\u001b[0m\n",
      "\u001b[1;32m~\\anaconda3\\lib\\site-packages\\pandas\\_libs\\index.pyx\u001b[0m in \u001b[0;36mpandas._libs.index.IndexEngine.get_loc\u001b[1;34m()\u001b[0m\n",
      "\u001b[1;32m~\\anaconda3\\lib\\site-packages\\pandas\\_libs\\index.pyx\u001b[0m in \u001b[0;36mpandas._libs.index.IndexEngine.get_loc\u001b[1;34m()\u001b[0m\n",
      "\u001b[1;32mpandas\\_libs\\hashtable_class_helper.pxi\u001b[0m in \u001b[0;36mpandas._libs.hashtable.PyObjectHashTable.get_item\u001b[1;34m()\u001b[0m\n",
      "\u001b[1;32mpandas\\_libs\\hashtable_class_helper.pxi\u001b[0m in \u001b[0;36mpandas._libs.hashtable.PyObjectHashTable.get_item\u001b[1;34m()\u001b[0m\n",
      "\u001b[1;31mKeyError\u001b[0m: 'x'",
      "\nThe above exception was the direct cause of the following exception:\n",
      "\u001b[1;31mKeyError\u001b[0m                                  Traceback (most recent call last)",
      "\u001b[1;32m<ipython-input-9-9be715a6e514>\u001b[0m in \u001b[0;36m<module>\u001b[1;34m\u001b[0m\n\u001b[0;32m      3\u001b[0m \u001b[1;33m\u001b[0m\u001b[0m\n\u001b[0;32m      4\u001b[0m \u001b[1;32mfor\u001b[0m \u001b[0mi\u001b[0m \u001b[1;32min\u001b[0m \u001b[0mrange\u001b[0m\u001b[1;33m(\u001b[0m\u001b[1;36m0\u001b[0m\u001b[1;33m,\u001b[0m\u001b[1;36m200\u001b[0m\u001b[1;33m)\u001b[0m\u001b[1;33m:\u001b[0m\u001b[1;33m\u001b[0m\u001b[1;33m\u001b[0m\u001b[0m\n\u001b[1;32m----> 5\u001b[1;33m     \u001b[0mtest\u001b[0m \u001b[1;33m=\u001b[0m \u001b[0mdf_dart\u001b[0m\u001b[1;33m.\u001b[0m\u001b[0miloc\u001b[0m\u001b[1;33m[\u001b[0m\u001b[0mi\u001b[0m\u001b[1;33m]\u001b[0m\u001b[1;33m[\u001b[0m\u001b[1;34m'x'\u001b[0m\u001b[1;33m]\u001b[0m\u001b[1;33m\u001b[0m\u001b[1;33m\u001b[0m\u001b[0m\n\u001b[0m\u001b[0;32m      6\u001b[0m     \u001b[0mtest\u001b[0m \u001b[1;33m=\u001b[0m \u001b[0mre\u001b[0m\u001b[1;33m.\u001b[0m\u001b[0msub\u001b[0m\u001b[1;33m(\u001b[0m\u001b[1;34m'[☞※+#/\\?:^$@*\\\"※~&%ㆍ!》■○◆]'\u001b[0m\u001b[1;33m,\u001b[0m\u001b[1;34m' '\u001b[0m\u001b[1;33m,\u001b[0m\u001b[0mtest\u001b[0m\u001b[1;33m)\u001b[0m\u001b[1;33m\u001b[0m\u001b[1;33m\u001b[0m\u001b[0m\n\u001b[0;32m      7\u001b[0m     \u001b[0mtest\u001b[0m \u001b[1;33m=\u001b[0m \u001b[0mtest\u001b[0m\u001b[1;33m.\u001b[0m\u001b[0mreplace\u001b[0m\u001b[1;33m(\u001b[0m\u001b[1;34m'\\xa0'\u001b[0m\u001b[1;33m,\u001b[0m\u001b[1;34m' '\u001b[0m\u001b[1;33m)\u001b[0m\u001b[1;33m\u001b[0m\u001b[1;33m\u001b[0m\u001b[0m\n",
      "\u001b[1;32m~\\anaconda3\\lib\\site-packages\\pandas\\core\\series.py\u001b[0m in \u001b[0;36m__getitem__\u001b[1;34m(self, key)\u001b[0m\n\u001b[0;32m    940\u001b[0m \u001b[1;33m\u001b[0m\u001b[0m\n\u001b[0;32m    941\u001b[0m         \u001b[1;32melif\u001b[0m \u001b[0mkey_is_scalar\u001b[0m\u001b[1;33m:\u001b[0m\u001b[1;33m\u001b[0m\u001b[1;33m\u001b[0m\u001b[0m\n\u001b[1;32m--> 942\u001b[1;33m             \u001b[1;32mreturn\u001b[0m \u001b[0mself\u001b[0m\u001b[1;33m.\u001b[0m\u001b[0m_get_value\u001b[0m\u001b[1;33m(\u001b[0m\u001b[0mkey\u001b[0m\u001b[1;33m)\u001b[0m\u001b[1;33m\u001b[0m\u001b[1;33m\u001b[0m\u001b[0m\n\u001b[0m\u001b[0;32m    943\u001b[0m \u001b[1;33m\u001b[0m\u001b[0m\n\u001b[0;32m    944\u001b[0m         \u001b[1;32mif\u001b[0m \u001b[0mis_hashable\u001b[0m\u001b[1;33m(\u001b[0m\u001b[0mkey\u001b[0m\u001b[1;33m)\u001b[0m\u001b[1;33m:\u001b[0m\u001b[1;33m\u001b[0m\u001b[1;33m\u001b[0m\u001b[0m\n",
      "\u001b[1;32m~\\anaconda3\\lib\\site-packages\\pandas\\core\\series.py\u001b[0m in \u001b[0;36m_get_value\u001b[1;34m(self, label, takeable)\u001b[0m\n\u001b[0;32m   1049\u001b[0m \u001b[1;33m\u001b[0m\u001b[0m\n\u001b[0;32m   1050\u001b[0m         \u001b[1;31m# Similar to Index.get_value, but we do not fall back to positional\u001b[0m\u001b[1;33m\u001b[0m\u001b[1;33m\u001b[0m\u001b[1;33m\u001b[0m\u001b[0m\n\u001b[1;32m-> 1051\u001b[1;33m         \u001b[0mloc\u001b[0m \u001b[1;33m=\u001b[0m \u001b[0mself\u001b[0m\u001b[1;33m.\u001b[0m\u001b[0mindex\u001b[0m\u001b[1;33m.\u001b[0m\u001b[0mget_loc\u001b[0m\u001b[1;33m(\u001b[0m\u001b[0mlabel\u001b[0m\u001b[1;33m)\u001b[0m\u001b[1;33m\u001b[0m\u001b[1;33m\u001b[0m\u001b[0m\n\u001b[0m\u001b[0;32m   1052\u001b[0m         \u001b[1;32mreturn\u001b[0m \u001b[0mself\u001b[0m\u001b[1;33m.\u001b[0m\u001b[0mindex\u001b[0m\u001b[1;33m.\u001b[0m\u001b[0m_get_values_for_loc\u001b[0m\u001b[1;33m(\u001b[0m\u001b[0mself\u001b[0m\u001b[1;33m,\u001b[0m \u001b[0mloc\u001b[0m\u001b[1;33m,\u001b[0m \u001b[0mlabel\u001b[0m\u001b[1;33m)\u001b[0m\u001b[1;33m\u001b[0m\u001b[1;33m\u001b[0m\u001b[0m\n\u001b[0;32m   1053\u001b[0m \u001b[1;33m\u001b[0m\u001b[0m\n",
      "\u001b[1;32m~\\anaconda3\\lib\\site-packages\\pandas\\core\\indexes\\base.py\u001b[0m in \u001b[0;36mget_loc\u001b[1;34m(self, key, method, tolerance)\u001b[0m\n\u001b[0;32m   3361\u001b[0m                 \u001b[1;32mreturn\u001b[0m \u001b[0mself\u001b[0m\u001b[1;33m.\u001b[0m\u001b[0m_engine\u001b[0m\u001b[1;33m.\u001b[0m\u001b[0mget_loc\u001b[0m\u001b[1;33m(\u001b[0m\u001b[0mcasted_key\u001b[0m\u001b[1;33m)\u001b[0m\u001b[1;33m\u001b[0m\u001b[1;33m\u001b[0m\u001b[0m\n\u001b[0;32m   3362\u001b[0m             \u001b[1;32mexcept\u001b[0m \u001b[0mKeyError\u001b[0m \u001b[1;32mas\u001b[0m \u001b[0merr\u001b[0m\u001b[1;33m:\u001b[0m\u001b[1;33m\u001b[0m\u001b[1;33m\u001b[0m\u001b[0m\n\u001b[1;32m-> 3363\u001b[1;33m                 \u001b[1;32mraise\u001b[0m \u001b[0mKeyError\u001b[0m\u001b[1;33m(\u001b[0m\u001b[0mkey\u001b[0m\u001b[1;33m)\u001b[0m \u001b[1;32mfrom\u001b[0m \u001b[0merr\u001b[0m\u001b[1;33m\u001b[0m\u001b[1;33m\u001b[0m\u001b[0m\n\u001b[0m\u001b[0;32m   3364\u001b[0m \u001b[1;33m\u001b[0m\u001b[0m\n\u001b[0;32m   3365\u001b[0m         \u001b[1;32mif\u001b[0m \u001b[0mis_scalar\u001b[0m\u001b[1;33m(\u001b[0m\u001b[0mkey\u001b[0m\u001b[1;33m)\u001b[0m \u001b[1;32mand\u001b[0m \u001b[0misna\u001b[0m\u001b[1;33m(\u001b[0m\u001b[0mkey\u001b[0m\u001b[1;33m)\u001b[0m \u001b[1;32mand\u001b[0m \u001b[1;32mnot\u001b[0m \u001b[0mself\u001b[0m\u001b[1;33m.\u001b[0m\u001b[0mhasnans\u001b[0m\u001b[1;33m:\u001b[0m\u001b[1;33m\u001b[0m\u001b[1;33m\u001b[0m\u001b[0m\n",
      "\u001b[1;31mKeyError\u001b[0m: 'x'"
     ]
    }
   ],
   "source": [
    "import re\n",
    "\n",
    "\n",
    "for i in range(0,200):\n",
    "    test = df_dart.iloc[i]['x']\n",
    "    test = re.sub('[☞※+#/\\?:^$@*\\\"※~&%ㆍ!》■○◆]',' ',test)\n",
    "    test = test.replace('\\xa0',' ')\n",
    "    test = test.replace('\\n',' ')\n",
    "    test = test.replace('㈜','')\n",
    "    df_dart.iloc[i]['x'] =test\n"
   ]
  },
  {
   "cell_type": "code",
   "execution_count": 12,
   "id": "430406a9",
   "metadata": {},
   "outputs": [],
   "source": [
    "df_dart.to_csv('./dart.csv', encoding= 'euc-kr')"
   ]
  },
  {
   "cell_type": "code",
   "execution_count": null,
   "id": "42576920",
   "metadata": {},
   "outputs": [],
   "source": [
    "# 신규 상장 기업인듯\n",
    "for company in df_price:\n",
    "    if df_price[company].isnull().sum() != 0:\n",
    "        print('{}, {}개'.format(company, df_price[company].isnull().sum()))"
   ]
  },
  {
   "cell_type": "code",
   "execution_count": 29,
   "id": "67156cfa",
   "metadata": {},
   "outputs": [
    {
     "name": "stdout",
     "output_type": "stream",
     "text": [
      "110025.04494384765 178619.8560229196\n",
      "110100.8551953125 178528.93786538864\n",
      "109988.26137207031 177447.885146961\n",
      "109735.73946289062 177238.80993089304\n",
      "110301.2965209961 177711.84656236382\n",
      "110967.23331054687 179741.99805186124\n",
      "111381.68556396484 180033.5653145494\n",
      "111738.46118164062 180063.68406246128\n",
      "112854.881015625 182159.17270028676\n",
      "113423.1688671875 183221.36831936747\n",
      "113940.87396484375 183978.55882882772\n",
      "114904.21327392578 185941.31860871596\n",
      "115099.07982910157 185191.08043741173\n",
      "116076.7325390625 186517.9809342294\n",
      "114786.07813476563 183823.10600598846\n",
      "115036.4284423828 182872.69938541652\n",
      "115622.07429199219 186294.2355241864\n",
      "116561.32528320313 187076.66134635077\n",
      "116077.46541015625 185417.39262705066\n",
      "114574.66627929687 182866.64671572694\n",
      "114620.47981201172 184035.9257450934\n",
      "113709.5933984375 183115.8828925457\n",
      "112557.06653076172 182759.1570124647\n",
      "112953.60081787109 183053.62468888215\n",
      "115092.97645019532 185736.13932108722\n",
      "115991.05270263672 185964.23691996693\n",
      "118222.2428881836 189156.8708438908\n",
      "118273.89483154297 187194.09970971438\n",
      "116410.3724243164 184314.99355038293\n",
      "114692.68683349609 181471.96457382766\n",
      "115378.98881591797 183813.52852438684\n",
      "114678.44842285156 181640.67358967243\n",
      "116596.13868896484 184242.46461872404\n",
      "115918.98377441407 183671.19069156193\n",
      "115612.10930664063 182386.51291758116\n",
      "115157.32030273437 181846.3094615842\n",
      "116307.1328100586 182803.53471082007\n",
      "116288.76582519531 182676.0392331652\n",
      "115673.13591064453 179783.6481621954\n",
      "116389.27850097656 181362.49338542146\n",
      "116762.92120605469 182532.2053723101\n",
      "117117.1787133789 181603.10750238094\n",
      "117095.529609375 180235.68919929845\n",
      "117023.59377441407 179885.4280246643\n",
      "116780.85064697266 179937.01912031125\n",
      "117332.29196533203 180639.23969333587\n",
      "116935.02274414063 180195.49811434498\n",
      "115868.93495849609 178695.54402228296\n",
      "116193.18702392578 179477.76010135683\n",
      "116944.05569824218 181082.98459393997\n",
      "117423.35568847656 182047.14330090367\n",
      "117811.95641601563 183822.98544285257\n",
      "118544.00155029297 187702.11247686617\n",
      "118413.84252929688 187746.68302436615\n",
      "118708.63569824219 189389.09917038286\n",
      "117803.04240966796 189680.30607654594\n",
      "119015.18120117187 191188.2135556832\n",
      "118934.20289306641 191315.67575755133\n",
      "119259.1862475586 193050.5924885204\n",
      "120046.04978271485 193643.7692128551\n",
      "119913.76319335938 192480.5881664501\n",
      "120080.78846191407 194053.39618926807\n",
      "120347.25098632813 194774.03347292257\n",
      "120361.36862060547 195590.75215585134\n",
      "120200.17427978516 193717.37503524916\n",
      "120767.3187866211 194719.33997565\n",
      "120955.42263183594 195847.17889853465\n",
      "120219.72357666015 195215.68549814937\n",
      "119216.839296875 195807.3349981372\n",
      "117909.3960522461 192560.0017696228\n",
      "118829.37419921876 192846.24180053236\n",
      "120174.30534912109 194781.82738120112\n",
      "120537.92385253907 194276.05670694634\n",
      "122104.2460913086 196948.80752355562\n",
      "122221.7320654297 196952.71659265357\n",
      "121280.34503173828 196200.2473797342\n",
      "120627.030703125 194633.92260543958\n",
      "120471.72688476562 194398.01191782407\n",
      "121166.23557617188 192594.37590401972\n",
      "121348.98564941407 190199.63851089543\n",
      "120216.53372558593 187738.56079264183\n",
      "120348.22715332032 188190.42742175842\n",
      "120251.68124511719 188799.90640935852\n",
      "121347.80716308593 190969.91926150816\n",
      "119637.15602050781 187553.33727823212\n",
      "119982.40846191406 187744.4144450038\n",
      "119495.44094238282 186838.32701698953\n",
      "120696.45685546874 187874.52675437086\n",
      "120867.16319335937 188620.71408932155\n",
      "121290.60317382813 187866.01953867578\n",
      "120246.05224609375 186845.6932846291\n",
      "122751.0898828125 188480.61672010078\n",
      "121992.47350097656 186535.072038383\n",
      "122435.71935546875 188151.539155364\n",
      "121844.246171875 188751.51206789067\n",
      "120269.27992675781 188288.80281465396\n",
      "120904.71192382813 188098.2805135094\n",
      "118415.55762451171 186732.90513068603\n",
      "116562.73344726562 184277.4512896868\n",
      "117714.94377929688 184130.55308891338\n",
      "119500.71629638672 184837.85743142857\n",
      "120289.86479736328 185945.1010973135\n",
      "119269.04415283204 181814.58957196536\n",
      "119782.72818115234 181946.98092883895\n",
      "120457.714609375 182611.98325811024\n",
      "122165.58117675781 185961.7661362854\n",
      "122722.93618896484 185628.30434054052\n",
      "121649.71324951173 183658.02838873112\n",
      "122252.43692138672 183212.32033468937\n",
      "122619.08234619141 183557.10408433608\n",
      "122679.78685546874 183718.897725856\n",
      "122138.63590820313 181909.93959342744\n",
      "120352.74814941407 178937.08493919522\n",
      "121184.39679199219 180423.26644795964\n",
      "121214.05418457031 179764.31700596114\n",
      "122232.990390625 181522.3580558597\n",
      "122404.8471142578 182071.7975842915\n",
      "121935.47807128906 181067.85512405194\n",
      "122112.10467285156 180245.73370645064\n",
      "121282.07331542969 179088.22419343432\n",
      "121480.81789794922 180596.92301291192\n",
      "121184.4405102539 179292.05316715935\n",
      "119730.64802734375 176380.75656342917\n",
      "118872.50697998046 175409.87697471073\n",
      "118621.13890625 174529.97501870364\n",
      "116641.02955078126 172425.40863134965\n",
      "114837.34808105469 169151.14338352124\n",
      "112126.45263183594 165420.69555528442\n",
      "114566.88160888672 169770.79140465567\n",
      "115192.41510986329 172222.17053973538\n",
      "114368.31680908203 170454.6768308511\n",
      "115857.42047607421 172345.41633021506\n",
      "117988.5578930664 176577.9235025552\n",
      "118881.78458740235 178091.84139313755\n",
      "118530.5673071289 176979.62513172493\n",
      "119334.4794116211 179026.87789879102\n",
      "118202.32482666016 178361.3186377449\n",
      "117795.02803955079 177080.6051030759\n",
      "117352.3197631836 176543.99321145844\n",
      "118250.46203857422 178044.8057193136\n",
      "118692.75166015625 176942.1145968637\n",
      "117314.97809082031 172679.48243436083\n",
      "115625.61900146485 169994.84435890272\n",
      "114282.18572998047 168112.16294681458\n",
      "114628.60278076172 169202.61670182514\n",
      "115141.1857421875 169344.41617825336\n",
      "115129.73324707031 168102.3637566341\n",
      "115169.01149902344 168422.54671075646\n",
      "114422.07380859375 167283.81864069577\n",
      "114117.15817382812 165943.32307251033\n",
      "113979.4991015625 165462.13109696496\n",
      "111961.86427734375 162258.86020634984\n",
      "112790.84498535156 166756.8914850145\n",
      "114678.70012695313 168435.97606264072\n",
      "115263.62656738282 167933.4855907572\n",
      "115324.3471484375 169159.34497349846\n",
      "113933.0451953125 167580.32682854516\n",
      "113452.38558105468 166936.34378583214\n",
      "113760.98697265625 166994.36827232037\n",
      "113879.25451660156 166510.01298234586\n",
      "113025.17198242187 164571.77184633358\n",
      "113052.96563964844 164364.59084104875\n",
      "112488.10364746094 163435.37150064082\n",
      "111126.38143554688 162203.35852073669\n",
      "110122.27193359374 160724.94965885225\n",
      "107305.63048828125 156880.16159040717\n",
      "109242.30076171875 160135.76068044142\n",
      "110842.5234765625 162913.30401491473\n",
      "112560.18079589844 165445.08744986245\n",
      "112711.92444335937 165452.70682731146\n",
      "113445.60506835938 166161.62754539461\n",
      "113699.194453125 167348.65280881606\n",
      "114952.79858886718 168663.467751974\n",
      "114514.6335205078 167343.1926402016\n",
      "113805.91743652344 165258.94717756132\n",
      "113155.04469726562 163993.2671409525\n",
      "112836.90416015625 163472.30621173253\n",
      "113411.05492675782 164440.66448926655\n",
      "114098.51806640625 164826.22566744074\n",
      "111709.339140625 160547.37120364018\n",
      "111693.3668359375 160216.94718727036\n",
      "111269.92438476562 158749.85161502982\n",
      "111943.65123046875 159876.7475625703\n",
      "112243.48333984375 159706.66998180503\n",
      "112132.11229492187 159832.53347553164\n",
      "112758.91073730469 160086.7059960559\n",
      "112004.03853515624 159044.53823745158\n",
      "110990.3476953125 157463.4190827424\n",
      "111450.35157714844 157759.89674337103\n",
      "110092.16376953125 155256.77347025843\n",
      "108648.99174316406 153972.69228223612\n",
      "110286.27404296875 156684.36893532428\n",
      "108587.228046875 151308.31847451982\n",
      "107523.160859375 149919.83255953732\n",
      "109781.70337402343 153353.27913484056\n",
      "109554.57107910156 153460.58977760293\n",
      "108064.85831054687 151048.124425962\n",
      "106471.8168359375 148926.26413483234\n",
      "105382.96602050781 148073.63660153255\n",
      "104783.18501464844 147218.1795099753\n",
      "105917.03498046874 149278.35196893552\n",
      "104832.03305664062 148614.9694735396\n",
      "103030.17189453125 146235.15862968698\n",
      "99912.03491699218 141627.12674995334\n",
      "99604.28491699218 141167.10508830994\n",
      "97999.10430175782 138129.30273397846\n",
      "100149.13192382813 140640.18371189907\n",
      "101924.20598144531 142870.5490474298\n",
      "103944.18319824219 145335.71722205676\n",
      "103729.18398925781 144486.4050986806\n",
      "103729.18398925781 144486.4050986806\n",
      "103486.43398925781 143910.80747586137\n",
      "104861.96053710938 144949.46574270466\n",
      "103147.1373388672 141736.71705771063\n",
      "101594.35630859375 140076.4772876427\n",
      "100286.84692382812 139276.854176111\n",
      "102358.10460449218 141518.28020663283\n",
      "102883.1128466797 143254.95227197662\n",
      "103703.57268554688 144096.5116515699\n",
      "103850.66065429688 144365.69016444404\n",
      "103779.49065429688 144396.15947585303\n",
      "103943.80565429687 144504.60308560324\n",
      "100624.18090820312 137723.81109567505\n",
      "101792.34576171875 138326.97285844942\n",
      "101876.84576171875 138410.09169788362\n",
      "103207.74035644531 140118.35420167496\n",
      "104658.77881347656 141926.62671338458\n",
      "104512.55771972657 141802.79484994258\n",
      "101401.86943847657 137584.48208820948\n",
      "100139.12714355468 135831.55011164016\n",
      "100233.39745605469 135818.89744099774\n",
      "101155.27930175781 135623.7270357828\n",
      "100689.85674316407 134479.07778091336\n",
      "100425.37125488282 134082.7777264785\n",
      "100859.68184082031 134300.90580451564\n",
      "101474.96479003906 135730.41239582622\n",
      "102964.16280273437 136896.4460929246\n",
      "102928.03026367187 136903.2535173506\n",
      "103517.81743164062 138335.55118407507\n",
      "104402.75743164062 139311.03696544943\n",
      "104731.19174804687 139836.8094039932\n",
      "104665.37482421874 140130.88228160012\n",
      "104445.06268066406 138879.7447131722\n",
      "104702.79065429687 139971.8668213206\n",
      "105045.11397949219 140619.2458198566\n",
      "106139.38278320312 142089.7517978613\n",
      "105963.01884765625 142421.43594299423\n",
      "106887.47564941406 143765.24240915407\n",
      "106919.4878466797 144134.01959643766\n",
      "106181.64931152343 143665.77956866697\n",
      "104722.80127929688 141733.89220879463\n",
      "105180.7341796875 142148.44797896672\n",
      "104695.419609375 140926.5346340446\n",
      "103830.45867675781 139598.83069317325\n",
      "105519.5645361328 142207.16097028521\n",
      "106224.28392089844 143968.61722027903\n",
      "105453.56451660156 142588.88501803152\n",
      "105281.75234863281 142807.21827066207\n",
      "106174.89220703125 143795.27331243522\n",
      "106121.80994140625 143893.12896006662\n",
      "106656.15072753906 144518.1428693286\n",
      "105590.43353027344 142531.69497638417\n",
      "103372.90078125 139431.34286390344\n",
      "103604.68383789062 139101.00362600564\n",
      "102884.31535644531 138617.67324242563\n",
      "104355.75455566407 140911.64077333646\n",
      "104663.04532714844 141167.42676588494\n",
      "104611.12337890625 141084.1177268021\n",
      "103924.46272949218 139600.40832065186\n",
      "103454.0259765625 137972.07948255792\n",
      "102445.18979492187 136597.46365204826\n",
      "100236.92693359376 134122.94324909383\n",
      "100065.22030761719 133485.30779869505\n",
      "97856.89178222656 128427.2797899858\n",
      "99871.85532714844 131063.50789432404\n",
      "99551.97600585938 130156.38746471019\n",
      "100002.54400878906 130454.3686405473\n",
      "100140.47665527344 131600.78985132638\n",
      "98668.37504882812 130154.85925539942\n",
      "100917.42887207032 134035.2460228536\n",
      "101565.29705078126 135477.25286502016\n",
      "100095.34865234375 133531.81909413316\n",
      "101102.11974609375 135000.43218405632\n",
      "101147.06107421876 135133.02453489226\n",
      "102067.77475097656 136042.2287946514\n",
      "103489.8415625 137984.75107933208\n",
      "104218.93642578126 138814.36780618873\n",
      "103277.38895996094 137509.18986781224\n",
      "104037.55469726563 138408.45348347485\n",
      "102187.22943359375 134689.38435143314\n",
      "102323.49498046875 135263.26426773713\n",
      "102391.0773046875 134918.2319061841\n",
      "101542.59208984375 133791.0681964587\n",
      "97855.03209960938 129848.72076655345\n",
      "96912.60064453125 128272.89608122031\n",
      "95028.34384765624 126393.85352745363\n",
      "95144.62889648437 127335.08448543778\n",
      "95252.53950683594 127928.72378768191\n",
      "93596.36615234375 126095.08274010837\n",
      "94487.63921875 126772.39697123799\n",
      "91441.419140625 122951.0561909008\n",
      "90511.91436035157 123056.10254128322\n",
      "92647.52390625 125181.86755208262\n",
      "93994.86048339844 126119.74416207173\n",
      "94769.13442871094 126926.93832003041\n",
      "93566.03427246094 125146.87418655843\n",
      "91543.23801757813 121438.88867055245\n",
      "91045.44330566406 120909.8681627157\n",
      "90504.0106640625 120716.24513627846\n",
      "92452.78254882812 123374.64325169066\n",
      "90048.58838867188 120962.68097933364\n",
      "91602.54740234376 123499.69470213677\n",
      "91888.13487792968 123972.21340662443\n",
      "91035.05026855468 123317.04220790802\n",
      "90034.58229003906 122795.86971302953\n",
      "90811.12857910157 123695.08851177059\n",
      "90705.73725097656 123678.89365442799\n",
      "89976.02497558594 122631.02223110356\n",
      "90998.41237304687 122952.17681036248\n",
      "91337.765703125 123396.225923676\n",
      "92272.89626464844 124877.69263105186\n",
      "92787.80235839843 125744.27275092441\n",
      "92561.12090820313 125791.29684889228\n",
      "93068.51444824219 125874.2777758217\n",
      "93423.71041015624 126442.04372760191\n",
      "93484.07965332031 127064.74210908948\n",
      "94344.13486816407 129278.51871866957\n",
      "95476.66843261718 131018.70411721882\n",
      "95594.86876953125 131840.27300931056\n",
      "94737.62446777344 130173.77489267873\n",
      "95658.85544921875 131508.0462576418\n",
      "95704.83526367188 131624.42788222563\n",
      "96787.98137695313 133890.1609383891\n",
      "97626.80449707032 135264.7794006321\n",
      "98529.84647949219 136856.07751786013\n",
      "97970.57668945313 135582.8469891854\n",
      "99698.6478173828 137819.51915635463\n",
      "99721.01790527343 137714.85674734233\n",
      "99802.01706054687 137893.24119582635\n",
      "99379.77891113282 136898.84676411218\n",
      "98863.97996582031 136332.31487629292\n",
      "98168.64958007813 135175.68126867551\n",
      "97057.89252441406 133345.3624332959\n",
      "95637.93038574219 130289.6460632243\n",
      "96529.69670898438 131118.43946405998\n",
      "97706.09287597657 133276.6488040392\n",
      "97737.8900390625 133411.3388826758\n",
      "95883.65153808593 131904.7891097745\n",
      "96907.44811035156 133273.974018572\n",
      "98274.24098144531 136889.91752897113\n",
      "95828.82304199219 133707.99737152192\n",
      "95713.3973828125 133368.55828139183\n",
      "95364.60543457032 132100.93936611016\n",
      "95966.4491357422 133100.2540956595\n",
      "94684.9933203125 131856.9539647246\n",
      "95195.80960449218 132316.6550727923\n",
      "97367.56895019532 136294.0293176272\n",
      "95913.72451171876 135089.5357126875\n",
      "95886.09267578126 134790.17766130104\n",
      "94842.77893554687 133115.48581707984\n",
      "93481.15711914063 131527.91973342208\n",
      "94571.91920898437 132850.425421138\n",
      "93775.14131347656 131927.80074848776\n",
      "93880.44954589843 133296.9223168415\n",
      "91924.75890136718 131331.27847031507\n",
      "88766.19150878907 127367.0551510216\n",
      "89272.4533203125 127555.68419532693\n",
      "86726.97014648438 123975.14769639046\n",
      "86997.62765625 125462.00441445464\n",
      "85913.13854003906 123836.53071164615\n",
      "87673.30564941406 125708.9657473096\n",
      "87503.19733886719 127313.11899193277\n",
      "88482.77887695312 128576.50339004246\n",
      "88164.14759765625 128041.46902255087\n",
      "86331.2426220703 127043.1169757748\n",
      "86650.41311523438 126780.16147721894\n",
      "84704.73662597657 124322.98557113702\n",
      "86831.22831542969 125861.18163849224\n",
      "86986.45888671876 126629.29776513898\n",
      "88645.29022949218 128291.94015953994\n",
      "88181.10224121093 128111.29481069876\n",
      "87361.33243164062 126024.16611427985\n",
      "86968.35138183594 126530.8722445312\n",
      "87645.08380859374 128327.28402452094\n",
      "87360.6266845703 128398.17461674489\n",
      "87325.47795410156 129495.74572638646\n",
      "89313.7067626953 131951.8323171528\n",
      "89490.4951171875 131842.39623103105\n",
      "89861.07976074218 132993.14862457098\n",
      "91352.8944140625 135697.806365162\n",
      "91590.96371582031 134571.90187741892\n",
      "90830.53040039062 133807.73765048347\n",
      "91730.91454101562 134382.1542118605\n",
      "92834.437265625 136501.0759833448\n",
      "93291.27206054688 136798.63321290095\n",
      "94879.61102050781 140976.66298809426\n",
      "94341.55757324219 140068.1112325964\n",
      "97227.95303710937 144219.04488743123\n",
      "98304.15018066406 146908.0249344345\n",
      "98668.53730957031 146203.46903230864\n",
      "98638.7084375 146929.33326039906\n",
      "97679.67771972656 145403.83782134694\n",
      "97233.8491796875 144511.18896863406\n",
      "96385.966484375 142717.9215254202\n",
      "95501.88947753907 141176.46765757358\n",
      "96296.14806640625 142890.2900300283\n",
      "96868.40521972656 143056.07436282746\n",
      "97000.95236328125 143895.63797650422\n",
      "96000.46890625 142415.48745469624\n",
      "97016.02448242187 142943.64401680173\n",
      "97908.06883789062 144806.09371526368\n",
      "97803.53107910157 143676.73449657374\n",
      "96359.30097167968 141726.11226081435\n",
      "96082.94778320313 140236.9536087788\n",
      "95090.22234375 138894.87016957777\n",
      "95136.10400390625 139065.4536652966\n",
      "94682.49444335938 137482.624937927\n",
      "95069.95286132813 136570.32173060035\n",
      "94580.18979980469 135341.92792098332\n",
      "94557.69727539063 134752.4421881898\n",
      "95761.1880419922 136994.79738340044\n",
      "94447.14441894532 134829.9958501078\n",
      "94214.58823730469 134917.597154282\n",
      "93855.21925292969 133763.4323101852\n",
      "93145.73303710937 132851.08909392808\n",
      "93564.68916503906 132827.3299668537\n",
      "94801.6001513672 134022.5729795387\n",
      "93377.8515234375 131932.71627038467\n",
      "93660.49590332032 132457.24511971456\n",
      "94611.18698730468 133723.91325587913\n",
      "93347.62930175781 132651.7761539735\n",
      "91525.04908691406 130602.73268087556\n",
      "90166.72592285156 129455.4054526154\n",
      "89863.9237451172 128438.07286133849\n",
      "89716.2222265625 127924.53981355365\n",
      "89752.68798339844 127710.92215064722\n",
      "90273.16457519532 128145.2377824339\n",
      "92923.24229980468 132202.23156032708\n",
      "92784.70956054688 131809.56709773678\n",
      "93482.09701660156 133153.6655647876\n",
      "93590.15488769532 132784.28125625834\n",
      "94256.50323242188 133749.90951984646\n",
      "94959.36148925782 134576.14557331975\n",
      "94168.0784765625 132599.6300352158\n",
      "94111.02045898438 132784.6439630155\n",
      "94473.195703125 133303.08815938485\n",
      "94726.73083984375 133656.65862410533\n",
      "95277.5293798828 134520.2664222383\n",
      "96143.04907226562 136348.65809731148\n",
      "97031.25875 137934.5223471473\n",
      "96042.01706542968 136880.5990480325\n",
      "95960.0614404297 136496.73492920338\n",
      "96370.08141601563 137612.8219521965\n",
      "96528.45202148438 137202.5708233836\n",
      "96633.44088378907 136811.80492428876\n",
      "96051.16927734375 135788.88653077808\n",
      "96398.84945800781 137345.05813807773\n",
      "97166.51161132813 138258.57982400426\n",
      "96987.485234375 138093.67029132656\n",
      "97012.77643066406 138170.18698036295\n",
      "96041.26436523437 136472.03877824912\n",
      "96451.3644921875 136925.05524706843\n",
      "95130.09610839844 135747.96569656587\n",
      "96803.48590332031 138505.34439552433\n",
      "96224.57958007812 136987.99584877404\n",
      "96763.04981445313 137266.67001052745\n",
      "97431.22778320312 138484.39201843983\n",
      "95892.75927734375 136136.75192612445\n",
      "96565.83280273438 136504.0940626739\n",
      "95868.05356933594 135573.90385346327\n",
      "95016.21846679687 134171.2998838934\n",
      "95228.75879394531 135085.06618840576\n",
      "96258.08639648437 136356.2976942532\n",
      "96930.57047363282 137945.44027980237\n",
      "97525.09262695312 140030.3144162964\n",
      "97760.14393066407 140756.2323172181\n",
      "95881.7298486328 136346.43141041885\n",
      "95332.9446923828 134480.2893518226\n",
      "94039.19454101562 133184.28789778374\n",
      "94435.82048828126 134115.32506192682\n",
      "91955.37777832031 131260.8240386093\n",
      "92938.27106445312 132486.05656434564\n",
      "92698.0996923828 132947.06726956507\n",
      "92828.29875 131844.00498738477\n",
      "92691.15092285156 131221.5407667874\n",
      "93518.98743652344 131923.820857866\n",
      "93859.88098144531 133127.25860333187\n",
      "93922.34436523437 133879.43456861723\n",
      "93246.0870703125 132039.3305804081\n",
      "93522.27872558594 132463.24575588503\n",
      "94559.56208496094 133418.71048771212\n",
      "95176.80349121094 134253.7602964607\n",
      "95528.00819335938 133866.2781885234\n",
      "96751.79692871094 135806.28221111096\n",
      "96668.50714355469 135685.97692239712\n",
      "97246.71695800782 135371.1465029628\n",
      "97694.27984863281 137059.5367826232\n",
      "96607.825703125 135272.41259820145\n",
      "97008.85556640624 135546.3814978774\n",
      "97928.91498535156 137777.53642622993\n",
      "99483.455078125 141123.57630245367\n",
      "99433.79703125 139584.80009782998\n",
      "100015.1628125 140830.283998847\n",
      "100860.58130859376 141634.2310445668\n",
      "101123.05488769531 142060.77003730126\n",
      "101020.61740234375 142484.59955118192\n",
      "101131.680546875 141796.87758437076\n",
      "100477.11208984375 140920.594711565\n",
      "98858.01664550781 137620.34314551068\n",
      "98387.67041992188 137424.00558174442\n",
      "97114.59818359376 134440.80028673873\n",
      "96757.31601074219 134245.8243088338\n",
      "96828.20400878906 134879.90758461913\n",
      "96998.84118652344 134911.27784974984\n",
      "98342.4209375 136496.93695042323\n",
      "97432.55728027344 134890.07306711815\n",
      "97600.3059765625 135088.07051415084\n",
      "97824.35185546875 134932.82039160037\n",
      "97511.978359375 134294.09918753334\n",
      "96902.29330078125 132851.16031253428\n",
      "96795.3928466797 132006.0381727336\n",
      "95970.48529296875 131293.7730694052\n",
      "96096.58746582031 131689.2359599935\n",
      "95834.37083496094 131572.4266337294\n",
      "96303.21004882813 132516.87173485835\n",
      "96842.77500976562 133146.7582912414\n",
      "96854.66083984375 132652.4116328318\n",
      "97929.31082519531 134198.14726800114\n",
      "98482.38495605468 135515.98610903934\n",
      "98244.06812988281 135002.09999198013\n",
      "97039.249296875 133249.57799657178\n",
      "96327.39654785156 132149.88077760508\n",
      "96533.33134277344 132669.9832202141\n",
      "96206.37545898437 132560.52867589705\n",
      "96341.48330078126 132484.14081158114\n",
      "97558.01327148438 134326.70688585463\n",
      "98511.8349609375 135091.31045497686\n",
      "98914.69818359375 136638.5605118859\n",
      "99036.65379394531 136348.98695049106\n",
      "99507.786796875 137622.27371891303\n",
      "99152.90443847656 136869.2575411878\n",
      "99135.52230957031 136589.93783324628\n",
      "98497.108671875 135314.32364917317\n",
      "98051.60813476563 134568.88547640343\n",
      "98632.5370263672 135170.6698593146\n",
      "98460.8371484375 134426.16476777886\n",
      "98316.05287597656 133555.0114154461\n",
      "97313.97933105468 131837.6043160817\n",
      "97674.36492675781 132668.2698061154\n",
      "96111.70061523438 130597.40021675818\n",
      "96386.49837890625 131346.8019521954\n",
      "96288.44130859376 130998.56818787857\n",
      "94998.30668945312 127918.07831115008\n",
      "93860.04859863281 126996.84207198214\n",
      "94728.1490625 127659.74520261442\n",
      "96028.17762695313 130388.53716714236\n",
      "95287.18152832032 129286.1110536754\n",
      "94947.57975585938 128552.59710272039\n",
      "93715.28832519532 126891.97611599742\n",
      "92790.97270019531 125093.44727108702\n",
      "92906.83971191406 124574.84597005609\n",
      "94096.73848144531 125151.56926719478\n",
      "94674.35713867187 125816.35574382446\n",
      "95399.877890625 127633.08171293719\n",
      "96487.12114257812 129051.72623538949\n",
      "95937.72799804687 128077.06982365425\n",
      "95791.03076171875 128782.38041395179\n",
      "95755.686484375 129629.34722237987\n",
      "95864.06369628906 129251.53309572849\n",
      "96632.64841308593 131177.39570853545\n",
      "97277.79904785156 134755.02122134855\n",
      "98597.61250976562 137860.6604493191\n",
      "95794.09156738281 133712.64497903362\n",
      "95581.43385253906 130900.40032644806\n",
      "95690.717734375 130808.5092645599\n",
      "97445.25052246093 132593.69452877308\n",
      "98628.91478027344 133763.097945129\n",
      "97233.18512695312 131272.57506428595\n",
      "97209.66430664062 131737.0274299363\n",
      "97443.52727050781 131136.33405650227\n",
      "96583.03334960938 128597.40935446367\n",
      "96625.95182128907 129611.52699717502\n",
      "97327.90782714843 130970.34999556211\n",
      "98026.49770507813 131822.2639621796\n",
      "98238.29201171875 131676.1559776535\n",
      "97601.3422314453 129875.80779494293\n",
      "94981.684453125 126228.99451027263\n",
      "94541.30802246094 126032.52228899712\n",
      "93753.94609375 124649.22457650978\n",
      "93912.1159765625 124699.9833059646\n",
      "94123.326953125 125402.69519353709\n",
      "93373.6953125 123587.79752707935\n",
      "94246.4329736328 125531.70986461853\n",
      "94328.177265625 126131.91652283909\n",
      "95728.72539550782 127568.10557653857\n",
      "95874.48094238281 127032.6283286603\n",
      "96260.69104003906 128372.01043910296\n",
      "96133.3392578125 127700.66347561925\n",
      "95019.90462890625 125654.85136812975\n",
      "96561.94350097656 128497.02150530095\n",
      "96731.61508300781 129414.71645383663\n",
      "95942.43639160156 127493.60419879823\n",
      "94812.85400878906 125600.42135688668\n",
      "95292.88909667969 125591.48359522357\n",
      "95600.73125976563 125049.98450835637\n",
      "94781.49086425781 123901.14717353536\n",
      "94163.26459960938 122904.16524885822\n",
      "95838.61175292969 125327.00429247359\n",
      "96919.38998046875 127094.1270227889\n",
      "96613.86913085937 126770.24756908361\n",
      "96166.27400390625 125448.05738137939\n",
      "95988.31161621094 125136.98315485838\n",
      "93770.81696289062 121572.8262242533\n",
      "93339.51477539062 120768.55742473449\n",
      "92905.1321044922 119375.92974878426\n",
      "91762.56091308594 118219.48222567805\n",
      "92065.69646972656 118064.89119354209\n",
      "89366.62498046875 114981.99323515246\n",
      "89481.3892919922 116252.1460422377\n",
      "89883.61663085938 116737.4466053337\n",
      "89283.43363769531 115456.32666540508\n",
      "90669.87479980469 117286.76082759805\n",
      "91837.19018554688 118730.22836630179\n",
      "91051.38056640625 117795.51943667063\n",
      "90318.15604980469 116446.7553646099\n",
      "90402.6781689453 116629.00211680026\n",
      "89935.65896972656 115074.45698874172\n",
      "88062.13359375 112826.34904150279\n",
      "86201.49962890625 110301.92009476172\n",
      "85876.8340673828 110105.87628259181\n",
      "86859.55467285156 112395.79966602942\n",
      "86877.38786132813 110586.75352983258\n",
      "84605.88078125 107998.18301732541\n",
      "84761.82352050781 107871.1783405076\n",
      "85798.32641601562 109475.96237104476\n",
      "84710.63079101563 107196.33703588632\n",
      "85347.5366748047 107416.18184342823\n",
      "86557.79995117188 109452.80117775708\n",
      "87623.94717773437 110559.3571677667\n",
      "92855.48716308594 118528.36359297977\n",
      "90797.9834375 114563.64102243807\n",
      "90510.78161132813 113986.06493185488\n",
      "90594.09961425781 113271.35261635679\n",
      "89478.575390625 111798.86669162301\n",
      "89180.82231445312 111761.54675424444\n",
      "90308.0719091797 113441.96869633846\n",
      "91568.68864257813 114635.27213659321\n",
      "91239.5635595703 114100.4257353099\n",
      "90927.64365234374 112937.71476944677\n",
      "91790.1386328125 114161.17245446167\n",
      "92585.06689453125 114737.7556422502\n",
      "92772.94227539063 114988.19648829242\n",
      "93086.7503564453 115519.96636171074\n",
      "92903.03451660156 114858.52212259547\n",
      "93008.20962402344 114273.21473333343\n",
      "93444.09633789063 115127.8184235543\n",
      "93029.81587402344 115215.89043051942\n",
      "93353.68330566406 114952.15753846464\n",
      "92678.46676269532 113518.00058789332\n",
      "93126.5075 114237.72188114272\n",
      "93163.95466796875 114219.33809429582\n",
      "93003.78584960937 113607.99001072599\n",
      "92852.09966308594 113511.95415198004\n",
      "93083.83674316407 113499.0312194926\n",
      "93403.91338378907 113299.06040691087\n",
      "93506.02474121093 112929.88382891867\n",
      "92758.48595703125 111694.55281083504\n",
      "93875.90046875 112732.36278546813\n",
      "94670.94727050781 114426.04689497309\n",
      "95107.24950195312 115009.12631316826\n",
      "95232.33919921875 115574.99139159045\n",
      "96460.46541992188 116653.3143272117\n",
      "95862.00069824219 115485.73033900779\n",
      "95388.9075390625 114968.82537501735\n",
      "95607.9969873047 115407.37341190557\n",
      "95407.37936035157 115770.1147897228\n",
      "96885.48635253907 117970.67727524434\n",
      "96875.19325683593 118596.53469365629\n",
      "95232.69982910156 116502.28622249517\n",
      "94397.25724609375 115677.50937716699\n",
      "93945.74000488281 114978.50596196973\n",
      "93417.16802246094 114192.99870143135\n",
      "93642.21682617188 114095.41291078902\n",
      "93259.43956542968 112925.125627819\n",
      "92751.4930859375 112419.67368615263\n",
      "92119.49116699219 111367.43525459417\n",
      "91651.87697753907 110799.59354688237\n",
      "90691.19506347657 109935.29306975087\n",
      "88170.062578125 106919.81063610104\n",
      "87868.89692382813 106485.75895057355\n",
      "88139.759921875 106891.32458872173\n",
      "87665.35349609375 106600.50261684874\n",
      "88282.1753515625 107147.9015367047\n",
      "87999.47091308594 106650.20446850263\n",
      "88367.92254882812 106631.40680798658\n",
      "88774.49203125 107108.92322598201\n",
      "89668.6471875 109133.1366798082\n",
      "89824.0737109375 110067.45810653536\n",
      "89948.7259375 110553.14038971082\n",
      "91410.5821484375 111084.21486452711\n",
      "93581.0612109375 114047.52437185799\n",
      "93073.9972265625 113624.062714233\n",
      "92268.9648828125 112149.05859069047\n",
      "93617.8597265625 113031.00381141275\n",
      "93632.591015625 112910.00065231134\n",
      "94021.342109375 113636.22033713413\n",
      "93018.8538671875 111900.91884416698\n",
      "93132.3516796875 112175.05854463816\n",
      "94961.5435546875 114280.56540893036\n",
      "95924.50572753906 114509.15520946929\n",
      "95150.0837890625 113669.34880481471\n",
      "95352.72035644531 113986.8328493149\n",
      "95193.99252929687 113217.00216663112\n",
      "95290.12425292969 112889.1481177159\n",
      "94239.33314941406 112377.23797323526\n",
      "93324.52929199219 111351.31763199004\n",
      "94130.615703125 111748.70722820054\n",
      "93322.4612890625 109985.65645724378\n",
      "93802.6973046875 110864.025998872\n",
      "93536.1252734375 110420.31019334393\n",
      "93434.7333203125 110194.5872709479\n",
      "93658.618984375 111067.98295808677\n",
      "94960.550625 113820.91492010895\n",
      "94364.9083203125 112666.46265300557\n",
      "94986.6932421875 114539.64712895674\n",
      "94948.3542578125 113876.78998365752\n",
      "95629.6333203125 113946.78944260531\n",
      "94507.3072265625 112206.8729381456\n",
      "95372.87671875 114112.15628157773\n",
      "94555.493984375 112995.72642224391\n",
      "94835.6752734375 113270.25201696837\n",
      "96393.7840625 114901.50363805343\n",
      "96327.7914453125 114636.03767121406\n",
      "96381.513125 115405.6830785604\n",
      "96476.4598046875 114448.16666609616\n",
      "96810.792890625 115493.17271504793\n",
      "96240.6373828125 114740.99094851509\n",
      "95596.846953125 114162.2487677136\n"
     ]
    }
   ],
   "source": [
    "for company in df_price:\n",
    "    print(df_price[company].mean(), df_price[company].std())\n",
    "    \n",
    "# 평균 빼고 표준편차로 나누기\n",
    "for company in df_price:\n",
    "    df_price[company] = (df_price[company][:] - df_price[company].mean()) / df_price[company].std()"
   ]
  },
  {
   "cell_type": "code",
   "execution_count": 31,
   "id": "581ee356",
   "metadata": {},
   "outputs": [],
   "source": [
    "df_price.to_pickle('../../fkl/price_normal.fkl')"
   ]
  },
  {
   "cell_type": "code",
   "execution_count": null,
   "id": "37e36b46",
   "metadata": {},
   "outputs": [],
   "source": [
    "# 마지막 가격 기준\n",
    "for company in df_price:\n",
    "    df_price[company] = df_price[company][:] / df_price[company][-1] * 100"
   ]
  },
  {
   "cell_type": "code",
   "execution_count": null,
   "id": "ebb91bd7",
   "metadata": {},
   "outputs": [],
   "source": []
  },
  {
   "cell_type": "code",
   "execution_count": null,
   "id": "10270735",
   "metadata": {},
   "outputs": [],
   "source": [
    "#PER, Dividend 범주형으로 바꾸기\n",
    "A = df_finance[\"PER\"].copy()\n",
    "\n",
    "for i in range(0,198):\n",
    "    if A[i] == 0:\n",
    "        A[i] = 0\n",
    "    elif A[i] > 0 and A[i]<=2.0:\n",
    "        A[i] = 1\n",
    "    elif A[i] > 2 and A[i]<=4.0:\n",
    "        A[i] = 2\n",
    "    elif A[i] >4.0:\n",
    "        A[i] = 3\n",
    "A\n",
    "df_finance[\"PER\"] = A\n",
    "df_finance\n"
   ]
  },
  {
   "cell_type": "code",
   "execution_count": null,
   "id": "9351442b",
   "metadata": {},
   "outputs": [],
   "source": [
    "A = df_finance[\"Dividend\"].copy()\n",
    "\n",
    "for i in range(0,198):\n",
    "    if A[i] == 0:\n",
    "        A[i] = 0\n",
    "    elif A[i] < 0 and A[i]>=-5.0:\n",
    "        A[i] = 1\n",
    "    elif A[i] < -5.0 and A[i]>=-6.0:\n",
    "        A[i] = 2\n",
    "    elif A[i] < -6.0:\n",
    "        A[i] = 3\n",
    "A\n",
    "df_finance[\"Dividend\"] = A\n",
    "df_finance"
   ]
  }
 ],
 "metadata": {
  "kernelspec": {
   "display_name": "Python 3",
   "language": "python",
   "name": "python3"
  },
  "language_info": {
   "codemirror_mode": {
    "name": "ipython",
    "version": 3
   },
   "file_extension": ".py",
   "mimetype": "text/x-python",
   "name": "python",
   "nbconvert_exporter": "python",
   "pygments_lexer": "ipython3",
   "version": "3.8.8"
  }
 },
 "nbformat": 4,
 "nbformat_minor": 5
}
